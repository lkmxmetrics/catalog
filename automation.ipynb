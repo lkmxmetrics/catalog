{
 "cells": [
  {
   "cell_type": "code",
   "execution_count": 1,
   "id": "32cf93e2",
   "metadata": {},
   "outputs": [],
   "source": [
    "import csv"
   ]
  },
  {
   "cell_type": "code",
   "execution_count": 2,
   "id": "1d4f1cf5",
   "metadata": {},
   "outputs": [],
   "source": [
    "data = open('inventory.csv')"
   ]
  },
  {
   "cell_type": "code",
   "execution_count": 3,
   "id": "a603d3d7",
   "metadata": {},
   "outputs": [],
   "source": [
    "csv_data = csv.reader(data)"
   ]
  },
  {
   "cell_type": "code",
   "execution_count": 4,
   "id": "fa40a9f0",
   "metadata": {},
   "outputs": [],
   "source": [
    "data_lines = list(csv_data)"
   ]
  },
  {
   "cell_type": "code",
   "execution_count": 5,
   "id": "b51f125a",
   "metadata": {},
   "outputs": [
    {
     "data": {
      "text/plain": [
       "'$15.00'"
      ]
     },
     "execution_count": 5,
     "metadata": {},
     "output_type": "execute_result"
    }
   ],
   "source": [
    "data_lines[10][5]"
   ]
  },
  {
   "cell_type": "code",
   "execution_count": null,
   "id": "d769da43",
   "metadata": {},
   "outputs": [],
   "source": []
  },
  {
   "cell_type": "code",
   "execution_count": 6,
   "id": "23a8b9d6",
   "metadata": {},
   "outputs": [
    {
     "data": {
      "text/plain": [
       "1136"
      ]
     },
     "execution_count": 6,
     "metadata": {},
     "output_type": "execute_result"
    }
   ],
   "source": [
    "len(data_lines)"
   ]
  },
  {
   "cell_type": "code",
   "execution_count": 7,
   "id": "574aba23",
   "metadata": {},
   "outputs": [
    {
     "name": "stdout",
     "output_type": "stream",
     "text": [
      "['3', 'Stoneforge Mystic', 'WWK', 'Rare', '$55.66', '$166.98', '', '']\n",
      "['2', 'Breeding Pool', 'RNA', 'Rare', '$22.99', '$45.98', '', '']\n",
      "['4', 'Aether Vial', 'IMA', 'Rare', '$40.99', '$163.96', '', '']\n",
      "['4', 'Flooded Strand', 'KTK', 'Rare', '$39.97', '$159.88', '', '']\n"
     ]
    }
   ],
   "source": [
    "for data in data_lines[1:5]:\n",
    "    print(data)"
   ]
  },
  {
   "cell_type": "code",
   "execution_count": 60,
   "id": "0ec1f4db",
   "metadata": {},
   "outputs": [],
   "source": [
    "old_costs = [] "
   ]
  },
  {
   "cell_type": "code",
   "execution_count": 61,
   "id": "0d7985fc",
   "metadata": {},
   "outputs": [],
   "source": [
    "for line in data_lines[1:5]:\n",
    "    old_costs.append(line[5])"
   ]
  },
  {
   "cell_type": "code",
   "execution_count": 62,
   "id": "5338655e",
   "metadata": {},
   "outputs": [
    {
     "data": {
      "text/plain": [
       "['$166.98', '$45.98', '$163.96', '$159.88']"
      ]
     },
     "execution_count": 62,
     "metadata": {},
     "output_type": "execute_result"
    }
   ],
   "source": [
    "old_costs"
   ]
  },
  {
   "cell_type": "code",
   "execution_count": 63,
   "id": "4d7f87a8",
   "metadata": {},
   "outputs": [],
   "source": [
    "new_costs = []"
   ]
  },
  {
   "cell_type": "code",
   "execution_count": 64,
   "id": "7748f86c",
   "metadata": {},
   "outputs": [],
   "source": [
    "for price in total_costs[:5]:\n",
    "    new_costs.append(price[1:])"
   ]
  },
  {
   "cell_type": "code",
   "execution_count": 65,
   "id": "0957865a",
   "metadata": {},
   "outputs": [
    {
     "data": {
      "text/plain": [
       "['166.98', '45.98', '163.96', '159.88']"
      ]
     },
     "execution_count": 65,
     "metadata": {},
     "output_type": "execute_result"
    }
   ],
   "source": [
    "new_costs"
   ]
  },
  {
   "cell_type": "code",
   "execution_count": null,
   "id": "4cb150a4",
   "metadata": {},
   "outputs": [],
   "source": []
  },
  {
   "cell_type": "code",
   "execution_count": null,
   "id": "03a48fc7",
   "metadata": {},
   "outputs": [],
   "source": []
  },
  {
   "cell_type": "code",
   "execution_count": null,
   "id": "51e7d5bd",
   "metadata": {},
   "outputs": [],
   "source": []
  },
  {
   "cell_type": "code",
   "execution_count": null,
   "id": "912fd550",
   "metadata": {},
   "outputs": [],
   "source": []
  },
  {
   "cell_type": "code",
   "execution_count": null,
   "id": "a7a118f1",
   "metadata": {},
   "outputs": [],
   "source": [
    "## overwrite file"
   ]
  },
  {
   "cell_type": "code",
   "execution_count": null,
   "id": "1e9f84fa",
   "metadata": {},
   "outputs": [],
   "source": [
    "file_to_output = open('to_save_file.csv',mode='w',newline='')"
   ]
  },
  {
   "cell_type": "code",
   "execution_count": null,
   "id": "bc91786e",
   "metadata": {},
   "outputs": [],
   "source": [
    "csv_writer = csv.writer(file_to_output,delimiter=',')"
   ]
  },
  {
   "cell_type": "code",
   "execution_count": null,
   "id": "e3dc3fcd",
   "metadata": {},
   "outputs": [],
   "source": [
    "csv_writer.writerow(['a','b','c'])"
   ]
  },
  {
   "cell_type": "code",
   "execution_count": null,
   "id": "e1d009a8",
   "metadata": {},
   "outputs": [],
   "source": [
    "csv_writer.writerow([['1','2','3'],['4','5','6']])"
   ]
  },
  {
   "cell_type": "code",
   "execution_count": null,
   "id": "e8b2c5d2",
   "metadata": {},
   "outputs": [],
   "source": [
    "## write to a new file"
   ]
  },
  {
   "cell_type": "code",
   "execution_count": null,
   "id": "004376a6",
   "metadata": {},
   "outputs": [],
   "source": [
    "file_to_output.close()"
   ]
  },
  {
   "cell_type": "code",
   "execution_count": null,
   "id": "d886191b",
   "metadata": {},
   "outputs": [],
   "source": [
    "f = open('to_save_file.csv',mode='a',newline='')"
   ]
  },
  {
   "cell_type": "code",
   "execution_count": null,
   "id": "91466cf1",
   "metadata": {},
   "outputs": [],
   "source": [
    "csv_writer = csv.writer(f)"
   ]
  },
  {
   "cell_type": "code",
   "execution_count": null,
   "id": "05976110",
   "metadata": {},
   "outputs": [],
   "source": [
    "csv_writer.writerow(['1','2','3'])"
   ]
  },
  {
   "cell_type": "code",
   "execution_count": null,
   "id": "a473d9d7",
   "metadata": {},
   "outputs": [],
   "source": [
    "f.close()"
   ]
  },
  {
   "cell_type": "code",
   "execution_count": null,
   "id": "690b84eb",
   "metadata": {},
   "outputs": [],
   "source": []
  },
  {
   "cell_type": "code",
   "execution_count": null,
   "id": "579dc0cc",
   "metadata": {},
   "outputs": [],
   "source": [
    "## strategies?"
   ]
  },
  {
   "cell_type": "code",
   "execution_count": null,
   "id": "bebf2121",
   "metadata": {},
   "outputs": [],
   "source": [
    "\n",
    "myList = [\"one\", \"two\", 37, \"four\", 51];\n",
    "for i, item in enumerate(myList):\n",
    "       if item == 37:\n",
    "            myList[i] = 48;\n",
    "print(myList);\n"
   ]
  },
  {
   "cell_type": "code",
   "execution_count": null,
   "id": "39c689ef",
   "metadata": {},
   "outputs": [],
   "source": [
    "\n",
    "old_string = 'h?ello, m?y? name? is ?nik!'\n",
    "new_string = old_string.replace('?', '')"
   ]
  }
 ],
 "metadata": {
  "kernelspec": {
   "display_name": "Python 3",
   "language": "python",
   "name": "python3"
  },
  "language_info": {
   "codemirror_mode": {
    "name": "ipython",
    "version": 3
   },
   "file_extension": ".py",
   "mimetype": "text/x-python",
   "name": "python",
   "nbconvert_exporter": "python",
   "pygments_lexer": "ipython3",
   "version": "3.8.8"
  }
 },
 "nbformat": 4,
 "nbformat_minor": 5
}
