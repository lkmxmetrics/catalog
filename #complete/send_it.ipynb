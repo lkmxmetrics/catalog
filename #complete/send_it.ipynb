{
 "cells": [
  {
   "cell_type": "code",
   "execution_count": 1,
   "metadata": {},
   "outputs": [],
   "source": [
    "import pandas as pd\n",
    "import pymysql"
   ]
  },
  {
   "cell_type": "code",
   "execution_count": null,
   "metadata": {},
   "outputs": [],
   "source": []
  },
  {
   "cell_type": "code",
   "execution_count": 14,
   "metadata": {},
   "outputs": [
    {
     "data": {
      "text/html": [
       "<div>\n",
       "<style scoped>\n",
       "    .dataframe tbody tr th:only-of-type {\n",
       "        vertical-align: middle;\n",
       "    }\n",
       "\n",
       "    .dataframe tbody tr th {\n",
       "        vertical-align: top;\n",
       "    }\n",
       "\n",
       "    .dataframe thead th {\n",
       "        text-align: right;\n",
       "    }\n",
       "</style>\n",
       "<table border=\"1\" class=\"dataframe\">\n",
       "  <thead>\n",
       "    <tr style=\"text-align: right;\">\n",
       "      <th></th>\n",
       "      <th>Name</th>\n",
       "      <th>Price</th>\n",
       "      <th>Set</th>\n",
       "      <th>Rarity</th>\n",
       "    </tr>\n",
       "  </thead>\n",
       "  <tbody>\n",
       "    <tr>\n",
       "      <th>0</th>\n",
       "      <td>Tabletop\\n$ 317</td>\n",
       "      <td>DECLINING CARDS\\n19▼</td>\n",
       "      <td>PRICE CHANGE\\n+0.93</td>\n",
       "      <td>RISING CARDS\\n23▲</td>\n",
       "    </tr>\n",
       "    <tr>\n",
       "      <th>1</th>\n",
       "      <td>Jace, the Mind Sculptor</td>\n",
       "      <td>69.39</td>\n",
       "      <td>WWK</td>\n",
       "      <td>Mythic</td>\n",
       "    </tr>\n",
       "    <tr>\n",
       "      <th>2</th>\n",
       "      <td>Stoneforge Mystic</td>\n",
       "      <td>48.97</td>\n",
       "      <td>WWK</td>\n",
       "      <td>Rare</td>\n",
       "    </tr>\n",
       "    <tr>\n",
       "      <th>3</th>\n",
       "      <td>Amulet of Vigor</td>\n",
       "      <td>22.53</td>\n",
       "      <td>WWK</td>\n",
       "      <td>Rare</td>\n",
       "    </tr>\n",
       "    <tr>\n",
       "      <th>4</th>\n",
       "      <td>Eye of Ugin</td>\n",
       "      <td>12.25</td>\n",
       "      <td>WWK</td>\n",
       "      <td>Mythic</td>\n",
       "    </tr>\n",
       "    <tr>\n",
       "      <th>...</th>\n",
       "      <td>...</td>\n",
       "      <td>...</td>\n",
       "      <td>...</td>\n",
       "      <td>...</td>\n",
       "    </tr>\n",
       "    <tr>\n",
       "      <th>23649</th>\n",
       "      <td>0.00</td>\n",
       "      <td>0.00%</td>\n",
       "      <td>0.00%</td>\n",
       "      <td>0.00</td>\n",
       "    </tr>\n",
       "    <tr>\n",
       "      <th>23650</th>\n",
       "      <td>0.00</td>\n",
       "      <td>0.00%</td>\n",
       "      <td>0.00%</td>\n",
       "      <td>0.00</td>\n",
       "    </tr>\n",
       "    <tr>\n",
       "      <th>23651</th>\n",
       "      <td>0.00</td>\n",
       "      <td>0.00%</td>\n",
       "      <td>0.00%</td>\n",
       "      <td>0.00</td>\n",
       "    </tr>\n",
       "    <tr>\n",
       "      <th>23652</th>\n",
       "      <td>0.00</td>\n",
       "      <td>0.00%</td>\n",
       "      <td>0.00%</td>\n",
       "      <td>0.00</td>\n",
       "    </tr>\n",
       "    <tr>\n",
       "      <th>23653</th>\n",
       "      <td>0.00</td>\n",
       "      <td>0.00%</td>\n",
       "      <td>0.00%</td>\n",
       "      <td>0.00</td>\n",
       "    </tr>\n",
       "  </tbody>\n",
       "</table>\n",
       "<p>23654 rows × 4 columns</p>\n",
       "</div>"
      ],
      "text/plain": [
       "                          Name                 Price                  Set  \\\n",
       "0              Tabletop\\n$ 317  DECLINING CARDS\\n19▼  PRICE CHANGE\\n+0.93   \n",
       "1      Jace, the Mind Sculptor                 69.39                  WWK   \n",
       "2            Stoneforge Mystic                 48.97                  WWK   \n",
       "3              Amulet of Vigor                 22.53                  WWK   \n",
       "4                  Eye of Ugin                 12.25                  WWK   \n",
       "...                        ...                   ...                  ...   \n",
       "23649                     0.00                 0.00%                0.00%   \n",
       "23650                     0.00                 0.00%                0.00%   \n",
       "23651                     0.00                 0.00%                0.00%   \n",
       "23652                     0.00                 0.00%                0.00%   \n",
       "23653                     0.00                 0.00%                0.00%   \n",
       "\n",
       "                  Rarity  \n",
       "0      RISING CARDS\\n23▲  \n",
       "1                 Mythic  \n",
       "2                   Rare  \n",
       "3                   Rare  \n",
       "4                 Mythic  \n",
       "...                  ...  \n",
       "23649               0.00  \n",
       "23650               0.00  \n",
       "23651               0.00  \n",
       "23652               0.00  \n",
       "23653               0.00  \n",
       "\n",
       "[23654 rows x 4 columns]"
      ]
     },
     "execution_count": 14,
     "metadata": {},
     "output_type": "execute_result"
    }
   ],
   "source": [
    "raw_csv_data = pd.read_csv('fulllist.csv')\n",
    "df = raw_csv_data.copy()\n",
    "df"
   ]
  },
  {
   "cell_type": "code",
   "execution_count": 6,
   "metadata": {},
   "outputs": [],
   "source": []
  },
  {
   "cell_type": "code",
   "execution_count": 18,
   "metadata": {
    "scrolled": true
   },
   "outputs": [
    {
     "data": {
      "text/html": [
       "<div>\n",
       "<style scoped>\n",
       "    .dataframe tbody tr th:only-of-type {\n",
       "        vertical-align: middle;\n",
       "    }\n",
       "\n",
       "    .dataframe tbody tr th {\n",
       "        vertical-align: top;\n",
       "    }\n",
       "\n",
       "    .dataframe thead th {\n",
       "        text-align: right;\n",
       "    }\n",
       "</style>\n",
       "<table border=\"1\" class=\"dataframe\">\n",
       "  <thead>\n",
       "    <tr style=\"text-align: right;\">\n",
       "      <th></th>\n",
       "      <th>Name</th>\n",
       "      <th>Price</th>\n",
       "      <th>Set</th>\n",
       "      <th>Rarity</th>\n",
       "    </tr>\n",
       "  </thead>\n",
       "  <tbody>\n",
       "    <tr>\n",
       "      <th>0</th>\n",
       "      <td>Tabletop\\n 317</td>\n",
       "      <td>DECLINING CARDS\\n19▼</td>\n",
       "      <td>PRICE CHANGE\\n0.93</td>\n",
       "      <td>RISING CARDS\\n23▲</td>\n",
       "    </tr>\n",
       "    <tr>\n",
       "      <th>1</th>\n",
       "      <td>Jace the Mind Sculptor</td>\n",
       "      <td>69.39</td>\n",
       "      <td>WWK</td>\n",
       "      <td>Mythic</td>\n",
       "    </tr>\n",
       "    <tr>\n",
       "      <th>2</th>\n",
       "      <td>Stoneforge Mystic</td>\n",
       "      <td>48.97</td>\n",
       "      <td>WWK</td>\n",
       "      <td>Rare</td>\n",
       "    </tr>\n",
       "    <tr>\n",
       "      <th>3</th>\n",
       "      <td>Amulet of Vigor</td>\n",
       "      <td>22.53</td>\n",
       "      <td>WWK</td>\n",
       "      <td>Rare</td>\n",
       "    </tr>\n",
       "    <tr>\n",
       "      <th>4</th>\n",
       "      <td>Eye of Ugin</td>\n",
       "      <td>12.25</td>\n",
       "      <td>WWK</td>\n",
       "      <td>Mythic</td>\n",
       "    </tr>\n",
       "    <tr>\n",
       "      <th>...</th>\n",
       "      <td>...</td>\n",
       "      <td>...</td>\n",
       "      <td>...</td>\n",
       "      <td>...</td>\n",
       "    </tr>\n",
       "    <tr>\n",
       "      <th>23649</th>\n",
       "      <td>0.00</td>\n",
       "      <td>0.00</td>\n",
       "      <td>0.00</td>\n",
       "      <td>0.00</td>\n",
       "    </tr>\n",
       "    <tr>\n",
       "      <th>23650</th>\n",
       "      <td>0.00</td>\n",
       "      <td>0.00</td>\n",
       "      <td>0.00</td>\n",
       "      <td>0.00</td>\n",
       "    </tr>\n",
       "    <tr>\n",
       "      <th>23651</th>\n",
       "      <td>0.00</td>\n",
       "      <td>0.00</td>\n",
       "      <td>0.00</td>\n",
       "      <td>0.00</td>\n",
       "    </tr>\n",
       "    <tr>\n",
       "      <th>23652</th>\n",
       "      <td>0.00</td>\n",
       "      <td>0.00</td>\n",
       "      <td>0.00</td>\n",
       "      <td>0.00</td>\n",
       "    </tr>\n",
       "    <tr>\n",
       "      <th>23653</th>\n",
       "      <td>0.00</td>\n",
       "      <td>0.00</td>\n",
       "      <td>0.00</td>\n",
       "      <td>0.00</td>\n",
       "    </tr>\n",
       "  </tbody>\n",
       "</table>\n",
       "<p>23654 rows × 4 columns</p>\n",
       "</div>"
      ],
      "text/plain": [
       "                         Name                 Price                 Set  \\\n",
       "0              Tabletop\\n 317  DECLINING CARDS\\n19▼  PRICE CHANGE\\n0.93   \n",
       "1      Jace the Mind Sculptor                 69.39                 WWK   \n",
       "2           Stoneforge Mystic                 48.97                 WWK   \n",
       "3             Amulet of Vigor                 22.53                 WWK   \n",
       "4                 Eye of Ugin                 12.25                 WWK   \n",
       "...                       ...                   ...                 ...   \n",
       "23649                    0.00                  0.00                0.00   \n",
       "23650                    0.00                  0.00                0.00   \n",
       "23651                    0.00                  0.00                0.00   \n",
       "23652                    0.00                  0.00                0.00   \n",
       "23653                    0.00                  0.00                0.00   \n",
       "\n",
       "                  Rarity  \n",
       "0      RISING CARDS\\n23▲  \n",
       "1                 Mythic  \n",
       "2                   Rare  \n",
       "3                   Rare  \n",
       "4                 Mythic  \n",
       "...                  ...  \n",
       "23649               0.00  \n",
       "23650               0.00  \n",
       "23651               0.00  \n",
       "23652               0.00  \n",
       "23653               0.00  \n",
       "\n",
       "[23654 rows x 4 columns]"
      ]
     },
     "execution_count": 18,
     "metadata": {},
     "output_type": "execute_result"
    }
   ],
   "source": [
    "df.Name = df.Name.str.replace(\"[!@#$%^&*,/'-+=]\", '')\n",
    "df.Price = df.Price.str.replace(\"[!@#$%^&*,/'-+=]\", '')\n",
    "df.Set = df.Set.str.replace(\"[!@#$%^&*,/'-+=]\", '')\n",
    "df.Rarity = df.Rarity.str.replace(\"[!@#$%^&*,/'-+=]\", '')\n",
    "df"
   ]
  },
  {
   "cell_type": "code",
   "execution_count": 20,
   "metadata": {},
   "outputs": [],
   "source": [
    "df = df.drop_duplicates(subset=['Name','Set'], keep='first')"
   ]
  },
  {
   "cell_type": "code",
   "execution_count": 22,
   "metadata": {},
   "outputs": [],
   "source": [
    "df = df.loc[df['Price'].str.contains(r'[^\\x00-\\x7F]+') == False]"
   ]
  },
  {
   "cell_type": "code",
   "execution_count": 27,
   "metadata": {},
   "outputs": [],
   "source": [
    "df = df[df.Rarity.str.isalpha()]\n"
   ]
  },
  {
   "cell_type": "code",
   "execution_count": 29,
   "metadata": {},
   "outputs": [
    {
     "data": {
      "text/html": [
       "<div>\n",
       "<style scoped>\n",
       "    .dataframe tbody tr th:only-of-type {\n",
       "        vertical-align: middle;\n",
       "    }\n",
       "\n",
       "    .dataframe tbody tr th {\n",
       "        vertical-align: top;\n",
       "    }\n",
       "\n",
       "    .dataframe thead th {\n",
       "        text-align: right;\n",
       "    }\n",
       "</style>\n",
       "<table border=\"1\" class=\"dataframe\">\n",
       "  <thead>\n",
       "    <tr style=\"text-align: right;\">\n",
       "      <th></th>\n",
       "      <th>Name</th>\n",
       "      <th>Price</th>\n",
       "      <th>Set</th>\n",
       "      <th>Rarity</th>\n",
       "    </tr>\n",
       "  </thead>\n",
       "  <tbody>\n",
       "    <tr>\n",
       "      <th>0</th>\n",
       "      <td>Jace the Mind Sculptor</td>\n",
       "      <td>69.39</td>\n",
       "      <td>WWK</td>\n",
       "      <td>Mythic</td>\n",
       "    </tr>\n",
       "    <tr>\n",
       "      <th>1</th>\n",
       "      <td>Stoneforge Mystic</td>\n",
       "      <td>48.97</td>\n",
       "      <td>WWK</td>\n",
       "      <td>Rare</td>\n",
       "    </tr>\n",
       "    <tr>\n",
       "      <th>2</th>\n",
       "      <td>Amulet of Vigor</td>\n",
       "      <td>22.53</td>\n",
       "      <td>WWK</td>\n",
       "      <td>Rare</td>\n",
       "    </tr>\n",
       "    <tr>\n",
       "      <th>3</th>\n",
       "      <td>Eye of Ugin</td>\n",
       "      <td>12.25</td>\n",
       "      <td>WWK</td>\n",
       "      <td>Mythic</td>\n",
       "    </tr>\n",
       "    <tr>\n",
       "      <th>4</th>\n",
       "      <td>Quest for Ulas Temple</td>\n",
       "      <td>11.99</td>\n",
       "      <td>WWK</td>\n",
       "      <td>Rare</td>\n",
       "    </tr>\n",
       "    <tr>\n",
       "      <th>...</th>\n",
       "      <td>...</td>\n",
       "      <td>...</td>\n",
       "      <td>...</td>\n",
       "      <td>...</td>\n",
       "    </tr>\n",
       "    <tr>\n",
       "      <th>3125</th>\n",
       "      <td>Seeds of Strength</td>\n",
       "      <td>0.20</td>\n",
       "      <td>RAV</td>\n",
       "      <td>Common</td>\n",
       "    </tr>\n",
       "    <tr>\n",
       "      <th>3126</th>\n",
       "      <td>Sewerdreg</td>\n",
       "      <td>0.20</td>\n",
       "      <td>RAV</td>\n",
       "      <td>Common</td>\n",
       "    </tr>\n",
       "    <tr>\n",
       "      <th>3127</th>\n",
       "      <td>Siege Wurm</td>\n",
       "      <td>0.20</td>\n",
       "      <td>RAV</td>\n",
       "      <td>Common</td>\n",
       "    </tr>\n",
       "    <tr>\n",
       "      <th>3128</th>\n",
       "      <td>Sparkmage Apprentice</td>\n",
       "      <td>0.20</td>\n",
       "      <td>RAV</td>\n",
       "      <td>Common</td>\n",
       "    </tr>\n",
       "    <tr>\n",
       "      <th>3129</th>\n",
       "      <td>Vedalken Entrancer</td>\n",
       "      <td>0.20</td>\n",
       "      <td>RAV</td>\n",
       "      <td>Common</td>\n",
       "    </tr>\n",
       "  </tbody>\n",
       "</table>\n",
       "<p>3130 rows × 4 columns</p>\n",
       "</div>"
      ],
      "text/plain": [
       "                        Name  Price  Set  Rarity\n",
       "0     Jace the Mind Sculptor  69.39  WWK  Mythic\n",
       "1          Stoneforge Mystic  48.97  WWK    Rare\n",
       "2            Amulet of Vigor  22.53  WWK    Rare\n",
       "3                Eye of Ugin  12.25  WWK  Mythic\n",
       "4      Quest for Ulas Temple  11.99  WWK    Rare\n",
       "...                      ...    ...  ...     ...\n",
       "3125       Seeds of Strength   0.20  RAV  Common\n",
       "3126               Sewerdreg   0.20  RAV  Common\n",
       "3127              Siege Wurm   0.20  RAV  Common\n",
       "3128    Sparkmage Apprentice   0.20  RAV  Common\n",
       "3129      Vedalken Entrancer   0.20  RAV  Common\n",
       "\n",
       "[3130 rows x 4 columns]"
      ]
     },
     "execution_count": 29,
     "metadata": {},
     "output_type": "execute_result"
    }
   ],
   "source": [
    "df = df.reset_index(drop=True)\n",
    "df"
   ]
  },
  {
   "cell_type": "code",
   "execution_count": 29,
   "metadata": {},
   "outputs": [],
   "source": [
    "#df.to_csv(r'fulllist.csv',index=False, header=True)\n"
   ]
  },
  {
   "cell_type": "code",
   "execution_count": 8,
   "metadata": {},
   "outputs": [
    {
     "data": {
      "text/plain": [
       "22376"
      ]
     },
     "execution_count": 8,
     "metadata": {},
     "output_type": "execute_result"
    }
   ],
   "source": [
    "len(df['Name'])"
   ]
  },
  {
   "cell_type": "code",
   "execution_count": null,
   "metadata": {},
   "outputs": [],
   "source": []
  },
  {
   "cell_type": "code",
   "execution_count": 30,
   "metadata": {},
   "outputs": [],
   "source": [
    "send_it = df"
   ]
  },
  {
   "cell_type": "code",
   "execution_count": 31,
   "metadata": {},
   "outputs": [],
   "source": [
    "conn = pymysql.connect(database = 'magic', user = 'root', password = '')\n",
    "cursor = conn.cursor()"
   ]
  },
  {
   "cell_type": "code",
   "execution_count": 32,
   "metadata": {},
   "outputs": [
    {
     "data": {
      "text/plain": [
       "0"
      ]
     },
     "execution_count": 32,
     "metadata": {},
     "output_type": "execute_result"
    }
   ],
   "source": [
    "cursor.execute('SELECT * FROM all_cards;')"
   ]
  },
  {
   "cell_type": "code",
   "execution_count": null,
   "metadata": {},
   "outputs": [],
   "source": []
  },
  {
   "cell_type": "code",
   "execution_count": 33,
   "metadata": {
    "scrolled": true
   },
   "outputs": [
    {
     "data": {
      "text/plain": [
       "(3130, 4)"
      ]
     },
     "execution_count": 33,
     "metadata": {},
     "output_type": "execute_result"
    }
   ],
   "source": [
    "send_it.shape"
   ]
  },
  {
   "cell_type": "code",
   "execution_count": 8,
   "metadata": {},
   "outputs": [
    {
     "data": {
      "text/plain": [
       "'Rare'"
      ]
     },
     "execution_count": 8,
     "metadata": {},
     "output_type": "execute_result"
    }
   ],
   "source": [
    "send_it[send_it.columns.values[3]][0]"
   ]
  },
  {
   "cell_type": "code",
   "execution_count": 33,
   "metadata": {
    "scrolled": false
   },
   "outputs": [
    {
     "data": {
      "text/html": [
       "<div>\n",
       "<style scoped>\n",
       "    .dataframe tbody tr th:only-of-type {\n",
       "        vertical-align: middle;\n",
       "    }\n",
       "\n",
       "    .dataframe tbody tr th {\n",
       "        vertical-align: top;\n",
       "    }\n",
       "\n",
       "    .dataframe thead th {\n",
       "        text-align: right;\n",
       "    }\n",
       "</style>\n",
       "<table border=\"1\" class=\"dataframe\">\n",
       "  <thead>\n",
       "    <tr style=\"text-align: right;\">\n",
       "      <th></th>\n",
       "      <th>Name</th>\n",
       "      <th>Price</th>\n",
       "      <th>Set</th>\n",
       "      <th>Rarity</th>\n",
       "    </tr>\n",
       "  </thead>\n",
       "  <tbody>\n",
       "    <tr>\n",
       "      <th>1</th>\n",
       "      <td>Jace the Mind Sculptor</td>\n",
       "      <td>69.39</td>\n",
       "      <td>WWK</td>\n",
       "      <td>Mythic</td>\n",
       "    </tr>\n",
       "    <tr>\n",
       "      <th>2</th>\n",
       "      <td>Stoneforge Mystic</td>\n",
       "      <td>48.97</td>\n",
       "      <td>WWK</td>\n",
       "      <td>Rare</td>\n",
       "    </tr>\n",
       "    <tr>\n",
       "      <th>3</th>\n",
       "      <td>Amulet of Vigor</td>\n",
       "      <td>22.53</td>\n",
       "      <td>WWK</td>\n",
       "      <td>Rare</td>\n",
       "    </tr>\n",
       "    <tr>\n",
       "      <th>4</th>\n",
       "      <td>Eye of Ugin</td>\n",
       "      <td>12.25</td>\n",
       "      <td>WWK</td>\n",
       "      <td>Mythic</td>\n",
       "    </tr>\n",
       "    <tr>\n",
       "      <th>5</th>\n",
       "      <td>Quest for Ulas Temple</td>\n",
       "      <td>11.99</td>\n",
       "      <td>WWK</td>\n",
       "      <td>Rare</td>\n",
       "    </tr>\n",
       "    <tr>\n",
       "      <th>...</th>\n",
       "      <td>...</td>\n",
       "      <td>...</td>\n",
       "      <td>...</td>\n",
       "      <td>...</td>\n",
       "    </tr>\n",
       "    <tr>\n",
       "      <th>5853</th>\n",
       "      <td>Roofstalker Wight</td>\n",
       "      <td>0.20</td>\n",
       "      <td>RAV</td>\n",
       "      <td>Common</td>\n",
       "    </tr>\n",
       "    <tr>\n",
       "      <th>5854</th>\n",
       "      <td>Screeching Griffin</td>\n",
       "      <td>0.20</td>\n",
       "      <td>RAV</td>\n",
       "      <td>Common</td>\n",
       "    </tr>\n",
       "    <tr>\n",
       "      <th>5855</th>\n",
       "      <td>Seeds of Strength</td>\n",
       "      <td>0.20</td>\n",
       "      <td>RAV</td>\n",
       "      <td>Common</td>\n",
       "    </tr>\n",
       "    <tr>\n",
       "      <th>5856</th>\n",
       "      <td>Sewerdreg</td>\n",
       "      <td>0.20</td>\n",
       "      <td>RAV</td>\n",
       "      <td>Common</td>\n",
       "    </tr>\n",
       "    <tr>\n",
       "      <th>5857</th>\n",
       "      <td>Sparkmage Apprentice</td>\n",
       "      <td>0.20</td>\n",
       "      <td>RAV</td>\n",
       "      <td>Common</td>\n",
       "    </tr>\n",
       "  </tbody>\n",
       "</table>\n",
       "<p>4846 rows × 4 columns</p>\n",
       "</div>"
      ],
      "text/plain": [
       "                        Name  Price  Set  Rarity\n",
       "1     Jace the Mind Sculptor  69.39  WWK  Mythic\n",
       "2          Stoneforge Mystic  48.97  WWK    Rare\n",
       "3            Amulet of Vigor  22.53  WWK    Rare\n",
       "4                Eye of Ugin  12.25  WWK  Mythic\n",
       "5      Quest for Ulas Temple  11.99  WWK    Rare\n",
       "...                      ...    ...  ...     ...\n",
       "5853       Roofstalker Wight   0.20  RAV  Common\n",
       "5854      Screeching Griffin   0.20  RAV  Common\n",
       "5855       Seeds of Strength   0.20  RAV  Common\n",
       "5856               Sewerdreg   0.20  RAV  Common\n",
       "5857    Sparkmage Apprentice   0.20  RAV  Common\n",
       "\n",
       "[4846 rows x 4 columns]"
      ]
     },
     "execution_count": 33,
     "metadata": {},
     "output_type": "execute_result"
    }
   ],
   "source": [
    "send_it"
   ]
  },
  {
   "cell_type": "code",
   "execution_count": 35,
   "metadata": {},
   "outputs": [
    {
     "data": {
      "text/plain": [
       "4"
      ]
     },
     "execution_count": 35,
     "metadata": {},
     "output_type": "execute_result"
    }
   ],
   "source": [
    "send_it.shape[1]"
   ]
  },
  {
   "cell_type": "code",
   "execution_count": 34,
   "metadata": {},
   "outputs": [],
   "source": [
    "insert_query = 'INSERT INTO all_cards VALUES'\n",
    "for i in range(send_it.shape[0]):\n",
    "    insert_query += \"('\"\n",
    "    \n",
    "    for j in range(send_it.shape[1]):\n",
    "        insert_query += str(send_it[send_it.columns.values[j]][i]) + \"', '\"\n",
    "        \n",
    "    insert_query = insert_query[:-3] + \"),\"\n",
    "    \n",
    "insert_query = insert_query[:-1] + ';'\n",
    "\n",
    "\n",
    "\n"
   ]
  },
  {
   "cell_type": "code",
   "execution_count": 35,
   "metadata": {},
   "outputs": [
    {
     "data": {
      "text/plain": [
       "\"INSERT INTO all_cards VALUES('Jace the Mind Sculptor', '69.39', 'WWK', 'Mythic'),('Stoneforge Mystic', '48.97', 'WWK', 'Rare'),('Amulet of Vigor', '22.53', 'WWK', 'Rare'),('Eye of Ugin', '12.25', 'WWK', 'Mythic'),('Quest for Ulas Temple', '11.99', 'WWK', 'Rare'),('Wrexial the Risen Deep', '10.98', 'WWK', 'Mythic'),('Deaths Shadow', '8.63', 'WWK', 'Rare'),('Avenger of Zendikar', '7.99', 'WWK', 'Mythic'),('Omnath Locus of Mana', '7.79', 'WWK', 'Mythic'),('Thada Adel Acquisitor', '7.79', 'WWK', 'Rare'),('Kazuul Tyrant of the Cliffs', '7.44', 'WWK', 'Rare'),('Joraga Warcaller', '7.09', 'WWK', 'Rare'),('Kalastria Highborn', '6.50', 'WWK', 'Rare'),('Quest for Renewal', '4.72', 'WWK', 'Uncommon'),('Celestial Colonnade', '4.29', 'WWK', 'Rare'),('Creeping Tar Pit', '3.89', 'WWK', 'Rare'),('Quest for the Nihil Stone', '3.51', 'WWK', 'Rare'),('Bazaar Trader', '3.32', 'WWK', 'Rare'),('Basilisk Collar', '3.19', 'WWK', 'Rare'),('Novablast Wurm', '2.77', 'WWK', 'Mythic'),('Raging Ravine', '2.48', 'WWK', 'Rare'),('Anowon the Ruin Sage', '2.32', 'WWK', 'Rare'),('Dragonmaster Outcast', '2.22', 'WWK', 'Mythic'),('Harabaz Druid', '2.14', 'WWK', 'Rare'),('Searing Blaze', '1.74', 'WWK', 'Common'),('Terra Eternal', '1.74', 'WWK', 'Rare'),('Admonition Angel', '1.60', 'WWK', 'Mythic'),('Bojuka Bog', '1.50', 'WWK', 'Common'),('Lavaclaw Reaches', '1.44', 'WWK', 'Rare'),('Walking Atlas', '1.30', 'WWK', 'Common'),('Natures Claim', '1.25', 'WWK', 'Common'),('Abyssal Persecutor', '1.21', 'WWK', 'Mythic'),('Lodestone Golem', '1.16', 'WWK', 'Rare'),('Everflowing Chalice', '1.13', 'WWK', 'Uncommon'),('Butcher of Malakir', '1.12', 'WWK', 'Rare'),('Perimeter Captain', '1.06', 'WWK', 'Uncommon'),('Tectonic Edge', '1.04', 'WWK', 'Uncommon'),('Quest for the Goblin Lord', '1.00', 'WWK', 'Uncommon'),('Jwari Shapeshifter', '0.99', 'WWK', 'Rare'),('Canopy Cover', '0.96', 'WWK', 'Uncommon'),('Comet Storm', '0.96', 'WWK', 'Mythic'),('Chain Reaction', '0.80', 'WWK', 'Rare'),('Stirring Wildwood', '0.76', 'WWK', 'Rare'),('Talus Paladin', '0.75', 'WWK', 'Rare'),('Arbor Elf', '0.64', 'WWK', 'Common'),('Selective Memory', '0.64', 'WWK', 'Rare'),('Terastodon', '0.62', 'WWK', 'Rare'),('Groundswell', '0.52', 'WWK', 'Common'),('Agadeem Occultist', '0.50', 'WWK', 'Rare'),('Kor Firewalker', '0.50', 'WWK', 'Uncommon'),('Mordant Dragon', '0.50', 'WWK', 'Rare'),('Ruin Ghost', '0.50', 'WWK', 'Uncommon'),('Strength of the Tajuru', '0.50', 'WWK', 'Rare'),('Wolfbriar Elemental', '0.50', 'WWK', 'Rare'),('Marshals Anthem', '0.49', 'WWK', 'Rare'),('Ricochet Trap', '0.48', 'WWK', 'Uncommon'),('Halimar Depths', '0.47', 'WWK', 'Common'),('Hada Freeblade', '0.45', 'WWK', 'Uncommon'),('Loam Lion', '0.44', 'WWK', 'Uncommon'),('Leatherback Baloth', '0.42', 'WWK', 'Uncommon'),('Seers Sundial', '0.40', 'WWK', 'Rare'),('Archon of Redemption', '0.39', 'WWK', 'Rare'),('Dispel', '0.39', 'WWK', 'Common'),('Scrib Nibblers', '0.39', 'WWK', 'Uncommon'),('Goliath Sphinx', '0.38', 'WWK', 'Rare'),('Pulse Tracker', '0.35', 'WWK', 'Common'),('Stone Idol Trap', '0.35', 'WWK', 'Rare'),('Tideforce Elemental', '0.35', 'WWK', 'Uncommon'),('Tuktuk Scrapper', '0.34', 'WWK', 'Uncommon'),('Explore', '0.33', 'WWK', 'Common'),('Urge to Feed', '0.32', 'WWK', 'Uncommon'),('Khalni Garden', '0.31', 'WWK', 'Common'),('Bloodhusk Ritualist', '0.30', 'WWK', 'Uncommon'),('Lightkeeper of Emeria', '0.30', 'WWK', 'Uncommon'),('Treasure Hunt', '0.30', 'WWK', 'Common'),('Dread Statuary', '0.29', 'WWK', 'Uncommon'),('Cunning Sparkmage', '0.27', 'WWK', 'Uncommon'),('Rest for the Weary', '0.26', 'WWK', 'Common'),('Akoum Battlesinger', '0.25', 'WWK', 'Common'),('Bestial Menace', '0.25', 'WWK', 'Uncommon'),('Caustic Crawler', '0.25', 'WWK', 'Uncommon'),('Deathforge Shaman', '0.25', 'WWK', 'Uncommon'),('Hammer of Ruin', '0.25', 'WWK', 'Uncommon'),('Horizon Drake', '0.25', 'WWK', 'Uncommon'),('Nemesis Trap', '0.25', 'WWK', 'Uncommon'),('Permafrost Trap', '0.25', 'WWK', 'Uncommon'),('Quicksand', '0.25', 'WWK', 'Common'),('Razor Boomerang', '0.25', 'WWK', 'Uncommon'),('Refraction Trap', '0.25', 'WWK', 'Uncommon'),('Roiling Terrain', '0.25', 'WWK', 'Common'),('Rumbling Aftershocks', '0.25', 'WWK', 'Uncommon'),('Sejiri Merfolk', '0.25', 'WWK', 'Uncommon'),('Sejiri Steppe', '0.25', 'WWK', 'Common'),('Slavering Nulls', '0.25', 'WWK', 'Uncommon'),('Slingbow Trap', '0.25', 'WWK', 'Uncommon'),('Smoldering Spires', '0.25', 'WWK', 'Common'),('Smother', '0.25', 'WWK', 'Uncommon'),('Spell Contortion', '0.25', 'WWK', 'Uncommon'),('Summit Apes', '0.25', 'WWK', 'Uncommon'),('Twitch', '0.25', 'WWK', 'Common'),('Vapor Snare', '0.25', 'WWK', 'Uncommon'),('Vastwood Animist', '0.25', 'WWK', 'Uncommon'),('Voyager Drake', '0.25', 'WWK', 'Uncommon'),('Claws of Valakut', '0.24', 'WWK', 'Common'),('Grotag Thrasher', '0.24', 'WWK', 'Common'),('Halimar Excavator', '0.24', 'WWK', 'Common'),('Quag Vampires', '0.24', 'WWK', 'Common'),('Shoreline Salvager', '0.24', 'WWK', 'Uncommon'),('Wind Zendikon', '0.24', 'WWK', 'Common'),('Corrupted Zendikon', '0.23', 'WWK', 'Common'),('Cosis Ravager', '0.23', 'WWK', 'Common'),('Gnarlid Pack', '0.23', 'WWK', 'Common'),('Guardian Zendikon', '0.23', 'WWK', 'Common'),('Hedron Rover', '0.23', 'WWK', 'Common'),('Join the Ranks', '0.23', 'WWK', 'Common'),('Kitesail Apprentice', '0.23', 'WWK', 'Common'),('Mires Toll', '0.23', 'WWK', 'Common'),('Apex Hawks', '0.22', 'WWK', 'Common'),('Calcite Snapper', '0.22', 'WWK', 'Common'),('Dead Reckoning', '0.22', 'WWK', 'Common'),('Grappler Spider', '0.22', 'WWK', 'Common'),('Kitesail', '0.22', 'WWK', 'Common'),('Skitter of Lizards', '0.22', 'WWK', 'Common'),('Snapping Creeper', '0.22', 'WWK', 'Common'),('Vastwood Zendikon', '0.22', 'WWK', 'Common'),('Veterans Reflexes', '0.22', 'WWK', 'Common'),('Enclave Elite', '0.21', 'WWK', 'Common'),('Fledgling Griffin', '0.21', 'WWK', 'Common'),('Marsh Threader', '0.21', 'WWK', 'Common'),('Pilgrims Eye', '0.21', 'WWK', 'Common'),('Tomb Hex', '0.21', 'WWK', 'Common'),('Aether Tradewinds', '0.20', 'WWK', 'Common'),('Battle Hurda', '0.20', 'WWK', 'Common'),('Bojuka Brigand', '0.20', 'WWK', 'Common'),('Brink of Disaster', '0.20', 'WWK', 'Common'),('Bull Rush', '0.20', 'WWK', 'Common'),('Crusher Zendikon', '0.20', 'WWK', 'Common'),('Feral Contest', '0.20', 'WWK', 'Common'),('Goblin Roughrider', '0.20', 'WWK', 'Common'),('Graypelt Hunter', '0.20', 'WWK', 'Common'),('Ionas Judgment', '0.20', 'WWK', 'Common'),('Jagwasp Swarm', '0.20', 'WWK', 'Common'),('Mysteries of the Deep', '0.20', 'WWK', 'Common'),('Ruthless Cullblade', '0.20', 'WWK', 'Common'),('Surrakar Banisher', '0.20', 'WWK', 'Common'),('Smothering Tithe', '45.69', 'RNA', 'Rare'),('Breeding Pool', '21.66', 'RNA', 'Rare'),('Blood Crypt', '18.37', 'RNA', 'Rare'),('Godless Shrine', '13.52', 'RNA', 'Rare'),('Guardian Project', '12.46', 'RNA', 'Rare'),('Hydroid Krasis', '11.02', 'RNA', 'Mythic'),('Stomping Ground', '10.44', 'RNA', 'Rare'),('Hallowed Fountain', '9.99', 'RNA', 'Rare'),('Captive Audience', '4.08', 'RNA', 'Mythic'),('Kaya Orzhov Usurper', '3.70', 'RNA', 'Mythic'),('Biogenic Ooze', '3.53', 'RNA', 'Mythic'),('Priest of Forgotten Gods', '3.23', 'RNA', 'Rare'),('Rhythm of the Wild', '2.95', 'RNA', 'Uncommon'),('Teysa Karlov', '2.85', 'RNA', 'Rare'),('Prime Speaker Vannifar', '2.84', 'RNA', 'Mythic'),('Electrodominance', '2.47', 'RNA', 'Rare'),('Wilderness Reclamation', '2.33', 'RNA', 'Uncommon'),('Rakdos the Showstopper', '2.25', 'RNA', 'Mythic'),('Bedevil', '2.14', 'RNA', 'Rare'),('Spawn of Mayhem', '1.98', 'RNA', 'Mythic'),('Persistent Petitioners', '1.96', 'RNA', 'Common'),('Simic Ascendancy', '1.94', 'RNA', 'Rare'),('Seraph of the Scales', '1.90', 'RNA', 'Mythic'),('Mass Manipulation', '1.55', 'RNA', 'Rare'),('Domri Chaos Bringer', '1.50', 'RNA', 'Mythic'),('Incubation Druid', '1.29', 'RNA', 'Rare'),('Cindervines', '1.11', 'RNA', 'Rare'),('Dovin Grand Arbiter', '1.02', 'RNA', 'Mythic'),('Kayas Wrath', '1.01', 'RNA', 'Rare'),('Absorb', '1.00', 'RNA', 'Rare'),('Angel of Grace', '1.00', 'RNA', 'Mythic'),('Gutterbones', '1.00', 'RNA', 'Rare'),('Lavinia Azorius Renegade', '1.00', 'RNA', 'Rare'),('Mesmerizing Benthid', '1.00', 'RNA', 'Mythic'),('Biomancers Familiar', '0.99', 'RNA', 'Rare'),('Mirror March', '0.99', 'RNA', 'Rare'),('Revival  Revenge', '0.99', 'RNA', 'Rare'),('Emergency Powers', '0.98', 'RNA', 'Mythic'),('Skarrgan Hellkite', '0.96', 'RNA', 'Mythic'),('Repudiate  Replicate', '0.95', 'RNA', 'Rare'),('Tithe Taker', '0.95', 'RNA', 'Rare'),('Deputy of Detention', '0.91', 'RNA', 'Rare'),('Unbreakable Formation', '0.89', 'RNA', 'Rare'),('End-Raze Forerunners', '0.88', 'RNA', 'Rare'),('Vindictive Vampire', '0.82', 'RNA', 'Uncommon'),('Ravager Wurm', '0.78', 'RNA', 'Mythic'),('Ethereal Absolution', '0.75', 'RNA', 'Rare'),('Judith the Scourge Diva', '0.75', 'RNA', 'Rare'),('Skewer the Critics', '0.65', 'RNA', 'Common'),('Benthic Biomancer', '0.63', 'RNA', 'Rare'),('Gruul Spellbreaker', '0.62', 'RNA', 'Rare'),('Font of Agonies', '0.57', 'RNA', 'Rare'),('Hero of Precinct One', '0.55', 'RNA', 'Rare'),('Awaken the Erstwhile', '0.52', 'RNA', 'Rare'),('Plaza of Harmony', '0.52', 'RNA', 'Rare'),('Sphinx of Foresight', '0.52', 'RNA', 'Rare'),('Pestilent Spirit', '0.50', 'RNA', 'Rare'),('Zegana Utopian Speaker', '0.50', 'RNA', 'Rare'),('Growth Spiral', '0.49', 'RNA', 'Common'),('Growth-Chamber Guardian', '0.49', 'RNA', 'Rare'),('High Alert', '0.49', 'RNA', 'Uncommon'),('Light Up the Stage', '0.49', 'RNA', 'Uncommon'),('Nikya of the Old Ways', '0.49', 'RNA', 'Rare'),('Rampage of the Clans', '0.49', 'RNA', 'Rare'),('Tome of the Guildpact', '0.49', 'RNA', 'Rare'),('Verity Circle', '0.48', 'RNA', 'Rare'),('Dovins Dismissal', '0.45', 'RNA', 'Rare'),('Theater of Horrors', '0.45', 'RNA', 'Rare'),('Rix Maadi Reveler', '0.44', 'RNA', 'Rare'),('Precognitive Perception', '0.43', 'RNA', 'Rare'),('Wall of Lost Thoughts', '0.41', 'RNA', 'Uncommon'),('Glass of the Guildpact', '0.40', 'RNA', 'Rare'),('Immolation Shaman', '0.40', 'RNA', 'Rare'),('Mortify', '0.40', 'RNA', 'Uncommon'),('Pteramander', '0.40', 'RNA', 'Uncommon'),('Resolute Watchdog', '0.39', 'RNA', 'Uncommon'),('Thrash  Threat', '0.37', 'RNA', 'Rare'),('Domris Nodorog', '0.36', 'RNA', 'Rare'),('Gates Ablaze', '0.35', 'RNA', 'Uncommon'),('Lumbering Battlement', '0.35', 'RNA', 'Rare'),('Ministrant of Obligation', '0.35', 'RNA', 'Uncommon'),('Warrant  Warden', '0.35', 'RNA', 'Rare'),('Bedeck  Bedazzle', '0.33', 'RNA', 'Rare'),('Amplifire', '0.31', 'RNA', 'Rare'),('Collision  Colossus', '0.31', 'RNA', 'Uncommon'),('Orzhov Enforcer', '0.31', 'RNA', 'Uncommon'),('Drill Bit', '0.30', 'RNA', 'Uncommon'),('Essence Capture', '0.30', 'RNA', 'Uncommon'),('Gatebreaker Ram', '0.30', 'RNA', 'Uncommon'),('Impassioned Orator', '0.30', 'RNA', 'Common'),('Tower Defense', '0.30', 'RNA', 'Uncommon'),('Cavalcade of Calamity', '0.27', 'RNA', 'Uncommon'),('Cry of the Carnarium', '0.27', 'RNA', 'Uncommon'),('Bankrupt in Blood', '0.26', 'RNA', 'Uncommon'),('Basilica Bell-Haunt', '0.26', 'RNA', 'Uncommon'),('Pitiless Pontiff', '0.26', 'RNA', 'Uncommon'),('Sunder Shaman', '0.26', 'RNA', 'Uncommon'),('Angelic Exaltation', '0.25', 'RNA', 'Uncommon'),('Archway Angel', '0.25', 'RNA', 'Uncommon'),('Azorius Locket', '0.25', 'RNA', 'Common'),('Azorius Skyguard', '0.25', 'RNA', 'Uncommon'),('Biogenic Upgrade', '0.25', 'RNA', 'Uncommon'),('Bloodmist Infiltrator', '0.25', 'RNA', 'Uncommon'),('Bolrac-Clan Crusher', '0.25', 'RNA', 'Uncommon'),('Carnival  Carnage', '0.25', 'RNA', 'Uncommon'),('Charging War Boar', '0.25', 'RNA', 'Uncommon'),('Clamor Shaman', '0.25', 'RNA', 'Uncommon'),('Clan Guildmage', '0.25', 'RNA', 'Uncommon'),('Clear the Mind', '0.25', 'RNA', 'Common'),('Combine Guildmage', '0.25', 'RNA', 'Uncommon'),('Consecrate  Consume', '0.25', 'RNA', 'Uncommon'),('Cult Guildmage', '0.25', 'RNA', 'Uncommon'),('Dagger Caster', '0.25', 'RNA', 'Uncommon'),('Depose  Deploy', '0.25', 'RNA', 'Uncommon'),('Dovins Acuity', '0.25', 'RNA', 'Uncommon'),('Dovins Automaton', '0.25', 'RNA', 'Uncommon'),('Elite Arrester', '0.25', 'RNA', 'Common'),('Eyes Everywhere', '0.25', 'RNA', 'Uncommon'),('Final Payment', '0.25', 'RNA', 'Common'),('Fireblade Artist', '0.25', 'RNA', 'Uncommon'),('Footlight Fiend', '0.25', 'RNA', 'Common'),('Forbidding Spirit', '0.25', 'RNA', 'Uncommon'),('Frilled Mystic', '0.25', 'RNA', 'Uncommon'),('Galloping Lizrog', '0.25', 'RNA', 'Uncommon'),('Gate Colossus', '0.25', 'RNA', 'Uncommon'),('Gateway Plaza', '0.25', 'RNA', 'Common'),('Gateway Sneak', '0.25', 'RNA', 'Uncommon'),('Gruul Beastmaster', '0.25', 'RNA', 'Uncommon'),('Gyre Engineer', '0.25', 'RNA', 'Uncommon'),('Hackrobat', '0.25', 'RNA', 'Uncommon'),('Ill-Gotten Inheritance', '0.25', 'RNA', 'Common'),('Imperious Oligarch', '0.25', 'RNA', 'Common'),('Incubation  Incongruity', '0.25', 'RNA', 'Uncommon'),('Junktroller', '0.25', 'RNA', 'Uncommon'),('Knight of the Last Breath', '0.25', 'RNA', 'Uncommon'),('Macabre Mockery', '0.25', 'RNA', 'Uncommon'),('Orzhov Locket', '0.25', 'RNA', 'Common'),('Orzhov Racketeers', '0.25', 'RNA', 'Uncommon'),('Rakdos Firewheeler', '0.25', 'RNA', 'Uncommon'),('Rakdos Locket', '0.25', 'RNA', 'Common'),('Rally to Battle', '0.25', 'RNA', 'Uncommon'),('Regenesis', '0.25', 'RNA', 'Uncommon'),('Rumbling Ruin', '0.25', 'RNA', 'Uncommon'),('Saruli Caretaker', '0.25', 'RNA', 'Common'),('Scrabbling Claws', '0.25', 'RNA', 'Uncommon'),('Screaming Shield', '0.25', 'RNA', 'Uncommon'),('Senate Guildmage', '0.25', 'RNA', 'Uncommon'),('Sentinels Mark', '0.25', 'RNA', 'Uncommon'),('Sharktocrab', '0.25', 'RNA', 'Uncommon'),('Shimmer of Possibility', '0.25', 'RNA', 'Common'),('Silhana Wayfinder', '0.25', 'RNA', 'Uncommon'),('Skatewing Spy', '0.25', 'RNA', 'Uncommon'),('Sky Tether', '0.25', 'RNA', 'Uncommon'),('Smelt-Ward Ignus', '0.25', 'RNA', 'Uncommon'),('Spear Spewer', '0.25', 'RNA', 'Common'),('Sphinx of New Prahv', '0.25', 'RNA', 'Uncommon'),('Sphinx of the Guildpact', '0.25', 'RNA', 'Uncommon'),('Spire Mangler', '0.25', 'RNA', 'Uncommon'),('Spirit of the Spires', '0.25', 'RNA', 'Uncommon'),('Swirling Torrent', '0.25', 'RNA', 'Uncommon'),('Syndicate Guildmage', '0.25', 'RNA', 'Uncommon'),('Thought Collapse', '0.25', 'RNA', 'Common'),('Tin Street Dodger', '0.25', 'RNA', 'Uncommon'),('Titanic Brawl', '0.25', 'RNA', 'Common'),('Trollbred Guardian', '0.25', 'RNA', 'Uncommon'),('Windstorm Drake', '0.25', 'RNA', 'Uncommon'),('Zhur-Taa Goblin', '0.25', 'RNA', 'Uncommon'),('Clear the Stage', '0.24', 'RNA', 'Uncommon'),('Code of Constraint', '0.24', 'RNA', 'Uncommon'),('Enraged Ceratok', '0.24', 'RNA', 'Uncommon'),('Goblin Gathering', '0.24', 'RNA', 'Common'),('Justiciars Portal', '0.24', 'RNA', 'Common'),('Open the Gates', '0.24', 'RNA', 'Common'),('Ragefire', '0.24', 'RNA', 'Common'),('Simic Locket', '0.24', 'RNA', 'Common'),('Flames of the Raze-Boar', '0.23', 'RNA', 'Uncommon'),('Gruul Locket', '0.23', 'RNA', 'Common'),('Lawmages Binding', '0.23', 'RNA', 'Common'),('Stony Strength', '0.23', 'RNA', 'Common'),('Orzhov Guildgate253', '0.22', 'RNA', 'Common'),('Simic Guildgate257', '0.22', 'RNA', 'Common'),('Rakdos Guildgate256', '0.21', 'RNA', 'Common'),('Simic Guildgate258', '0.21', 'RNA', 'Common'),('Act of Treason', '0.20', 'RNA', 'Common'),('Azorius Guildgate243', '0.20', 'RNA', 'Common'),('Coral Commando', '0.20', 'RNA', 'Common'),('Expose to Daylight', '0.20', 'RNA', 'Common'),('Faerie Duelist', '0.20', 'RNA', 'Common'),('Frenzied Arynx', '0.20', 'RNA', 'Common'),('Gruul Guildgate249', '0.20', 'RNA', 'Common'),('Gruul Guildgate250', '0.20', 'RNA', 'Common'),('Orzhov Guildgate252', '0.20', 'RNA', 'Common'),('Quench', '0.20', 'RNA', 'Common'),('Rafter Demon', '0.20', 'RNA', 'Common'),('Rakdos Guildgate255', '0.20', 'RNA', 'Common'),('Rakdos Trumpeter', '0.20', 'RNA', 'Common'),('Root Snare', '0.20', 'RNA', 'Common'),('Savage Smash', '0.20', 'RNA', 'Common'),('Scuttlegator', '0.20', 'RNA', 'Common'),('Sphinxs Insight', '0.20', 'RNA', 'Common'),('Steeple Creeper', '0.20', 'RNA', 'Common'),('Storm Strike', '0.20', 'RNA', 'Common'),('Thirsting Shade', '0.20', 'RNA', 'Common'),('Twilight Panther', '0.20', 'RNA', 'Common'),('Vizkopa Vampire', '0.20', 'RNA', 'Common'),('Aeromunculus', '0.19', 'RNA', 'Common'),('Applied Biomancy', '0.19', 'RNA', 'Common'),('Azorius Guildgate244', '0.19', 'RNA', 'Common'),('Azorius Knight-Arbiter', '0.19', 'RNA', 'Common'),('Blade Juggler', '0.19', 'RNA', 'Common'),('Bladebrand', '0.19', 'RNA', 'Common'),('Bring to Trial', '0.19', 'RNA', 'Common'),('Burning-Tree Vandal', '0.19', 'RNA', 'Common'),('Dead Revels', '0.19', 'RNA', 'Common'),('Deface', '0.19', 'RNA', 'Common'),('Noxious Groodion', '0.19', 'RNA', 'Common'),('Prying Eyes', '0.19', 'RNA', 'Common'),('Rakdos Roustabout', '0.19', 'RNA', 'Common'),('Rubble Reading', '0.19', 'RNA', 'Common'),('Rubblebelt Recluse', '0.19', 'RNA', 'Common'),('Rubblebelt Runner', '0.19', 'RNA', 'Common'),('Sages Row Savant', '0.19', 'RNA', 'Common'),('Sagittars Volley', '0.19', 'RNA', 'Common'),('Sauroform Hybrid', '0.19', 'RNA', 'Common'),('Scorchmark', '0.19', 'RNA', 'Common'),('Spikewheel Acrobat', '0.19', 'RNA', 'Common'),('Summary Judgment', '0.19', 'RNA', 'Common'),('Undercitys Embrace', '0.19', 'RNA', 'Common'),('Watchful Giant', '0.19', 'RNA', 'Common'),('Arresters Admonition', '0.18', 'RNA', 'Common'),('Arresters Zeal', '0.18', 'RNA', 'Common'),('Carrion Imp', '0.18', 'RNA', 'Common'),('Catacomb Crocodile', '0.18', 'RNA', 'Common'),('Chillbringer', '0.18', 'RNA', 'Common'),('Civic Stalwart', '0.18', 'RNA', 'Common'),('Consign to the Pit', '0.18', 'RNA', 'Common'),('Debtors Transport', '0.18', 'RNA', 'Common'),('Get the Point', '0.18', 'RNA', 'Common'),('Gift of Strength', '0.18', 'RNA', 'Common'),('Grasping Thrull', '0.18', 'RNA', 'Common'),('Gravel-Hide Goblin', '0.18', 'RNA', 'Common'),('Grotesque Demise', '0.18', 'RNA', 'Common'),('Haazda Officer', '0.18', 'RNA', 'Common'),('Humongulus', '0.18', 'RNA', 'Common'),('Mammoth Spider', '0.18', 'RNA', 'Common'),('Plague Wight', '0.18', 'RNA', 'Common'),('Prowling Caracal', '0.18', 'RNA', 'Common'),('Rampaging Rendhorn', '0.18', 'RNA', 'Common'),('Rubble Slinger', '0.18', 'RNA', 'Common'),('Senate Courier', '0.18', 'RNA', 'Common'),('Senate Griffin', '0.18', 'RNA', 'Common'),('Skitter Eel', '0.18', 'RNA', 'Common'),('Slimebind', '0.18', 'RNA', 'Common'),('Sylvan Brushstrider', '0.18', 'RNA', 'Common'),('Syndicate Messenger', '0.18', 'RNA', 'Common'),('Tenth District Veteran', '0.18', 'RNA', 'Common'),('Territorial Boar', '0.18', 'RNA', 'Common'),('Undercity Scavenger', '0.18', 'RNA', 'Common'),('Wrecking Beast', '0.18', 'RNA', 'Common'),('Axebane Beast', '0.17', 'RNA', 'Common'),('Burn Bright', '0.17', 'RNA', 'Common'),('Concordia Pegasus', '0.17', 'RNA', 'Common'),('Feral Maaka', '0.17', 'RNA', 'Common'),('Ghor-Clan Wrecker', '0.17', 'RNA', 'Common'),('Knight of Sorrows', '0.17', 'RNA', 'Common'),('Dovin Architect of Law', '1.48', 'RNA', 'Mythic'),('Domri City Smasher', '0.48', 'RNA', 'Mythic'),('The Haunt of Hightower', '0.15', 'RNA', 'Mythic'),('Mana Drain', '54.99', 'IMA', 'Mythic'),('Consecrated Sphinx', '54.84', 'IMA', 'Mythic'),('Avacyn Angel of Hope', '46.44', 'IMA', 'Mythic'),('Necropotence', '40.60', 'IMA', 'Mythic'),('Aether Vial', '30.95', 'IMA', 'Rare'),('Serra Ascendant', '25.89', 'IMA', 'Rare'),('Archangel of Thune', '23.14', 'IMA', 'Mythic'),('Flusterstorm', '23.12', 'IMA', 'Rare'),('Horizon Canopy', '22.56', 'IMA', 'Rare'),('Elesh Norn Grand Cenobite', '21.90', 'IMA', 'Mythic'),('Kokusho the Evening Star', '21.52', 'IMA', 'Rare'),('Jin-Gitaxias Core Augur', '20.97', 'IMA', 'Mythic'),('Vorinclex Voice of Hunger', '20.63', 'IMA', 'Mythic'),('Cryptic Command', '17.12', 'IMA', 'Rare'),('Auriok Champion', '17.01', 'IMA', 'Rare'),('Thoughtseize', '15.83', 'IMA', 'Rare'),('Sheoldred Whispering One', '15.47', 'IMA', 'Mythic'),('Ob Nixilis the Fallen', '12.35', 'IMA', 'Mythic'),('Kiki-Jiki Mirror Breaker', '11.81', 'IMA', 'Mythic'),('Bloodghast', '11.61', 'IMA', 'Rare'),('Mishras Bauble', '11.00', 'IMA', 'Uncommon'),('Graven Cairns', '9.38', 'IMA', 'Rare'),('Urabrask the Hidden', '8.97', 'IMA', 'Mythic'),('Glimpse the Unthinkable', '8.54', 'IMA', 'Rare'),('Genesis Wave', '8.49', 'IMA', 'Rare'),('Supreme Verdict', '8.19', 'IMA', 'Rare'),('Primeval Titan', '6.49', 'IMA', 'Mythic'),('Grove of the Burnwillows', '6.17', 'IMA', 'Rare'),('Rune-Scarred Demon', '6.00', 'IMA', 'Rare'),('Magus of the Moon', '5.88', 'IMA', 'Rare'),('Mindcrank', '5.70', 'IMA', 'Uncommon'),('Keiga the Tide Star', '5.55', 'IMA', 'Rare'),('Thran Dynamo', '4.99', 'IMA', 'Uncommon'),('Dragon Tempest', '4.77', 'IMA', 'Uncommon'),('Ancestral Vision', '4.21', 'IMA', 'Rare'),('Thundermaw Hellkite', '4.10', 'IMA', 'Mythic'),('Windfall', '3.99', 'IMA', 'Uncommon'),('River of Tears', '3.97', 'IMA', 'Rare'),('Lotus Cobra', '3.61', 'IMA', 'Rare'),('Oblivion Stone', '3.49', 'IMA', 'Rare'),('Austere Command', '3.11', 'IMA', 'Rare'),('Yosei the Morning Star', '3.06', 'IMA', 'Rare'),('Teferi Mage of Zhalfir', '2.85', 'IMA', 'Rare'),('Swords to Plowshares', '2.54', 'IMA', 'Uncommon'),('Sanguine Bond', '2.40', 'IMA', 'Uncommon'),('Knight of the Reliquary', '2.04', 'IMA', 'Rare'),('Ryusei the Falling Star', '2.00', 'IMA', 'Rare'),('Nimbus Maze', '1.80', 'IMA', 'Rare'),('Crucible of Fire', '1.56', 'IMA', 'Rare'),('Restoration Angel', '1.50', 'IMA', 'Rare'),('Monastery Swiftspear', '1.48', 'IMA', 'Uncommon'),('Anger of the Gods', '1.45', 'IMA', 'Rare'),('Star Compass', '1.36', 'IMA', 'Common'),('Bladewing the Risen', '1.27', 'IMA', 'Uncommon'),('Natures Claim', '1.19', 'IMA', 'Common'),('Mind Stone', '1.13', 'IMA', 'Common'),('Lightning Helix', '1.12', 'IMA', 'Uncommon'),('Angelic Accord', '1.05', 'IMA', 'Uncommon'),('Corpsejack Menace', '1.00', 'IMA', 'Uncommon'),('Scourge of Valkas', '1.00', 'IMA', 'Rare'),('Emeria Angel', '0.99', 'IMA', 'Rare'),('Serum Powder', '0.99', 'IMA', 'Rare'),('Aetherize', '0.95', 'IMA', 'Uncommon'),('Assault Formation', '0.94', 'IMA', 'Uncommon'),('Abyssal Persecutor', '0.92', 'IMA', 'Rare'),('Channel', '0.91', 'IMA', 'Mythic'),('Jugan the Rising Star', '0.86', 'IMA', 'Rare'),('Obstinate Baloth', '0.75', 'IMA', 'Rare'),('Rift Bolt', '0.75', 'IMA', 'Uncommon'),('Malfegor', '0.64', 'IMA', 'Rare'),('Blood Baron of Vizkopa', '0.62', 'IMA', 'Rare'),('Indulgent Tormentor', '0.60', 'IMA', 'Uncommon'),('Genesis Hydra', '0.57', 'IMA', 'Rare'),('Savageborn Hydra', '0.55', 'IMA', 'Rare'),('Bogardan Hellkite', '0.50', 'IMA', 'Rare'),('Curse of Predation', '0.50', 'IMA', 'Rare'),('Guardian Idol', '0.50', 'IMA', 'Common'),('Inspiring Call', '0.50', 'IMA', 'Uncommon'),('Night of Souls Betrayal', '0.50', 'IMA', 'Rare'),('Palladium Myr', '0.50', 'IMA', 'Uncommon'),('Rampaging Baloths', '0.50', 'IMA', 'Rare'),('Thought Scour', '0.50', 'IMA', 'Common'),('Path of Bravery', '0.49', 'IMA', 'Rare'),('Distortion Strike', '0.48', 'IMA', 'Uncommon'),('Firemane Angel', '0.47', 'IMA', 'Rare'),('Condescend', '0.45', 'IMA', 'Uncommon'),('Dragonlords Servant', '0.44', 'IMA', 'Common'),('Hypersonic Dragon', '0.44', 'IMA', 'Rare'),('Search for Tomorrow', '0.44', 'IMA', 'Common'),('Spiritmonger', '0.44', 'IMA', 'Rare'),('Fog Bank', '0.43', 'IMA', 'Uncommon'),('Burrenton Forge-Tender', '0.42', 'IMA', 'Uncommon'),('Abzan Battle Priest', '0.40', 'IMA', 'Uncommon'),('Carven Caryatid', '0.40', 'IMA', 'Uncommon'),('Charmbreaker Devils', '0.40', 'IMA', 'Rare'),('Dimir Aqueduct', '0.40', 'IMA', 'Uncommon'),('Jaces Phantasm', '0.40', 'IMA', 'Common'),('Lord of the Pit', '0.40', 'IMA', 'Rare'),('Overgrown Battlement', '0.40', 'IMA', 'Uncommon'),('Wall of Roots', '0.40', 'IMA', 'Common'),('Azorius Charm', '0.39', 'IMA', 'Uncommon'),('Day of the Dragons', '0.39', 'IMA', 'Rare'),('Pristine Talisman', '0.39', 'IMA', 'Uncommon'),('Simic Growth Chamber', '0.39', 'IMA', 'Uncommon'),('Vizkopa Guildmage', '0.39', 'IMA', 'Uncommon'),('Sphinx of Uthuun', '0.37', 'IMA', 'Rare'),('Emerge Unscathed', '0.36', 'IMA', 'Common'),('Gruul Turf', '0.36', 'IMA', 'Uncommon'),('Rosheen Meanderer', '0.36', 'IMA', 'Uncommon'),('Trepanation Blade', '0.36', 'IMA', 'Uncommon'),('Heroes Bane', '0.35', 'IMA', 'Uncommon'),('Hoarding Dragon', '0.35', 'IMA', 'Uncommon'),('Orzhov Basilica', '0.35', 'IMA', 'Uncommon'),('Simic Sky Swallower', '0.35', 'IMA', 'Rare'),('Blizzard Specter', '0.34', 'IMA', 'Uncommon'),('Ajanis Pridemate', '0.33', 'IMA', 'Uncommon'),('Rakdos Carnarium', '0.33', 'IMA', 'Uncommon'),('Electrolyze', '0.32', 'IMA', 'Uncommon'),('Golgari Rot Farm', '0.32', 'IMA', 'Uncommon'),('Mana Leak', '0.32', 'IMA', 'Common'),('Manakin', '0.32', 'IMA', 'Common'),('Selesnya Sanctuary', '0.32', 'IMA', 'Uncommon'),('Doom Blade', '0.31', 'IMA', 'Uncommon'),('Dissolve', '0.30', 'IMA', 'Common'),('Fireball', '0.30', 'IMA', 'Uncommon'),('Guttersnipe', '0.30', 'IMA', 'Uncommon'),('Sandstone Oracle', '0.30', 'IMA', 'Uncommon'),('Abzan Falconer', '0.29', 'IMA', 'Uncommon'),('Boros Garrison', '0.29', 'IMA', 'Uncommon'),('Izzet Boilerworks', '0.29', 'IMA', 'Uncommon'),('Wrench Mind', '0.28', 'IMA', 'Common'),('Radiant Fountain', '0.27', 'IMA', 'Common'),('Azorius Chancery', '0.26', 'IMA', 'Uncommon'),('Bubbling Cauldron', '0.26', 'IMA', 'Uncommon'),('Lead the Stampede', '0.26', 'IMA', 'Common'),('Staggershock', '0.26', 'IMA', 'Uncommon'),('Balustrade Spy', '0.25', 'IMA', 'Common'),('Bladewings Thrall', '0.25', 'IMA', 'Uncommon'),('Bogbrew Witch', '0.25', 'IMA', 'Uncommon'),('Cephalid Broker', '0.25', 'IMA', 'Uncommon'),('Chronicler of Heroes', '0.25', 'IMA', 'Uncommon'),('Coordinated Assault', '0.25', 'IMA', 'Uncommon'),('Draconic Roar', '0.25', 'IMA', 'Common'),('Dragonloft Idol', '0.25', 'IMA', 'Uncommon'),('Duress', '0.25', 'IMA', 'Common'),('Enlarge', '0.25', 'IMA', 'Uncommon'),('Eternal Thirst', '0.25', 'IMA', 'Common'),('Foul-Tongue Invocation', '0.25', 'IMA', 'Common'),('Haunting Hymn', '0.25', 'IMA', 'Uncommon'),('Hunting Pack', '0.25', 'IMA', 'Uncommon'),('Illusory Ambusher', '0.25', 'IMA', 'Uncommon'),('Illusory Angel', '0.25', 'IMA', 'Uncommon'),('Jaddi Offshoot', '0.25', 'IMA', 'Common'),('Jungle Barrier', '0.25', 'IMA', 'Uncommon'),('Kiln Fiend', '0.25', 'IMA', 'Common'),('Kolaghan Monument', '0.25', 'IMA', 'Uncommon'),('Lure', '0.25', 'IMA', 'Uncommon'),('Mahamoti Djinn', '0.25', 'IMA', 'Uncommon'),('Mark of Mutiny', '0.25', 'IMA', 'Common'),('Mer-Ek Nightblade', '0.25', 'IMA', 'Uncommon'),('Mnemonic Wall', '0.25', 'IMA', 'Common'),('Noxious Dragon', '0.25', 'IMA', 'Uncommon'),('Pentarch Ward', '0.25', 'IMA', 'Common'),('Prodigal Pyromancer', '0.25', 'IMA', 'Uncommon'),('Repeal', '0.25', 'IMA', 'Common'),('Seeker of the Way', '0.25', 'IMA', 'Common'),('Serra Angel', '0.25', 'IMA', 'Uncommon'),('Shimmering Grotto', '0.25', 'IMA', 'Common'),('Skywise Teachings', '0.25', 'IMA', 'Uncommon'),('Sultai Flayer', '0.25', 'IMA', 'Uncommon'),('Tavern Swindler', '0.25', 'IMA', 'Uncommon'),('Ulcerate', '0.25', 'IMA', 'Uncommon'),('Undercity Troll', '0.25', 'IMA', 'Uncommon'),('Wight of Precinct Six', '0.25', 'IMA', 'Common'),('Wing Shards', '0.25', 'IMA', 'Uncommon'),('Darksteel Axe', '0.24', 'IMA', 'Common'),('Disenchant', '0.24', 'IMA', 'Common'),('Doomed Traveler', '0.24', 'IMA', 'Common'),('Doorkeeper', '0.24', 'IMA', 'Common'),('Evolving Wilds', '0.24', 'IMA', 'Common'),('Fury Charm', '0.24', 'IMA', 'Common'),('Great Teachers Decree', '0.24', 'IMA', 'Uncommon'),('Pillar of Flame', '0.24', 'IMA', 'Common'),('Surreal Memoir', '0.24', 'IMA', 'Uncommon'),('Topan Freeblade', '0.24', 'IMA', 'Uncommon'),('Ainok Bond-Kin', '0.23', 'IMA', 'Common'),('Survival Cache', '0.23', 'IMA', 'Common'),('Tormenting Voice', '0.23', 'IMA', 'Common'),('Virulent Swipe', '0.23', 'IMA', 'Common'),('Angel of Mercy', '0.22', 'IMA', 'Common'),('Scion of Ugin', '0.22', 'IMA', 'Common'),('Diminish', '0.21', 'IMA', 'Common'),('Guided Strike', '0.21', 'IMA', 'Common'),('Hammerhand', '0.21', 'IMA', 'Common'),('Jhessian Thief', '0.21', 'IMA', 'Common'),('Phantom Tiger', '0.21', 'IMA', 'Common'),('Phyrexian Rager', '0.21', 'IMA', 'Common'),('Shriekgeist', '0.21', 'IMA', 'Common'),('Aerial Predation', '0.20', 'IMA', 'Common'),('Amass the Components', '0.20', 'IMA', 'Common'),('Bala Ged Scorpion', '0.20', 'IMA', 'Common'),('Battle-Rattle Shaman', '0.20', 'IMA', 'Common'),('Bewilder', '0.20', 'IMA', 'Common'),('Blinding Mage', '0.20', 'IMA', 'Common'),('Borderland Marauder', '0.20', 'IMA', 'Common'),('Butchers Glee', '0.20', 'IMA', 'Common'),('Child of Night', '0.20', 'IMA', 'Common'),('Crowned Ceratok', '0.20', 'IMA', 'Common'),('Dead Reveler', '0.20', 'IMA', 'Common'),('Dragon Bell Monk', '0.20', 'IMA', 'Common'),('Dragon Egg', '0.20', 'IMA', 'Common'),('Durkwood Baloth', '0.20', 'IMA', 'Common'),('Duskdale Wurm', '0.20', 'IMA', 'Common'),('Elusive Spellfist', '0.20', 'IMA', 'Common'),('Festering Newt', '0.20', 'IMA', 'Common'),('Furnace Whelp', '0.20', 'IMA', 'Common'),('Greater Basilisk', '0.20', 'IMA', 'Common'),('Grisly Spectacle', '0.20', 'IMA', 'Common'),('Guard Duty', '0.20', 'IMA', 'Common'),('Heat Ray', '0.20', 'IMA', 'Common'),('Hunt the Weak', '0.20', 'IMA', 'Common'),('Ionas Judgment', '0.20', 'IMA', 'Common'),('Ivy Elemental', '0.20', 'IMA', 'Common'),('Keldon Halberdier', '0.20', 'IMA', 'Common'),('Moonglove Extract', '0.20', 'IMA', 'Common'),('Nantuko Shaman', '0.20', 'IMA', 'Common'),('Netcaster Spider', '0.20', 'IMA', 'Common'),('Ojutais Breath', '0.20', 'IMA', 'Common'),('Phantom Monster', '0.20', 'IMA', 'Common'),('Preys Vengeance', '0.20', 'IMA', 'Common'),('Rakdos Drake', '0.20', 'IMA', 'Common'),('Riverwheel Aerialists', '0.20', 'IMA', 'Common'),('Rotfeaster Maggot', '0.20', 'IMA', 'Common'),('Splatter Thug', '0.20', 'IMA', 'Common'),('Student of Ojutai', '0.20', 'IMA', 'Common'),('Sustainer of the Realm', '0.20', 'IMA', 'Common'),('Thrill-Kill Assassin', '0.20', 'IMA', 'Common'),('Vent Sentinel', '0.20', 'IMA', 'Common'),('Wildsize', '0.20', 'IMA', 'Common'),('Benevolent Ancestor', '0.19', 'IMA', 'Common'),('Earth Elemental', '0.19', 'IMA', 'Common'),('Frost Lynx', '0.19', 'IMA', 'Common'),('Reave Soul', '0.19', 'IMA', 'Common'),('Stalwart Aven', '0.19', 'IMA', 'Common'),('Trumpet Blast', '0.19', 'IMA', 'Common'),('Claustrophobia', '0.18', 'IMA', 'Common'),('Infantry Veteran', '0.18', 'IMA', 'Common'),('Runed Servitor', '0.18', 'IMA', 'Common'),('Timberland Guide', '0.18', 'IMA', 'Common'),('Polluted Delta', '49.99', 'KTK', 'Rare'),('Bloodstained Mire', '43.71', 'KTK', 'Rare'),('Flooded Strand', '41.00', 'KTK', 'Rare'),('Wooded Foothills', '39.52', 'KTK', 'Rare'),('Windswept Heath', '29.38', 'KTK', 'Rare'),('Hardened Scales', '9.68', 'KTK', 'Rare'),('Altar of the Brood', '5.88', 'KTK', 'Rare'),('Sorin Solemn Visitor', '3.50', 'KTK', 'Mythic'),('Surrak Dragonclaw', '3.01', 'KTK', 'Mythic'),('Clever Impersonator', '2.71', 'KTK', 'Mythic'),('Ugins Nexus', '2.14', 'KTK', 'Mythic'),('Deflecting Palm', '1.95', 'KTK', 'Rare'),('Sidisi Brood Tyrant', '1.70', 'KTK', 'Mythic'),('Narset Enlightened Master', '1.64', 'KTK', 'Mythic'),('Anafenza the Foremost', '1.63', 'KTK', 'Mythic'),('Jeskai Ascendancy', '1.42', 'KTK', 'Rare'),('Sarkhan the Dragonspeaker', '1.40', 'KTK', 'Mythic'),('Temur Ascendancy', '1.40', 'KTK', 'Rare'),('Brave the Sands', '1.34', 'KTK', 'Uncommon'),('Dig Through Time', '1.34', 'KTK', 'Rare'),('Bloodsoaked Champion', '1.19', 'KTK', 'Rare'),('Hooded Hydra', '1.19', 'KTK', 'Mythic'),('Monastery Swiftspear', '1.16', 'KTK', 'Uncommon'),('Stubborn Denial', '1.13', 'KTK', 'Uncommon'),('See the Unwritten', '1.00', 'KTK', 'Mythic'),('Grim Haruspex', '0.97', 'KTK', 'Rare'),('Utter End', '0.96', 'KTK', 'Rare'),('Mantis Rider', '0.94', 'KTK', 'Rare'),('Siege Rhino', '0.91', 'KTK', 'Rare'),('Empty the Pits', '0.89', 'KTK', 'Mythic'),('Zurgo Helmsmasher', '0.89', 'KTK', 'Mythic'),('Nomad Outpost', '0.82', 'KTK', 'Uncommon'),('Sandsteppe Citadel', '0.79', 'KTK', 'Uncommon'),('Pearl Lake Ancient', '0.76', 'KTK', 'Mythic'),('Villainous Wealth', '0.71', 'KTK', 'Rare'),('Rattleclaw Mystic', '0.67', 'KTK', 'Rare'),('Ashcloud Phoenix', '0.61', 'KTK', 'Mythic'),('Wingmate Roc', '0.61', 'KTK', 'Mythic'),('Ghostfire Blade', '0.56', 'KTK', 'Rare'),('Crackling Doom', '0.50', 'KTK', 'Rare'),('Dragon Throne of Tarkir', '0.50', 'KTK', 'Rare'),('End Hostilities', '0.50', 'KTK', 'Rare'),('Icy Blast', '0.50', 'KTK', 'Rare'),('Frontier Bivouac', '0.49', 'KTK', 'Uncommon'),('Mardu Ascendancy', '0.49', 'KTK', 'Rare'),('Opulent Palace', '0.49', 'KTK', 'Uncommon'),('Tomb of the Spirit Dragon', '0.49', 'KTK', 'Uncommon'),('Hordeling Outburst', '0.47', 'KTK', 'Uncommon'),('Retribution of the Ancients', '0.47', 'KTK', 'Rare'),('Howl of the Horde', '0.46', 'KTK', 'Rare'),('Mindswipe', '0.45', 'KTK', 'Rare'),('Mystic Monastery', '0.43', 'KTK', 'Uncommon'),('Sultai Ascendancy', '0.43', 'KTK', 'Rare'),('Abzan Battle Priest', '0.40', 'KTK', 'Uncommon'),('Ankle Shanker', '0.40', 'KTK', 'Rare'),('Butcher of the Horde', '0.40', 'KTK', 'Rare'),('Abzan Ascendancy', '0.38', 'KTK', 'Rare'),('Duneblast', '0.38', 'KTK', 'Rare'),('Craters Claws', '0.37', 'KTK', 'Rare'),('Rakshasa Vizier', '0.36', 'KTK', 'Rare'),('Savage Knuckleblade', '0.36', 'KTK', 'Rare'),('Dragon-Style Twins', '0.35', 'KTK', 'Rare'),('Herald of Anafenza', '0.35', 'KTK', 'Rare'),('Jeering Instigator', '0.35', 'KTK', 'Rare'),('Kheru Lich Lord', '0.35', 'KTK', 'Rare'),('Meandering Towershell', '0.35', 'KTK', 'Rare'),('Necropolis Fiend', '0.35', 'KTK', 'Rare'),('Rakshasa Deathdealer', '0.35', 'KTK', 'Rare'),('Sage of the Inward Eye', '0.35', 'KTK', 'Rare'),('Sagu Mauler', '0.35', 'KTK', 'Rare'),('Trail of Mystery', '0.35', 'KTK', 'Rare'),('Trap Essence', '0.35', 'KTK', 'Rare'),('Treasure Cruise', '0.35', 'KTK', 'Common'),('Ivorytusk Fortress', '0.34', 'KTK', 'Rare'),('Thousand Winds', '0.34', 'KTK', 'Rare'),('Kheru Spellsnatcher', '0.33', 'KTK', 'Rare'),('Avalanche Tusker', '0.32', 'KTK', 'Rare'),('Flying Crane Technique', '0.31', 'KTK', 'Rare'),('Become Immense', '0.30', 'KTK', 'Uncommon'),('High Sentinels of Arashin', '0.30', 'KTK', 'Rare'),('Master of Pearls', '0.30', 'KTK', 'Rare'),('Murderous Cut', '0.30', 'KTK', 'Uncommon'),('Seeker of the Way', '0.29', 'KTK', 'Uncommon'),('Goblinslide', '0.28', 'KTK', 'Uncommon'),('Mistfire Weaver', '0.27', 'KTK', 'Uncommon'),('Abzan Charm', '0.26', 'KTK', 'Uncommon'),('Despise', '0.26', 'KTK', 'Uncommon'),('Abzan Falconer', '0.25', 'KTK', 'Uncommon'),('Arc Lightning', '0.25', 'KTK', 'Uncommon'),('Bears Companion', '0.25', 'KTK', 'Uncommon'),('Bloodfell Caves', '0.25', 'KTK', 'Common'),('Bribers Purse', '0.25', 'KTK', 'Uncommon'),('Burn Away', '0.25', 'KTK', 'Uncommon'),('Chief of the Edge', '0.25', 'KTK', 'Uncommon'),('Cranial Archive', '0.25', 'KTK', 'Uncommon'),('Dazzling Ramparts', '0.25', 'KTK', 'Uncommon'),('Dead Drop', '0.25', 'KTK', 'Uncommon'),('Death Frenzy', '0.25', 'KTK', 'Uncommon'),('Disdainful Stroke', '0.25', 'KTK', 'Common'),('Dismal Backwater', '0.25', 'KTK', 'Common'),('Dragon Grip', '0.25', 'KTK', 'Uncommon'),('Dragons Eye Savants', '0.25', 'KTK', 'Uncommon'),('Feed the Clan', '0.25', 'KTK', 'Common'),('Gurmag Swiftwing', '0.25', 'KTK', 'Uncommon'),('Heart-Piercer Bow', '0.25', 'KTK', 'Uncommon'),('Heir of the Wilds', '0.25', 'KTK', 'Uncommon'),('Icefeather Aven', '0.25', 'KTK', 'Uncommon'),('Incremental Growth', '0.25', 'KTK', 'Uncommon'),('Jeskai Charm', '0.25', 'KTK', 'Uncommon'),('Kheru Bloodsucker', '0.25', 'KTK', 'Uncommon'),('Kin-Tree Invocation', '0.25', 'KTK', 'Uncommon'),('Mardu Blazebringer', '0.25', 'KTK', 'Uncommon'),('Mardu Charm', '0.25', 'KTK', 'Uncommon'),('Master the Way', '0.25', 'KTK', 'Uncommon'),('Mer-Ek Nightblade', '0.25', 'KTK', 'Uncommon'),('Quiet Contemplation', '0.25', 'KTK', 'Uncommon'),('Raiders Spoils', '0.25', 'KTK', 'Uncommon'),('Roar of Challenge', '0.25', 'KTK', 'Uncommon'),('Ruthless Ripper', '0.25', 'KTK', 'Uncommon'),('Secret Plans', '0.25', 'KTK', 'Uncommon'),('Seek the Horizon', '0.25', 'KTK', 'Uncommon'),('Set Adrift', '0.25', 'KTK', 'Uncommon'),('Sultai Charm', '0.25', 'KTK', 'Uncommon'),('Swarm of Bloodflies', '0.25', 'KTK', 'Uncommon'),('Temur Charger', '0.25', 'KTK', 'Uncommon'),('Temur Charm', '0.25', 'KTK', 'Uncommon'),('Timely Hordemate', '0.25', 'KTK', 'Uncommon'),('Tuskguard Captain', '0.25', 'KTK', 'Uncommon'),('Venerable Lammasu', '0.25', 'KTK', 'Uncommon'),('War-Name Aspirant', '0.25', 'KTK', 'Uncommon'),('Watcher of the Roost', '0.25', 'KTK', 'Uncommon'),('Waterwhirl', '0.25', 'KTK', 'Uncommon'),('Windstorm', '0.25', 'KTK', 'Uncommon'),('Winterflame', '0.25', 'KTK', 'Uncommon'),('Witness of the Ages', '0.25', 'KTK', 'Uncommon'),('Alpine Grizzly', '0.24', 'KTK', 'Common'),('Armament Corps', '0.24', 'KTK', 'Uncommon'),('Bellowing Saddlebrute', '0.24', 'KTK', 'Uncommon'),('Blinding Spray', '0.24', 'KTK', 'Uncommon'),('Chief of the Scale', '0.24', 'KTK', 'Uncommon'),('Highspire Mantis', '0.24', 'KTK', 'Uncommon'),('Hooting Mandrills', '0.24', 'KTK', 'Common'),('Horde Ambusher', '0.24', 'KTK', 'Uncommon'),('Mardu Banner', '0.24', 'KTK', 'Common'),('Mardu Heart-Piercer', '0.24', 'KTK', 'Uncommon'),('Mardu Roughrider', '0.24', 'KTK', 'Uncommon'),('Pine Walker', '0.24', 'KTK', 'Uncommon'),('Ride Down', '0.24', 'KTK', 'Uncommon'),('Riverwheel Aerialists', '0.24', 'KTK', 'Uncommon'),('Scion of Glaciers', '0.24', 'KTK', 'Uncommon'),('Scoured Barrens', '0.24', 'KTK', 'Common'),('Sultai Flayer', '0.24', 'KTK', 'Uncommon'),('Sultai Soothsayer', '0.24', 'KTK', 'Uncommon'),('Suspension Field', '0.24', 'KTK', 'Uncommon'),('Take Up Arms', '0.24', 'KTK', 'Uncommon'),('Tormenting Voice', '0.24', 'KTK', 'Common'),('Warden of the Eye', '0.24', 'KTK', 'Uncommon'),('Blossoming Sands', '0.23', 'KTK', 'Common'),('Defiant Strike', '0.23', 'KTK', 'Common'),('Jeskai Banner', '0.23', 'KTK', 'Common'),('Jeskai Elder', '0.23', 'KTK', 'Uncommon'),('Jungle Hollow', '0.23', 'KTK', 'Common'),('Longshot Squad', '0.23', 'KTK', 'Common'),('Monastery Flock', '0.23', 'KTK', 'Common'),('Savage Punch', '0.23', 'KTK', 'Common'),('Sultai Banner', '0.22', 'KTK', 'Common'),('Abzan Banner', '0.21', 'KTK', 'Common'),('Awaken the Bear', '0.21', 'KTK', 'Common'),('Cancel', '0.21', 'KTK', 'Common'),('Rugged Highlands', '0.21', 'KTK', 'Common'),('Swiftwater Cliffs', '0.21', 'KTK', 'Common'),('Taigams Scheming', '0.21', 'KTK', 'Common'),('Temur Banner', '0.21', 'KTK', 'Common'),('Ainok Bond-Kin', '0.20', 'KTK', 'Common'),('Archers Parapet', '0.20', 'KTK', 'Common'),('Arrow Storm', '0.20', 'KTK', 'Common'),('Barrage of Boulders', '0.20', 'KTK', 'Common'),('Bitter Revelation', '0.20', 'KTK', 'Common'),('Disowned Ancestor', '0.20', 'KTK', 'Common'),('Embodiment of Spring', '0.20', 'KTK', 'Common'),('Feat of Resistance', '0.20', 'KTK', 'Common'),('Force Away', '0.20', 'KTK', 'Common'),('Glacial Stalker', '0.20', 'KTK', 'Common'),('Kheru Dreadmaw', '0.20', 'KTK', 'Common'),('Lens of Clarity', '0.20', 'KTK', 'Common'),('Mardu Hateblade', '0.20', 'KTK', 'Common'),('Molting Snakeskin', '0.20', 'KTK', 'Common'),('Naturalize', '0.20', 'KTK', 'Common'),('Ponyback Brigade', '0.20', 'KTK', 'Common'),('Rakshasas Secret', '0.20', 'KTK', 'Common'),('Rite of the Serpent', '0.20', 'KTK', 'Common'),('Rotting Mastodon', '0.20', 'KTK', 'Common'),('Rush of Battle', '0.20', 'KTK', 'Common'),('Sagu Archer', '0.20', 'KTK', 'Common'),('Scout the Borders', '0.20', 'KTK', 'Common'),('Shambling Attendants', '0.20', 'KTK', 'Common'),('Shatter', '0.20', 'KTK', 'Common'),('Sidisis Pet', '0.20', 'KTK', 'Common'),('Siegecraft', '0.20', 'KTK', 'Common'),('Singing Bell Strike', '0.20', 'KTK', 'Common'),('Smite the Monstrous', '0.20', 'KTK', 'Common'),('Snowhorn Rider', '0.20', 'KTK', 'Common'),('Sultai Scavenger', '0.20', 'KTK', 'Common'),('Thornwood Falls', '0.20', 'KTK', 'Common'),('Tranquil Cove', '0.20', 'KTK', 'Common'),('Valley Dasher', '0.20', 'KTK', 'Common'),('War Behemoth', '0.20', 'KTK', 'Common'),('Weave Fate', '0.20', 'KTK', 'Common'),('Wetland Sambar', '0.20', 'KTK', 'Common'),('Wind-Scarred Crag', '0.20', 'KTK', 'Common'),('Woolly Loxodon', '0.20', 'KTK', 'Common'),('Abomination of Gudul', '0.19', 'KTK', 'Common'),('Abzan Guide', '0.19', 'KTK', 'Common'),('Act of Treason', '0.19', 'KTK', 'Common'),('Ainok Tracker', '0.19', 'KTK', 'Common'),('Crippling Chill', '0.19', 'KTK', 'Common'),('Debilitating Injury', '0.19', 'KTK', 'Common'),('Erase', '0.19', 'KTK', 'Common'),('Firehoof Cavalry', '0.19', 'KTK', 'Common'),('Highland Game', '0.19', 'KTK', 'Common'),('Jeskai Student', '0.19', 'KTK', 'Common'),('Jeskai Windscout', '0.19', 'KTK', 'Common'),('Kill Shot', '0.19', 'KTK', 'Common'),('Kin-Tree Warden', '0.19', 'KTK', 'Common'),('Krumar Bond-Kin', '0.19', 'KTK', 'Common'),('Leaping Master', '0.19', 'KTK', 'Common'),('Mardu Hordechief', '0.19', 'KTK', 'Common'),('Mardu Skullhunter', '0.19', 'KTK', 'Common'),('Mardu Warshrieker', '0.19', 'KTK', 'Common'),('Mystic of the Hidden Way', '0.19', 'KTK', 'Common'),('Sage-Eye Harrier', '0.19', 'KTK', 'Common'),('Salt Road Patrol', '0.19', 'KTK', 'Common'),('Scaldkin', '0.19', 'KTK', 'Common'),('Smoke Teller', '0.19', 'KTK', 'Common'),('Summit Prowler', '0.19', 'KTK', 'Common'),('Swift Kick', '0.19', 'KTK', 'Common'),('Throttle', '0.19', 'KTK', 'Common'),('Trumpet Blast', '0.19', 'KTK', 'Common'),('Tusked Colossodon', '0.19', 'KTK', 'Common'),('Unyielding Krumar', '0.19', 'KTK', 'Common'),('Whirlwind Adept', '0.19', 'KTK', 'Common'),('Alabaster Kirin', '0.18', 'KTK', 'Common'),('Bloodfire Expert', '0.18', 'KTK', 'Common'),('Bloodfire Mentor', '0.18', 'KTK', 'Common'),('Bring Low', '0.18', 'KTK', 'Common'),('Canyon Lurkers', '0.18', 'KTK', 'Common'),('Dragonscale Boon', '0.18', 'KTK', 'Common'),('Dutiful Return', '0.18', 'KTK', 'Common'),('Efreet Weaponmaster', '0.18', 'KTK', 'Common'),('Crucible of Worlds', '41.20', 'M19', 'Mythic'),('Nicol Bolas the Ravager', '28.50', 'M19', 'Mythic'),('Resplendent Angel', '21.84', 'M19', 'Mythic'),('Scapeshift', '15.53', 'M19', 'Mythic'),('Omniscience', '14.73', 'M19', 'Mythic'),('Sarkhan Fireblood', '9.98', 'M19', 'Mythic'),('Tezzeret Artifice Master', '9.49', 'M19', 'Mythic'),('Liliana Untouched by Death', '8.96', 'M19', 'Mythic'),('Leonin Warleader', '7.36', 'M19', 'Rare'),('Vivien Reid', '7.20', 'M19', 'Mythic'),('Alpine Moon', '6.77', 'M19', 'Rare'),('Goreclaw Terror of Qal Sisma', '4.87', 'M19', 'Rare'),('Ajani Adversary of Tyrants', '4.07', 'M19', 'Mythic'),('Reliquary Tower', '3.82', 'M19', 'Uncommon'),('Lathliss Dragon Queen', '3.49', 'M19', 'Rare'),('Stitchers Supplier', '3.25', 'M19', 'Uncommon'),('Sai Master Thopterist', '3.19', 'M19', 'Rare'),('Runic Armasaur', '2.99', 'M19', 'Rare'),('Arcades the Strategist', '2.94', 'M19', 'Mythic'),('Goblin Trashmaster', '2.82', 'M19', 'Rare'),('Vaevictis Asmadi the Dire', '2.61', 'M19', 'Mythic'),('Death Baron', '2.57', 'M19', 'Rare'),('Psychic Corrosion', '2.50', 'M19', 'Uncommon'),('Lilianas Contract', '2.30', 'M19', 'Rare'),('Gigantosaurus', '1.95', 'M19', 'Rare'),('Elvish Clancaller', '1.75', 'M19', 'Rare'),('Satyr Enchanter', '1.67', 'M19', 'Uncommon'),('Ajanis Welcome', '1.50', 'M19', 'Uncommon'),('Dragons Hoard', '1.39', 'M19', 'Rare'),('Poison-Tip Archer', '1.26', 'M19', 'Uncommon'),('Chromium the Mutable', '1.24', 'M19', 'Mythic'),('Palladia-Mors the Ruiner', '1.15', 'M19', 'Mythic'),('Detection Tower', '1.11', 'M19', 'Rare'),('Open the Graves', '0.99', 'M19', 'Rare'),('Mentor of the Meek', '0.95', 'M19', 'Rare'),('Sigiled Sword of Valeron', '0.95', 'M19', 'Rare'),('Banefire', '0.94', 'M19', 'Rare'),('Cleansing Nova', '0.92', 'M19', 'Rare'),('Bone Dragon', '0.90', 'M19', 'Mythic'),('Hungering Hydra', '0.89', 'M19', 'Rare'),('Fraying Omnipotence', '0.79', 'M19', 'Rare'),('Apex of Power', '0.78', 'M19', 'Mythic'),('Desecrated Tomb', '0.77', 'M19', 'Rare'),('Sarkhans Unsealing', '0.77', 'M19', 'Rare'),('Supreme Phantom', '0.76', 'M19', 'Rare'),('Patient Rebuilding', '0.73', 'M19', 'Rare'),('Fountain of Renewal', '0.69', 'M19', 'Uncommon'),('Demanding Dragon', '0.59', 'M19', 'Rare'),('Remorseful Cleric', '0.59', 'M19', 'Rare'),('Valiant Knight', '0.58', 'M19', 'Rare'),('Colossal Majesty', '0.55', 'M19', 'Uncommon'),('Mirror Image', '0.53', 'M19', 'Uncommon'),('Chaos Wand', '0.50', 'M19', 'Rare'),('Demon of Catastrophes', '0.50', 'M19', 'Rare'),('Isareth the Awakener', '0.50', 'M19', 'Rare'),('Magistrates Scepter', '0.50', 'M19', 'Rare'),('Mistcaller', '0.50', 'M19', 'Rare'),('One with the Machine', '0.50', 'M19', 'Rare'),('Dark-Dweller Oracle', '0.49', 'M19', 'Rare'),('Graveyard Marshal', '0.49', 'M19', 'Rare'),('Spit Flame', '0.49', 'M19', 'Rare'),('Transmogrifying Wand', '0.49', 'M19', 'Rare'),('Windreader Sphinx', '0.49', 'M19', 'Rare'),('Lena Selfless Champion', '0.48', 'M19', 'Rare'),('Infernal Reckoning', '0.47', 'M19', 'Rare'),('Thorn Lieutenant', '0.47', 'M19', 'Rare'),('Metamorphic Alteration', '0.45', 'M19', 'Rare'),('Prodigious Growth', '0.44', 'M19', 'Rare'),('Suncleanser', '0.44', 'M19', 'Rare'),('Isolate', '0.43', 'M19', 'Rare'),('Dismissive Pyromancer', '0.40', 'M19', 'Rare'),('Fell Specter', '0.40', 'M19', 'Uncommon'),('Phylactery Lich', '0.40', 'M19', 'Rare'),('Reclamation Sage', '0.40', 'M19', 'Uncommon'),('Amulet of Safekeeping', '0.39', 'M19', 'Rare'),('Doublecast', '0.38', 'M19', 'Uncommon'),('Viviens Invocation', '0.37', 'M19', 'Rare'),('Pelakka Wurm', '0.36', 'M19', 'Rare'),('Mystic Archaeologist', '0.35', 'M19', 'Rare'),('Vine Mare', '0.35', 'M19', 'Uncommon'),('Ajanis Pridemate', '0.34', 'M19', 'Uncommon'),('Djinn of Wishes', '0.34', 'M19', 'Rare'),('Thud', '0.34', 'M19', 'Uncommon'),('Aether Tunnel', '0.32', 'M19', 'Uncommon'),('Goblin Instigator', '0.32', 'M19', 'Common'),('Reassembling Skeleton', '0.32', 'M19', 'Uncommon'),('Ajanis Last Stand', '0.31', 'M19', 'Rare'),('Guttersnipe', '0.31', 'M19', 'Uncommon'),('Dryad Greenseeker', '0.30', 'M19', 'Uncommon'),('Enigma Drake', '0.30', 'M19', 'Uncommon'),('Arcane Encyclopedia', '0.29', 'M19', 'Uncommon'),('Blanchwood Armor', '0.29', 'M19', 'Uncommon'),('Draconic Disciple', '0.29', 'M19', 'Uncommon'),('Exclusion Mage', '0.29', 'M19', 'Uncommon'),('Rogues Gloves', '0.29', 'M19', 'Uncommon'),('Regal Bloodlord', '0.27', 'M19', 'Uncommon'),('Suspicious Bookcase', '0.27', 'M19', 'Uncommon'),('Blood Divination', '0.26', 'M19', 'Uncommon'),('Leonin Vanguard', '0.26', 'M19', 'Uncommon'),('Make a Stand', '0.26', 'M19', 'Uncommon'),('Abnormal Endurance', '0.25', 'M19', 'Common'),('Aegis of the Heavens', '0.25', 'M19', 'Uncommon'),('Aerial Engineer', '0.25', 'M19', 'Uncommon'),('Aethershield Artificer', '0.25', 'M19', 'Uncommon'),('Bone to Ash', '0.25', 'M19', 'Uncommon'),('Brawl-Bash Ogre', '0.25', 'M19', 'Uncommon'),('Cinder Barrens', '0.25', 'M19', 'Common'),('Crash Through', '0.25', 'M19', 'Common'),('Declare Dominance', '0.25', 'M19', 'Uncommon'),('Departed Deckhand', '0.25', 'M19', 'Uncommon'),('Diamond Mare', '0.25', 'M19', 'Uncommon'),('Diregraf Ghoul', '0.25', 'M19', 'Uncommon'),('Dragon Egg', '0.25', 'M19', 'Uncommon'),('Druid of Horns', '0.25', 'M19', 'Uncommon'),('Elvish Rejuvenator', '0.25', 'M19', 'Common'),('Epicure of Blood', '0.25', 'M19', 'Common'),('Forsaken Sanctuary', '0.25', 'M19', 'Common'),('Ghastbark Twins', '0.25', 'M19', 'Uncommon'),('Ghirapur Guide', '0.25', 'M19', 'Uncommon'),('Gift of Paradise', '0.25', 'M19', 'Uncommon'),('Goblin Motivator', '0.25', 'M19', 'Common'),('Gravedigger', '0.25', 'M19', 'Uncommon'),('Herald of Faith', '0.25', 'M19', 'Uncommon'),('Heroic Reinforcements', '0.25', 'M19', 'Uncommon'),('Hieromancers Cage', '0.25', 'M19', 'Uncommon'),('Highland Lake', '0.25', 'M19', 'Common'),('Horizon Scholar', '0.25', 'M19', 'Uncommon'),('Knightly Valor', '0.25', 'M19', 'Uncommon'),('Lightning Mare', '0.25', 'M19', 'Uncommon'),('Lightning Strike', '0.25', 'M19', 'Uncommon'),('Manalith', '0.25', 'M19', 'Common'),('Meandering River', '0.25', 'M19', 'Common'),('Meteor Golem', '0.25', 'M19', 'Uncommon'),('Militia Bugler', '0.25', 'M19', 'Uncommon'),('Millstone', '0.25', 'M19', 'Uncommon'),('Murder', '0.25', 'M19', 'Uncommon'),('Nightmares Thirst', '0.25', 'M19', 'Uncommon'),('Novice Knight', '0.25', 'M19', 'Uncommon'),('Plague Mare', '0.25', 'M19', 'Uncommon'),('Psychic Symbiont', '0.25', 'M19', 'Uncommon'),('Ravenous Harpy', '0.25', 'M19', 'Uncommon'),('Recollect', '0.25', 'M19', 'Uncommon'),('Rise from the Grave', '0.25', 'M19', 'Uncommon'),('Rupture Spire', '0.25', 'M19', 'Uncommon'),('Shield Mare', '0.25', 'M19', 'Uncommon'),('Siegebreaker Giant', '0.25', 'M19', 'Uncommon'),('Sift', '0.25', 'M19', 'Uncommon'),('Skilled Animator', '0.25', 'M19', 'Uncommon'),('Skyrider Patrol', '0.25', 'M19', 'Uncommon'),('Sleep', '0.25', 'M19', 'Uncommon'),('Sovereigns Bite', '0.25', 'M19', 'Common'),('Submerged Boneyard', '0.25', 'M19', 'Common'),('Surge Mare', '0.25', 'M19', 'Uncommon'),('Switcheroo', '0.25', 'M19', 'Uncommon'),('Tectonic Rift', '0.25', 'M19', 'Uncommon'),('Tormenting Voice', '0.25', 'M19', 'Common'),('Tranquil Expanse', '0.25', 'M19', 'Common'),('Vampire Sovereign', '0.25', 'M19', 'Uncommon'),('Viashino Pyromancer', '0.25', 'M19', 'Common'),('Volcanic Dragon', '0.25', 'M19', 'Uncommon'),('Volley Veteran', '0.25', 'M19', 'Uncommon'),('Druid of the Cowl', '0.24', 'M19', 'Common'),('Fiery Finish', '0.24', 'M19', 'Uncommon'),('Foul Orchard', '0.24', 'M19', 'Common'),('Gargoyle Sentinel', '0.24', 'M19', 'Uncommon'),('Inferno Hellion', '0.24', 'M19', 'Uncommon'),('Revitalize', '0.24', 'M19', 'Common'),('Salvager of Secrets', '0.24', 'M19', 'Common'),('Shock', '0.24', 'M19', 'Common'),('Skyscanner', '0.24', 'M19', 'Common'),('Timber Gorge', '0.24', 'M19', 'Common'),('Vampire Neonate', '0.24', 'M19', 'Common'),('Vigilant Baloth', '0.24', 'M19', 'Uncommon'),('Woodland Stream', '0.24', 'M19', 'Common'),('Cancel', '0.23', 'M19', 'Common'),('Doomed Dissenter', '0.23', 'M19', 'Common'),('Anticipate', '0.22', 'M19', 'Common'),('Aviation Pioneer', '0.22', 'M19', 'Common'),('Daggerback Basilisk', '0.22', 'M19', 'Common'),('Smelt', '0.22', 'M19', 'Common'),('Take Vengeance', '0.21', 'M19', 'Common'),('Angel of the Dawn', '0.20', 'M19', 'Common'),('Boggart Brute', '0.20', 'M19', 'Common'),('Bogstomper', '0.20', 'M19', 'Common'),('Catalyst Elemental', '0.20', 'M19', 'Common'),('Cavalry Drillmaster', '0.20', 'M19', 'Common'),('Child of Night', '0.20', 'M19', 'Common'),('Colossal Dreadmaw', '0.20', 'M19', 'Common'),('Disperse', '0.20', 'M19', 'Common'),('Divination', '0.20', 'M19', 'Common'),('Duress', '0.20', 'M19', 'Common'),('Dwarven Priest', '0.20', 'M19', 'Common'),('Dwindle', '0.20', 'M19', 'Common'),('Essence Scatter', '0.20', 'M19', 'Common'),('Field Creeper', '0.20', 'M19', 'Common'),('Gallant Cavalry', '0.20', 'M19', 'Common'),('Gearsmith Prodigy', '0.20', 'M19', 'Common'),('Ghostform', '0.20', 'M19', 'Common'),('Giant Spider', '0.20', 'M19', 'Common'),('Highland Game', '0.20', 'M19', 'Common'),('Infectious Horror', '0.20', 'M19', 'Common'),('Invoke the Divine', '0.20', 'M19', 'Common'),('Knight of the Tusk', '0.20', 'M19', 'Common'),('Knights Pledge', '0.20', 'M19', 'Common'),('Lava Axe', '0.20', 'M19', 'Common'),('Loxodon Line Breaker', '0.20', 'M19', 'Common'),('Macabre Waltz', '0.20', 'M19', 'Common'),('Mighty Leap', '0.20', 'M19', 'Common'),('Mind Rot', '0.20', 'M19', 'Common'),('Naturalize', '0.20', 'M19', 'Common'),('Oakenform', '0.20', 'M19', 'Common'),('Omenspeaker', '0.20', 'M19', 'Common'),('Oreskos Swiftclaw', '0.20', 'M19', 'Common'),('Rabid Bite', '0.20', 'M19', 'Common'),('Rhox Oracle', '0.20', 'M19', 'Common'),('Root Snare', '0.20', 'M19', 'Common'),('Rustwing Falcon', '0.20', 'M19', 'Common'),('Scholar of Stars', '0.20', 'M19', 'Common'),('Skymarch Bloodletter', '0.20', 'M19', 'Common'),('Snapping Drake', '0.20', 'M19', 'Common'),('Star-Crowned Stag', '0.20', 'M19', 'Common'),('Stone Quarry', '0.20', 'M19', 'Common'),('Talons of Wildwood', '0.20', 'M19', 'Common'),('Titanic Growth', '0.20', 'M19', 'Common'),('Wall of Mist', '0.20', 'M19', 'Common'),('Wall of Vines', '0.20', 'M19', 'Common'),('Act of Treason', '0.19', 'M19', 'Common'),('Aven Wind Mage', '0.19', 'M19', 'Common'),('Bristling Boar', '0.19', 'M19', 'Common'),('Daybreak Chaplain', '0.19', 'M19', 'Common'),('Electrify', '0.19', 'M19', 'Common'),('Explosive Apparatus', '0.19', 'M19', 'Common'),('Fire Elemental', '0.19', 'M19', 'Common'),('Frilled Sea Serpent', '0.19', 'M19', 'Common'),('Greenwood Sentinel', '0.19', 'M19', 'Common'),('Havoc Devils', '0.19', 'M19', 'Common'),('Hired Blade', '0.19', 'M19', 'Common'),('Hostile Minotaur', '0.19', 'M19', 'Common'),('Infernal Scarring', '0.19', 'M19', 'Common'),('Marauders Axe', '0.19', 'M19', 'Common'),('Pegasus Courser', '0.19', 'M19', 'Common'),('Skeleton Archer', '0.19', 'M19', 'Common'),('Thornhide Wolves', '0.19', 'M19', 'Common'),('Tolarian Scholar', '0.19', 'M19', 'Common'),('Totally Lost', '0.19', 'M19', 'Common'),('Trumpet Blast', '0.19', 'M19', 'Common'),('Trusty Packbeast', '0.19', 'M19', 'Common'),('Two-Headed Zombie', '0.19', 'M19', 'Common'),('Uncomfortable Chill', '0.19', 'M19', 'Common'),('Walking Corpse', '0.19', 'M19', 'Common'),('Centaur Courser', '0.18', 'M19', 'Common'),('Gearsmith Guardian', '0.18', 'M19', 'Common'),('Inspired Charge', '0.18', 'M19', 'Common'),('Lichs Caress', '0.18', 'M19', 'Common'),('Luminous Bonds', '0.18', 'M19', 'Common'),('Onakke Ogre', '0.18', 'M19', 'Common'),('Strangling Spores', '0.18', 'M19', 'Common'),('Sure Strike', '0.18', 'M19', 'Common'),('Plummet', '0.17', 'M19', 'Common'),('Sparktongue Dragon', '0.17', 'M19', 'Common'),('Shadowspear', '22.34', 'THB', 'Rare'),('Kroxa Titan of Deaths Hunger', '22.04', 'THB', 'Mythic'),('Heliod Sun-Crowned', '20.43', 'THB', 'Mythic'),('Nyxbloom Ancient', '18.57', 'THB', 'Mythic'),('Dryad of the Ilysian Grove', '17.00', 'THB', 'Rare'),('Uro Titan of Natures Wrath', '13.95', 'THB', 'Mythic'),('Thassa Deep-Dwelling', '13.00', 'THB', 'Mythic'),('Thassas Oracle', '11.00', 'THB', 'Rare'),('Idyllic Tutor', '8.39', 'THB', 'Rare'),('Klothys God of Destiny', '7.75', 'THB', 'Mythic'),('Setessan Champion', '7.56', 'THB', 'Rare'),('Heliods Intervention', '6.00', 'THB', 'Rare'),('Underworld Breach', '5.94', 'THB', 'Rare'),('Destiny Spinner', '4.95', 'THB', 'Uncommon'),('Nyx Lotus', '4.15', 'THB', 'Rare'),('Ashiok Nightmare Muse', '4.09', 'THB', 'Mythic'),('Kiora Bests the Sea God', '4.08', 'THB', 'Mythic'),('Nylea Keen-Eyed', '3.97', 'THB', 'Mythic'),('Calix Destinys Hand', '3.67', 'THB', 'Mythic'),('Soul-Guide Lantern', '2.79', 'THB', 'Uncommon'),('Ox of Agonas', '2.75', 'THB', 'Mythic'),('Purphoros Bronze-Blooded', '2.68', 'THB', 'Mythic'),('Ashiok Sculptor of Fears', '2.50', 'THB', 'Mythic'),('Erebos Bleak-Hearted', '2.18', 'THB', 'Mythic'),('Polukranos Unchained', '1.68', 'THB', 'Mythic'),('Woe Strider', '1.50', 'THB', 'Rare'),('Elspeth Suns Nemesis', '1.43', 'THB', 'Mythic'),('Nadir Kraken', '1.33', 'THB', 'Rare'),('Island251', '1.10', 'THB', 'Common'),('Forest254', '1.09', 'THB', 'Common'),('Temple of Malice', '1.07', 'THB', 'Rare'),('Arasta of the Endless Web', '1.01', 'THB', 'Rare'),('Temple of Plenty', '1.01', 'THB', 'Rare'),('Hydras Growth', '1.00', 'THB', 'Uncommon'),('Swamp252', '1.00', 'THB', 'Common'),('Temple of Abandon', '1.00', 'THB', 'Rare'),('Mountain253', '0.99', 'THB', 'Common'),('Temple of Deceit', '0.91', 'THB', 'Rare'),('Labyrinth of Skophos', '0.90', 'THB', 'Rare'),('Nightmare Shepherd', '0.89', 'THB', 'Rare'),('Elspeth Undaunted Hero', '0.82', 'THB', 'Mythic'),('Nyleas Intervention', '0.75', 'THB', 'Rare'),('Plains250', '0.75', 'THB', 'Common'),('Thryx the Sudden Storm', '0.73', 'THB', 'Rare'),('Archon of Suns Grace', '0.69', 'THB', 'Rare'),('Gray Merchant of Asphodel', '0.59', 'THB', 'Uncommon'),('Kunoros Hound of Athreos', '0.55', 'THB', 'Rare'),('Elspeth Conquers Death', '0.53', 'THB', 'Rare'),('Gravebreaker Lamia', '0.51', 'THB', 'Rare'),('Bronzehide Lion', '0.50', 'THB', 'Rare'),('Dream Trawler', '0.50', 'THB', 'Rare'),('Ereboss Intervention', '0.50', 'THB', 'Rare'),('Shatter the Sky', '0.50', 'THB', 'Rare'),('Storms Wrath', '0.50', 'THB', 'Rare'),('Tectonic Giant', '0.50', 'THB', 'Rare'),('Temple of Enlightenment', '0.50', 'THB', 'Rare'),('Alseid of Lifes Bounty', '0.49', 'THB', 'Uncommon'),('Field of Ruin', '0.49', 'THB', 'Uncommon'),('Treacherous Blessing', '0.47', 'THB', 'Rare'),('Underworld Dreams', '0.47', 'THB', 'Uncommon'),('Daxos Blessed by the Sun', '0.46', 'THB', 'Uncommon'),('Thassas Intervention', '0.46', 'THB', 'Rare'),('Wavebreak Hippocamp', '0.46', 'THB', 'Rare'),('Eat to Extinction', '0.44', 'THB', 'Rare'),('Atris Oracle of Half-Truths', '0.43', 'THB', 'Rare'),('Phoenix of Ash', '0.43', 'THB', 'Rare'),('Enigmatic Incarnation', '0.40', 'THB', 'Rare'),('Gallia of the Endless Dance', '0.40', 'THB', 'Rare'),('Protean Thaumaturge', '0.40', 'THB', 'Rare'),('Renata Called to the Hunt', '0.40', 'THB', 'Uncommon'),('Mirror Shield', '0.39', 'THB', 'Uncommon'),('The Akroan War', '0.39', 'THB', 'Rare'),('Eidolon of Obstruction', '0.37', 'THB', 'Rare'),('The First Iroan Games', '0.36', 'THB', 'Rare'),('Tymaret Calls the Dead', '0.36', 'THB', 'Rare'),('Aphemia the Cacophony', '0.35', 'THB', 'Rare'),('Dalakos Crafter of Wonders', '0.35', 'THB', 'Rare'),('Haktos the Unscarred', '0.35', 'THB', 'Rare'),('Mantle of the Wolf', '0.35', 'THB', 'Rare'),('Storm Herald', '0.35', 'THB', 'Rare'),('Wolfwillow Haven', '0.35', 'THB', 'Uncommon'),('Ashioks Erasure', '0.34', 'THB', 'Rare'),('Staggering Insight', '0.34', 'THB', 'Uncommon'),('Cling to Dust', '0.33', 'THB', 'Uncommon'),('Purphoross Intervention', '0.33', 'THB', 'Rare'),('Allure of the Unknown', '0.30', 'THB', 'Rare'),('Taranika Akroan Veteran', '0.30', 'THB', 'Rare'),('Nessian Boar', '0.29', 'THB', 'Rare'),('Ilysian Caryatid', '0.27', 'THB', 'Common'),('Drag to the Underworld', '0.26', 'THB', 'Uncommon'),('Siona Captain of the Pyleas', '0.26', 'THB', 'Uncommon'),('The Birth of Meletis', '0.26', 'THB', 'Uncommon'),('Acolyte of Affliction', '0.25', 'THB', 'Uncommon'),('Agonizing Remorse', '0.25', 'THB', 'Uncommon'),('Alirios Enraptured', '0.25', 'THB', 'Uncommon'),('Anax Hardened in the Forge', '0.25', 'THB', 'Uncommon'),('Archon of Falling Stars', '0.25', 'THB', 'Uncommon'),('Banishing Light', '0.25', 'THB', 'Uncommon'),('Blood Aspirant', '0.25', 'THB', 'Uncommon'),('Callaphe Beloved of the Sea', '0.25', 'THB', 'Uncommon'),('Careless Celebrant', '0.25', 'THB', 'Uncommon'),('Chainweb Aracnir', '0.25', 'THB', 'Uncommon'),('Commanding Presence', '0.25', 'THB', 'Uncommon'),('Dawn Evangel', '0.25', 'THB', 'Uncommon'),('Dreamshaper Shaman', '0.25', 'THB', 'Uncommon'),('Elspeths Nightmare', '0.25', 'THB', 'Uncommon'),('Escape Velocity', '0.25', 'THB', 'Uncommon'),('Eutropia the Twice-Favored', '0.25', 'THB', 'Uncommon'),('Furious Rise', '0.25', 'THB', 'Uncommon'),('Hateful Eidolon', '0.25', 'THB', 'Uncommon'),('Heliods Punishment', '0.25', 'THB', 'Uncommon'),('Hero of the Nyxborn', '0.25', 'THB', 'Uncommon'),('Inevitable End', '0.25', 'THB', 'Uncommon'),('Klothyss Design', '0.25', 'THB', 'Uncommon'),('Medomais Prophecy', '0.25', 'THB', 'Uncommon'),('Minions Return', '0.25', 'THB', 'Uncommon'),('Mire Triton', '0.25', 'THB', 'Uncommon'),('Mystic Repeal', '0.25', 'THB', 'Uncommon'),('Nessian Hornbeetle', '0.25', 'THB', 'Uncommon'),('Nessian Wanderer', '0.25', 'THB', 'Uncommon'),('Omen of the Sea', '0.25', 'THB', 'Common'),('One with the Stars', '0.25', 'THB', 'Uncommon'),('Phalanx Tactics', '0.25', 'THB', 'Uncommon'),('Pheres-Band Brawler', '0.25', 'THB', 'Uncommon'),('Reverent Hoplite', '0.25', 'THB', 'Uncommon'),('Sage of Mysteries', '0.25', 'THB', 'Uncommon'),('Sentinels Eyes', '0.25', 'THB', 'Common'),('Setessan Petitioner', '0.25', 'THB', 'Uncommon'),('Shimmerwing Chimera', '0.25', 'THB', 'Uncommon'),('Shoal Kraken', '0.25', 'THB', 'Uncommon'),('Slaughter-Priest of Mogis', '0.25', 'THB', 'Uncommon'),('Stinging Lionfish', '0.25', 'THB', 'Uncommon'),('Sweet Oblivion', '0.25', 'THB', 'Uncommon'),('The Binding of the Titans', '0.25', 'THB', 'Uncommon'),('The Triumph of Anax', '0.25', 'THB', 'Uncommon'),('Thrill of Possibility', '0.25', 'THB', 'Common'),('Thundering Chariot', '0.25', 'THB', 'Uncommon'),('Tymaret Chosen from Death', '0.25', 'THB', 'Uncommon'),('Underworld Fires', '0.25', 'THB', 'Uncommon'),('Warden of the Chained', '0.25', 'THB', 'Uncommon'),('Whirlwind Denial', '0.25', 'THB', 'Uncommon'),('Devourer of Memory', '0.24', 'THB', 'Uncommon'),('Enemy of Enlightenment', '0.24', 'THB', 'Uncommon'),('Entrancing Lyre', '0.24', 'THB', 'Uncommon'),('Fateful End', '0.24', 'THB', 'Uncommon'),('Favored of Iroas', '0.24', 'THB', 'Uncommon'),('Glimpse of Freedom', '0.24', 'THB', 'Uncommon'),('Hero of the Winds', '0.24', 'THB', 'Uncommon'),('Heroes of the Revel', '0.24', 'THB', 'Uncommon'),('Impending Doom', '0.24', 'THB', 'Uncommon'),('Lagonna-Band Storyteller', '0.24', 'THB', 'Uncommon'),('Mischievous Chimera', '0.24', 'THB', 'Uncommon'),('Nyx Herald', '0.24', 'THB', 'Uncommon'),('Pharikas Spawn', '0.24', 'THB', 'Uncommon'),('Rise to Glory', '0.24', 'THB', 'Uncommon'),('Sea Gods Scorn', '0.24', 'THB', 'Uncommon'),('Skophos Maze-Warden', '0.24', 'THB', 'Uncommon'),('Threnody Singer', '0.24', 'THB', 'Uncommon'),('Dreamstalker Manticore', '0.23', 'THB', 'Uncommon'),('Heliods Pilgrim', '0.23', 'THB', 'Common'),('Moss Viper', '0.23', 'THB', 'Common'),('Omen of the Hunt', '0.23', 'THB', 'Common'),('Stern Dismissal', '0.23', 'THB', 'Common'),('Altar of the Pantheon', '0.22', 'THB', 'Common'),('Return to Nature', '0.22', 'THB', 'Common'),('Flicker of Fate', '0.21', 'THB', 'Common'),('Karametras Blessing', '0.21', 'THB', 'Common'),('Thirst for Meaning', '0.21', 'THB', 'Common'),('Transcendent Envoy', '0.21', 'THB', 'Common'),('Fruit of Tizerus', '0.20', 'THB', 'Common'),('Funeral Rites', '0.20', 'THB', 'Common'),('Hyrax Tower Scout', '0.20', 'THB', 'Common'),('Lampad of Deaths Vigil', '0.20', 'THB', 'Common'),('Naiad of Hidden Coves', '0.20', 'THB', 'Common'),('Nyleas Forerunner', '0.20', 'THB', 'Common'),('Omen of the Dead', '0.20', 'THB', 'Common'),('Omen of the Forge', '0.20', 'THB', 'Common'),('Omen of the Sun', '0.20', 'THB', 'Common'),('Pharikas Libation', '0.20', 'THB', 'Common'),('Revoke Existence', '0.20', 'THB', 'Common'),('Riptide Turtle', '0.20', 'THB', 'Common'),('Setessan Training', '0.20', 'THB', 'Common'),('Travelers Amulet', '0.20', 'THB', 'Common'),('Unknown Shores', '0.20', 'THB', 'Common'),('Aspect of Lamprey', '0.19', 'THB', 'Common'),('Blight-Breath Catoblepas', '0.19', 'THB', 'Common'),('Captivating Unicorn', '0.19', 'THB', 'Common'),('Daybreak Chimera', '0.19', 'THB', 'Common'),('Discordant Piper', '0.19', 'THB', 'Common'),('Eidolon of Philosophy', '0.19', 'THB', 'Common'),('Elite Instructor', '0.19', 'THB', 'Common'),('Infuriate', '0.19', 'THB', 'Common'),('Mires Grasp', '0.19', 'THB', 'Common'),('Nyxborn Colossus', '0.19', 'THB', 'Common'),('Plummet', '0.19', 'THB', 'Common'),('Satyrs Cunning', '0.19', 'THB', 'Common'),('Skola Grovedancer', '0.19', 'THB', 'Common'),('Soulreaper of Mogis', '0.19', 'THB', 'Common'),('Starlit Mantle', '0.19', 'THB', 'Common'),('Sunmane Pegasus', '0.19', 'THB', 'Common'),('Underworld Rage-Hound', '0.19', 'THB', 'Common'),('Venomous Hierophant', '0.19', 'THB', 'Common'),('Voracious Typhon', '0.19', 'THB', 'Common'),('Warbriar Blessing', '0.19', 'THB', 'Common'),('Wings of Hubris', '0.19', 'THB', 'Common'),('Aspect of Manticore', '0.18', 'THB', 'Common'),('Brine Giant', '0.18', 'THB', 'Common'),('Bronze Sword', '0.18', 'THB', 'Common'),('Chain to Memory', '0.18', 'THB', 'Common'),('Deny the Divine', '0.18', 'THB', 'Common'),('Final Death', '0.18', 'THB', 'Common'),('Final Flare', '0.18', 'THB', 'Common'),('Flummoxed Cyclops', '0.18', 'THB', 'Common'),('Grim Physician', '0.18', 'THB', 'Common'),('Hero of the Games', '0.18', 'THB', 'Common'),('Indomitable Will', '0.18', 'THB', 'Common'),('Irreverent Revelers', '0.18', 'THB', 'Common'),('Leonin of the Lost Pride', '0.18', 'THB', 'Common'),('Loathsome Chimera', '0.18', 'THB', 'Common'),('Memory Drain', '0.18', 'THB', 'Common'),('Mogiss Favor', '0.18', 'THB', 'Common'),('Nyleas Huntmaster', '0.18', 'THB', 'Common'),('Nyxborn Marauder', '0.18', 'THB', 'Common'),('Oread of Mountains Blaze', '0.18', 'THB', 'Common'),('Portent of Betrayal', '0.18', 'THB', 'Common'),('Rage-Scarred Berserker', '0.18', 'THB', 'Common'),('Relentless Pursuit', '0.18', 'THB', 'Common'),('Rumbling Sentry', '0.18', 'THB', 'Common'),('Scavenging Harpy', '0.18', 'THB', 'Common'),('Setessan Skirmisher', '0.18', 'THB', 'Common'),('Sleep of the Dead', '0.18', 'THB', 'Common'),('Temple Thief', '0.18', 'THB', 'Common'),('Towering-Wave Mystic', '0.18', 'THB', 'Common'),('Triumphant Surge', '0.18', 'THB', 'Common'),('Underworld Charger', '0.18', 'THB', 'Common'),('Hero of the Pride', '0.17', 'THB', 'Common'),('Incendiary Oracle', '0.17', 'THB', 'Common'),('Inspire Awe', '0.17', 'THB', 'Common'),('Iroass Blessing', '0.17', 'THB', 'Common'),('Nexus Wardens', '0.17', 'THB', 'Common'),('Nyxborn Seaguard', '0.17', 'THB', 'Common'),('Pious Wayfarer', '0.17', 'THB', 'Common'),('Skophos Warleader', '0.17', 'THB', 'Common'),('Stampede Rider', '0.17', 'THB', 'Common'),('Triton Waverider', '0.17', 'THB', 'Common'),('Vexing Gull', '0.17', 'THB', 'Common'),('Witness of Tomorrows', '0.17', 'THB', 'Common'),('Dreadful Apathy', '0.16', 'THB', 'Common'),('Gift of Strength', '0.16', 'THB', 'Common'),('Glory Bearers', '0.15', 'THB', 'Common'),('Ichthyomorphosis', '0.15', 'THB', 'Common'),('Nyxborn Brute', '0.15', 'THB', 'Common'),('Nyxborn Courser', '0.15', 'THB', 'Common'),('Thaumaturges Familiar', '0.15', 'THB', 'Common'),('Wrap in Flames', '0.15', 'THB', 'Common'),('Arena Trickster', '0.14', 'THB', 'Common'),('Aurelia the Warleader', '32.61', 'GTC', 'Mythic'),('Lord of the Void', '23.40', 'GTC', 'Mythic'),('Breeding Pool', '22.67', 'GTC', 'Rare'),('Sacred Foundry', '20.63', 'GTC', 'Rare'),('Godless Shrine', '14.04', 'GTC', 'Rare'),('Watery Grave', '13.99', 'GTC', 'Rare'),('Stomping Ground', '10.67', 'GTC', 'Rare'),('Crypt Ghast', '10.49', 'GTC', 'Rare'),('Illusionists Bracers', '8.54', 'GTC', 'Rare'),('Legion Loyalist', '8.05', 'GTC', 'Rare'),('Aurelias Fury', '7.29', 'GTC', 'Mythic'),('Hellkite Tyrant', '7.10', 'GTC', 'Mythic'),('Blind Obedience', '6.43', 'GTC', 'Rare'),('Enter the Infinite', '5.00', 'GTC', 'Mythic'),('Mind Grind', '4.46', 'GTC', 'Rare'),('Prime Speaker Zegana', '4.25', 'GTC', 'Mythic'),('Rapid Hybridization', '3.13', 'GTC', 'Uncommon'),('Merciless Eviction', '2.50', 'GTC', 'Rare'),('Skullcrack', '2.50', 'GTC', 'Uncommon'),('Boros Charm', '2.37', 'GTC', 'Uncommon'),('Domri Rade', '2.37', 'GTC', 'Mythic'),('Master Biomancer', '2.16', 'GTC', 'Mythic'),('Sepulchral Primordial', '2.04', 'GTC', 'Rare'),('Assemble the Legion', '2.00', 'GTC', 'Rare'),('Gyre Sage', '1.99', 'GTC', 'Rare'),('Thespians Stage', '1.75', 'GTC', 'Rare'),('Obzedat Ghost Council', '1.46', 'GTC', 'Mythic'),('Giant Adephage', '1.30', 'GTC', 'Mythic'),('Angelic Skirmisher', '1.28', 'GTC', 'Rare'),('Borborygmos Enraged', '1.23', 'GTC', 'Mythic'),('Gideon Champion of Justice', '1.20', 'GTC', 'Mythic'),('Alpha Authority', '1.19', 'GTC', 'Uncommon'),('Lazav Dimir Mastermind', '1.19', 'GTC', 'Mythic'),('Glaring Spotlight', '1.02', 'GTC', 'Rare'),('Consuming Aberration', '1.00', 'GTC', 'Rare'),('Diluvian Primordial', '1.00', 'GTC', 'Rare'),('Deathpact Angel', '0.99', 'GTC', 'Mythic'),('Biovisionary', '0.98', 'GTC', 'Rare'),('Whispering Madness', '0.95', 'GTC', 'Rare'),('Nightveil Specter', '0.92', 'GTC', 'Rare'),('Molten Primordial', '0.90', 'GTC', 'Rare'),('Boros Reckoner', '0.89', 'GTC', 'Rare'),('Aetherize', '0.87', 'GTC', 'Uncommon'),('Duskmantle Guildmage', '0.78', 'GTC', 'Uncommon'),('Experiment One', '0.66', 'GTC', 'Uncommon'),('Ogre Slumlord', '0.60', 'GTC', 'Rare'),('Immortal Servitude', '0.55', 'GTC', 'Rare'),('Signal the Clans', '0.52', 'GTC', 'Rare'),('Unexpected Results', '0.52', 'GTC', 'Rare'),('Duskmantle Seer', '0.51', 'GTC', 'Mythic'),('Burning-Tree Emissary', '0.50', 'GTC', 'Uncommon'),('Stolen Identity', '0.50', 'GTC', 'Rare'),('Sylvan Primordial', '0.50', 'GTC', 'Rare'),('Firemane Avenger', '0.49', 'GTC', 'Rare'),('Frontline Medic', '0.49', 'GTC', 'Rare'),('Simic Charm', '0.49', 'GTC', 'Uncommon'),('Simic Manipulator', '0.49', 'GTC', 'Rare'),('Thrull Parasite', '0.49', 'GTC', 'Uncommon'),('Fathom Mage', '0.48', 'GTC', 'Rare'),('High Priest of Penance', '0.47', 'GTC', 'Rare'),('Luminate Primordial', '0.46', 'GTC', 'Rare'),('Gruul Ragebeast', '0.44', 'GTC', 'Rare'),('Vizkopa Guildmage', '0.44', 'GTC', 'Uncommon'),('Spark Trooper', '0.43', 'GTC', 'Rare'),('Undercity Informer', '0.43', 'GTC', 'Uncommon'),('Biomass Mutation', '0.42', 'GTC', 'Rare'),('Realmwright', '0.42', 'GTC', 'Rare'),('Ooze Flux', '0.40', 'GTC', 'Rare'),('Wasteland Viper', '0.40', 'GTC', 'Uncommon'),('Rubblehulk', '0.39', 'GTC', 'Rare'),('Treasury Thrull', '0.39', 'GTC', 'Rare'),('Clan Defiance', '0.38', 'GTC', 'Rare'),('Five-Alarm Fire', '0.37', 'GTC', 'Rare'),('Holy Mantle', '0.37', 'GTC', 'Uncommon'),('Rubblebelt Raiders', '0.37', 'GTC', 'Rare'),('Cartel Aristocrat', '0.35', 'GTC', 'Uncommon'),('Mystic Genesis', '0.35', 'GTC', 'Rare'),('Soul Ransom', '0.35', 'GTC', 'Rare'),('Undercity Plague', '0.35', 'GTC', 'Rare'),('Dimir Charm', '0.34', 'GTC', 'Uncommon'),('Tower Defense', '0.33', 'GTC', 'Uncommon'),('Wrecking Ogre', '0.33', 'GTC', 'Rare'),('Foundry Champion', '0.31', 'GTC', 'Rare'),('Skarrg Goliath', '0.31', 'GTC', 'Rare'),('Alms Beast', '0.30', 'GTC', 'Rare'),('Guardian of the Gateless', '0.30', 'GTC', 'Uncommon'),('Orzhov Charm', '0.30', 'GTC', 'Uncommon'),('Voidwalk', '0.30', 'GTC', 'Uncommon'),('Nimbus Swimmer', '0.29', 'GTC', 'Uncommon'),('Zameck Guildmage', '0.29', 'GTC', 'Uncommon'),('Dimir Keyrune', '0.26', 'GTC', 'Uncommon'),('Urban Evolution', '0.26', 'GTC', 'Uncommon'),('Basilica Screecher', '0.25', 'GTC', 'Common'),('Boros Elite', '0.25', 'GTC', 'Uncommon'),('Boros Keyrune', '0.25', 'GTC', 'Uncommon'),('Crackling Perimeter', '0.25', 'GTC', 'Uncommon'),('Crowned Ceratok', '0.25', 'GTC', 'Uncommon'),('Dimir Guildgate', '0.25', 'GTC', 'Common'),('Dinrova Horror', '0.25', 'GTC', 'Uncommon'),('Dying Wish', '0.25', 'GTC', 'Uncommon'),('Elusive Krasis', '0.25', 'GTC', 'Uncommon'),('Forced Adaptation', '0.25', 'GTC', 'Common'),('Foundry Street Denizen', '0.25', 'GTC', 'Common'),('Ghor-Clan Rampager', '0.25', 'GTC', 'Uncommon'),('Gift of Orzhova', '0.25', 'GTC', 'Uncommon'),('Gridlock', '0.25', 'GTC', 'Uncommon'),('Gruul Charm', '0.25', 'GTC', 'Uncommon'),('Gruul Keyrune', '0.25', 'GTC', 'Uncommon'),('Hold the Gates', '0.25', 'GTC', 'Uncommon'),('Illness in the Ranks', '0.25', 'GTC', 'Uncommon'),('Ivy Lane Denizen', '0.25', 'GTC', 'Common'),('Knight of Obligation', '0.25', 'GTC', 'Uncommon'),('Massive Raid', '0.25', 'GTC', 'Common'),('Miming Slime', '0.25', 'GTC', 'Uncommon'),('One Thousand Lashes', '0.25', 'GTC', 'Uncommon'),('Orzhov Guildgate', '0.25', 'GTC', 'Common'),('Orzhov Keyrune', '0.25', 'GTC', 'Uncommon'),('Psychic Strike', '0.25', 'GTC', 'Common'),('Serene Remembrance', '0.25', 'GTC', 'Uncommon'),('Simic Fluxmage', '0.25', 'GTC', 'Uncommon'),('Simic Keyrune', '0.25', 'GTC', 'Uncommon'),('Urbis Protector', '0.25', 'GTC', 'Uncommon'),('Vizkopa Confessor', '0.25', 'GTC', 'Uncommon'),('Wight of Precinct Six', '0.25', 'GTC', 'Uncommon'),('Agoraphobia', '0.24', 'GTC', 'Uncommon'),('Arrows of Justice', '0.24', 'GTC', 'Uncommon'),('Balustrade Spy', '0.24', 'GTC', 'Common'),('Bane Alley Broker', '0.24', 'GTC', 'Uncommon'),('Bioshift', '0.24', 'GTC', 'Common'),('Call of the Nightwing', '0.24', 'GTC', 'Uncommon'),('Cinder Elemental', '0.24', 'GTC', 'Uncommon'),('Cloudfin Raptor', '0.24', 'GTC', 'Common'),('Coerced Confession', '0.24', 'GTC', 'Uncommon'),('Devour Flesh', '0.24', 'GTC', 'Common'),('Firefist Striker', '0.24', 'GTC', 'Uncommon'),('Frenzied Tilling', '0.24', 'GTC', 'Uncommon'),('Ground Assault', '0.24', 'GTC', 'Uncommon'),('Hellraiser Goblin', '0.24', 'GTC', 'Uncommon'),('Homing Lightning', '0.24', 'GTC', 'Uncommon'),('Incursion Specialist', '0.24', 'GTC', 'Uncommon'),('Killing Glare', '0.24', 'GTC', 'Uncommon'),('Mental Vapors', '0.24', 'GTC', 'Uncommon'),('Mindeye Drake', '0.24', 'GTC', 'Uncommon'),('Murder Investigation', '0.24', 'GTC', 'Uncommon'),('Ordruun Veteran', '0.24', 'GTC', 'Uncommon'),('Prophetic Prism', '0.24', 'GTC', 'Common'),('Righteous Charge', '0.24', 'GTC', 'Uncommon'),('Rust Scarab', '0.24', 'GTC', 'Uncommon'),('Sapphire Drake', '0.24', 'GTC', 'Uncommon'),('Simic Guildgate', '0.24', 'GTC', 'Common'),('Skarrg Guildmage', '0.24', 'GTC', 'Uncommon'),('Sunhome Guildmage', '0.24', 'GTC', 'Uncommon'),('Boros Guildgate', '0.23', 'GTC', 'Common'),('Burst of Strength', '0.23', 'GTC', 'Common'),('Debtors Pulpit', '0.23', 'GTC', 'Uncommon'),('Gateway Shade', '0.23', 'GTC', 'Uncommon'),('Gruul Guildgate', '0.23', 'GTC', 'Common'),('Hindervines', '0.23', 'GTC', 'Uncommon'),('Paranoid Delusions', '0.23', 'GTC', 'Common'),('Ripscale Predator', '0.23', 'GTC', 'Uncommon'),('Shadow Alley Denizen', '0.23', 'GTC', 'Common'),('Truefire Paladin', '0.23', 'GTC', 'Uncommon'),('Fortress Cyclops', '0.22', 'GTC', 'Uncommon'),('Kingpins Pet', '0.22', 'GTC', 'Common'),('Mark for Death', '0.22', 'GTC', 'Uncommon'),('Merfolk of the Depths', '0.22', 'GTC', 'Uncommon'),('Smog Elemental', '0.22', 'GTC', 'Uncommon'),('Syndic of Tithes', '0.22', 'GTC', 'Common'),('Deathcult Rogue', '0.21', 'GTC', 'Common'),('Madcap Skills', '0.21', 'GTC', 'Common'),('Viashino Shanktail', '0.21', 'GTC', 'Uncommon'),('Angelic Edict', '0.20', 'GTC', 'Common'),('Contaminated Ground', '0.20', 'GTC', 'Common'),('Crocanura', '0.20', 'GTC', 'Common'),('Hands of Binding', '0.20', 'GTC', 'Common'),('Keymaster Rogue', '0.20', 'GTC', 'Common'),('Riot Gear', '0.20', 'GTC', 'Common'),('Scorchwalker', '0.20', 'GTC', 'Common'),('Spire Tracer', '0.20', 'GTC', 'Common'),('Syndicate Enforcer', '0.20', 'GTC', 'Common'),('Verdant Haven', '0.20', 'GTC', 'Common'),('Basilica Guards', '0.19', 'GTC', 'Common'),('Beckon Apparition', '0.19', 'GTC', 'Common'),('Corpse Blockade', '0.19', 'GTC', 'Common'),('Court Street Denizen', '0.19', 'GTC', 'Common'),('Executioners Swing', '0.19', 'GTC', 'Common'),('Grisly Spectacle', '0.19', 'GTC', 'Common'),('Gutter Skulk', '0.19', 'GTC', 'Common'),('Last Thoughts', '0.19', 'GTC', 'Common'),('Martial Glory', '0.19', 'GTC', 'Common'),('Naturalize', '0.19', 'GTC', 'Common'),('Pit Fight', '0.19', 'GTC', 'Common'),('Predators Rapport', '0.19', 'GTC', 'Common'),('Razortip Whip', '0.19', 'GTC', 'Common'),('Sages Row Denizen', '0.19', 'GTC', 'Common'),('Shambleshark', '0.19', 'GTC', 'Common'),('Shattering Blow', '0.19', 'GTC', 'Common'),('Skinbrand Goblin', '0.19', 'GTC', 'Common'),('Skyblinder Staff', '0.19', 'GTC', 'Common'),('Skygames', '0.19', 'GTC', 'Common'),('Structural Collapse', '0.19', 'GTC', 'Common'),('Tin Street Market', '0.19', 'GTC', 'Common'),('Wildwood Rebirth', '0.19', 'GTC', 'Common'),('Wojek Halberdiers', '0.19', 'GTC', 'Common'),('Adaptive Snapjaw', '0.18', 'GTC', 'Common'),('Aerial Maneuver', '0.18', 'GTC', 'Common'),('Bomber Corps', '0.18', 'GTC', 'Common'),('Daring Skyjek', '0.18', 'GTC', 'Common'),('Furious Resistance', '0.18', 'GTC', 'Common'),('Greenside Watcher', '0.18', 'GTC', 'Common'),('Guildscorn Ward', '0.18', 'GTC', 'Common'),('Hydroform', '0.18', 'GTC', 'Common'),('Mortus Strider', '0.18', 'GTC', 'Common'),('Mugging', '0.18', 'GTC', 'Common'),('Primal Visitation', '0.18', 'GTC', 'Common'),('Scatter Arc', '0.18', 'GTC', 'Common'),('Shadow Slice', '0.18', 'GTC', 'Common'),('Shielded Passage', '0.18', 'GTC', 'Common'),('Slaughterhorn', '0.18', 'GTC', 'Common'),('Smite', '0.18', 'GTC', 'Common'),('Spell Rupture', '0.18', 'GTC', 'Common'),('Warmind Infantry', '0.18', 'GTC', 'Common'),('Way of the Thief', '0.18', 'GTC', 'Common'),('Act of Treason', '0.17', 'GTC', 'Common'),('Armored Transport', '0.17', 'GTC', 'Common'),('Assault Griffin', '0.17', 'GTC', 'Common'),('Drakewing Krasis', '0.17', 'GTC', 'Common'),('Knight Watch', '0.17', 'GTC', 'Common'),('Leyline Phantom', '0.17', 'GTC', 'Common'),('Metropolis Sprite', '0.17', 'GTC', 'Common'),('Midnight Recovery', '0.17', 'GTC', 'Common'),('Purge the Profane', '0.17', 'GTC', 'Common'),('Ruination Wurm', '0.17', 'GTC', 'Common'),('Scab-Clan Charger', '0.17', 'GTC', 'Common'),('Slate Street Ruffian', '0.17', 'GTC', 'Common'),('Towering Thunderfist', '0.17', 'GTC', 'Common'),('Zarichi Tiger', '0.17', 'GTC', 'Common'),('Zhur-Taa Swine', '0.17', 'GTC', 'Common'),('Clinging Anemones', '0.16', 'GTC', 'Common'),('Deaths Approach', '0.16', 'GTC', 'Common'),('Disciple of the Old Ways', '0.16', 'GTC', 'Common'),('Dutiful Thrull', '0.16', 'GTC', 'Common'),('Frilled Oculus', '0.16', 'GTC', 'Common'),('Millennial Gargoyle', '0.16', 'GTC', 'Common'),('Nav Squad Commandos', '0.16', 'GTC', 'Common'),('Skyknight Legionnaire', '0.16', 'GTC', 'Common'),('Totally Lost', '0.16', 'GTC', 'Common'),('Ember Beast', '0.15', 'GTC', 'Common'),('Horror of the Dim', '0.15', 'GTC', 'Common'),('Urzas Incubator', '42.75', 'CM2', 'Rare'),('Grave Pact', '32.97', 'CM2', 'Rare'),('Ruby Medallion', '31.95', 'CM2', 'Rare'),('Blade of Selves', '25.98', 'CM2', 'Rare'),('Wurmcoil Engine', '23.97', 'CM2', 'Mythic'),('Kalonian Hydra', '17.14', 'CM2', 'Mythic'),('Underground River', '12.96', 'CM2', 'Rare'),('Hardened Scales', '11.53', 'CM2', 'Rare'),('Wrexial the Risen Deep', '10.64', 'CM2', 'Mythic'),('Goblin Welder', '10.05', 'CM2', 'Rare'),('Caged Sun', '8.79', 'CM2', 'Rare'),('Crystalline Crawler', '8.34', 'CM2', 'Rare'),('Lightning Greaves', '8.02', 'CM2', 'Uncommon'),('Cathars Crusade', '7.96', 'CM2', 'Rare'),('Volcanic Offering', '7.72', 'CM2', 'Rare'),('Living Death', '7.60', 'CM2', 'Rare'),('Buried Alive', '7.37', 'CM2', 'Uncommon'),('Dimir Signet', '6.94', 'CM2', 'Common'),('Arcane Lighthouse', '6.76', 'CM2', 'Uncommon'),('Skullbriar the Walking Grave', '6.31', 'CM2', 'Rare'),('Reliquary Tower', '5.82', 'CM2', 'Uncommon'),('Rite of the Raging Storm', '5.49', 'CM2', 'Uncommon'),('Ghave Guru of Spores', '5.25', 'CM2', 'Mythic'),('Coldsteel Heart', '5.00', 'CM2', 'Uncommon'),('Thought Vessel', '4.99', 'CM2', 'Common'),('Riddlekeeper', '4.95', 'CM2', 'Rare'),('Scrap Mastery', '4.61', 'CM2', 'Rare'),('Blasphemous Act', '4.50', 'CM2', 'Rare'),('Minds Aglow', '4.32', 'CM2', 'Rare'),('Eternal Witness', '4.25', 'CM2', 'Uncommon'),('Windfall', '4.11', 'CM2', 'Uncommon'),('Junk Diver', '4.08', 'CM2', 'Rare'),('Daretti Scrap SavantFoil', '3.86', 'CM2', 'Mythic'),('Oblivion Stone', '3.74', 'CM2', 'Rare'),('Dreamborn Muse', '3.58', 'CM2', 'Rare'),('Fellwar Stone', '3.51', 'CM2', 'Uncommon'),('Deepglow Skate', '3.47', 'CM2', 'Rare'),('Basalt Monolith', '3.38', 'CM2', 'Uncommon'),('Wayfarers Bauble', '3.20', 'CM2', 'Common'),('Stitch Together', '3.15', 'CM2', 'Uncommon'),('Flamekin Village', '3.00', 'CM2', 'Rare'),('Memory Erosion', '3.00', 'CM2', 'Rare'),('Mortivore', '2.94', 'CM2', 'Rare'),('Merciless Eviction', '2.78', 'CM2', 'Rare'),('Cauldron of Souls', '2.75', 'CM2', 'Rare'),('Chaos Warp', '2.56', 'CM2', 'Rare'),('Swiftfoot Boots', '2.55', 'CM2', 'Uncommon'),('Fiery Confluence', '2.51', 'CM2', 'Rare'),('Avatar of Woe', '2.50', 'CM2', 'Rare'),('Worn Powerstone', '2.47', 'CM2', 'Uncommon'),('Sol Ring', '2.37', 'CM2', 'Uncommon'),('Scythe Specter', '2.28', 'CM2', 'Rare'),('Brave the Sands', '2.19', 'CM2', 'Uncommon'),('Ancient Excavation', '2.14', 'CM2', 'Uncommon'),('Astral Cornucopia', '2.12', 'CM2', 'Rare'),('Vorel of the Hull Clade', '2.10', 'CM2', 'Rare'),('Murmuring Bosk', '2.05', 'CM2', 'Rare'),('Inferno Titan', '2.01', 'CM2', 'Mythic'),('Solemn Simulacrum219', '1.97', 'CM2', 'Rare'),('Tyrants Familiar', '1.95', 'CM2', 'Rare'),('Master Biomancer', '1.86', 'CM2', 'Mythic'),('Staff of Nin', '1.83', 'CM2', 'Rare'),('Champion of Lambholt', '1.78', 'CM2', 'Rare'),('Forgotten Ancient', '1.76', 'CM2', 'Rare'),('Syphon Mind', '1.70', 'CM2', 'Common'),('Duelists Heritage', '1.68', 'CM2', 'Rare'),('Solemn Simulacrum218', '1.68', 'CM2', 'Rare'),('Solidarity of Heroes', '1.65', 'CM2', 'Uncommon'),('Everflowing Chalice', '1.58', 'CM2', 'Uncommon'),('Seaside Citadel', '1.52', 'CM2', 'Uncommon'),('Liquimetal Coating', '1.51', 'CM2', 'Uncommon'),('Ghost Quarter', '1.49', 'CM2', 'Uncommon'),('Golgari Signet192', '1.47', 'CM2', 'Common'),('Mind Stone', '1.46', 'CM2', 'Uncommon'),('Blasted Landscape', '1.42', 'CM2', 'Uncommon'),('Arcane Sanctum', '1.36', 'CM2', 'Uncommon'),('Corpsejack Menace', '1.34', 'CM2', 'Rare'),('Magus of the Wheel', '1.34', 'CM2', 'Rare'),('Artisan of Kozilek', '1.31', 'CM2', 'Uncommon'),('Sewer Nemesis', '1.28', 'CM2', 'Rare'),('Golgari Signet191', '1.26', 'CM2', 'Common'),('Butcher of Malakir', '1.25', 'CM2', 'Rare'),('Reveillark', '1.25', 'CM2', 'Rare'),('Sublime Exhalation', '1.25', 'CM2', 'Rare'),('Taurean Mauler', '1.23', 'CM2', 'Rare'),('Vivid Meadow', '1.21', 'CM2', 'Uncommon'),('Spine of Ish Sah', '1.15', 'CM2', 'Rare'),('Steel Hellkite', '1.08', 'CM2', 'Rare'),('Buried Ruin', '1.07', 'CM2', 'Uncommon'),('Ash Barrens', '1.02', 'CM2', 'Common'),('Sandsteppe Citadel', '1.01', 'CM2', 'Uncommon'),('Scavenging Ooze', '1.01', 'CM2', 'Rare'),('Earthquake', '1.00', 'CM2', 'Rare'),('Impact Resonance', '1.00', 'CM2', 'Rare'),('Orzhov Signet', '1.00', 'CM2', 'Common'),('Warmonger Hellkite', '1.00', 'CM2', 'Rare'),('Warstorm Surge', '1.00', 'CM2', 'Rare'),('Angel of Serenity', '0.99', 'CM2', 'Mythic'),('Exotic Orchard', '0.99', 'CM2', 'Rare'),('Languish', '0.99', 'CM2', 'Rare'),('Mortify', '0.99', 'CM2', 'Uncommon'),('Dawnbreak Reclaimer', '0.97', 'CM2', 'Rare'),('Herald of the Host', '0.95', 'CM2', 'Uncommon'),('Vivid Crag', '0.95', 'CM2', 'Uncommon'),('Bitter Feud', '0.94', 'CM2', 'Rare'),('Cultivate', '0.94', 'CM2', 'Common'),('Syphon Flesh', '0.85', 'CM2', 'Uncommon'),('Sun Titan', '0.84', 'CM2', 'Mythic'),('Trading Post', '0.82', 'CM2', 'Rare'),('Great Furnace', '0.80', 'CM2', 'Common'),('Dualcaster Mage', '0.78', 'CM2', 'Rare'),('Darksteel Citadel', '0.77', 'CM2', 'Uncommon'),('Myr Retriever', '0.77', 'CM2', 'Uncommon'),('Manifold Insights', '0.75', 'CM2', 'Rare'),('Mirrorweave', '0.75', 'CM2', 'Rare'),('Temple of the False God272', '0.75', 'CM2', 'Uncommon'),('Palladium Myr', '0.74', 'CM2', 'Uncommon'),('Ancient Amphitheater', '0.73', 'CM2', 'Rare'),('Darkwater Catacombs', '0.73', 'CM2', 'Rare'),('Command Tower', '0.72', 'CM2', 'Common'),('Boros Garrison', '0.71', 'CM2', 'Common'),('Opulent Palace', '0.70', 'CM2', 'Uncommon'),('Necroplasm', '0.69', 'CM2', 'Rare'),('Sign in Blood', '0.67', 'CM2', 'Common'),('Bogardan Hellkite', '0.65', 'CM2', 'Mythic'),('Darksteel Ingot', '0.65', 'CM2', 'Uncommon'),('Faithless Looting', '0.64', 'CM2', 'Common'),('Fumiko the Lowblood', '0.63', 'CM2', 'Rare'),('Nezumi Graverobber', '0.62', 'CM2', 'Uncommon'),('Wonder', '0.62', 'CM2', 'Uncommon'),('Hunted Dragon', '0.61', 'CM2', 'Rare'),('Jwar Isle Refuge', '0.60', 'CM2', 'Uncommon'),('Spell Crumple', '0.59', 'CM2', 'Uncommon'),('Boros Signet', '0.58', 'CM2', 'Common'),('Jareth Leonine Titan', '0.56', 'CM2', 'Rare'),('Inspiring Call', '0.55', 'CM2', 'Uncommon'),('Loxodon Warhammer', '0.55', 'CM2', 'Rare'),('Mulldrifter', '0.55', 'CM2', 'Common'),('Sungrass Prairie', '0.54', 'CM2', 'Rare'),('Szadek Lord of Secrets', '0.54', 'CM2', 'Rare'),('Fire Diamond', '0.51', 'CM2', 'Uncommon'),('Incite Rebellion', '0.51', 'CM2', 'Rare'),('Myr Battlesphere', '0.51', 'CM2', 'Rare'),('Starstorm', '0.51', 'CM2', 'Rare'),('Tezzerets Gambit', '0.51', 'CM2', 'Uncommon'),('Azorius Chancery', '0.50', 'CM2', 'Uncommon'),('Borderland Behemoth', '0.50', 'CM2', 'Rare'),('Brawn', '0.50', 'CM2', 'Uncommon'),('Commanders Sphere', '0.50', 'CM2', 'Common'),('Fact or Fiction', '0.50', 'CM2', 'Uncommon'),('Lhurgoyf', '0.50', 'CM2', 'Rare'),('Opal Palace', '0.50', 'CM2', 'Common'),('Patron of the Nezumi', '0.50', 'CM2', 'Rare'),('Sunrise Sovereign', '0.50', 'CM2', 'Rare'),('Sylvan Reclamation', '0.50', 'CM2', 'Uncommon'),('Temple of the False God271', '0.50', 'CM2', 'Uncommon'),('Troll Ascetic', '0.50', 'CM2', 'Rare'),('Tuktuk the Explorer', '0.50', 'CM2', 'Rare'),('Warchief Giant', '0.50', 'CM2', 'Uncommon'),('Citadel Siege', '0.49', 'CM2', 'Rare'),('Dormant Volcano', '0.49', 'CM2', 'Uncommon'),('Dream Pillager', '0.49', 'CM2', 'Rare'),('Fleshbag Marauder', '0.49', 'CM2', 'Uncommon'),('Grip of Phyresis', '0.49', 'CM2', 'Uncommon'),('Hoard-Smelter Dragon', '0.49', 'CM2', 'Rare'),('Orzhov Advokist', '0.49', 'CM2', 'Uncommon'),('Shared Trauma', '0.49', 'CM2', 'Rare'),('Simic Signet215', '0.49', 'CM2', 'Common'),('Spitting Image', '0.49', 'CM2', 'Rare'),('Thrummingbird', '0.49', 'CM2', 'Uncommon'),('Golgari Rot Farm', '0.48', 'CM2', 'Uncommon'),('Vulturous Zombie', '0.47', 'CM2', 'Rare'),('Treasure Cruise', '0.46', 'CM2', 'Common'),('Unstable Obelisk', '0.46', 'CM2', 'Uncommon'),('Pristine Talisman', '0.45', 'CM2', 'Common'),('Bane of the Living', '0.44', 'CM2', 'Rare'),('Beetleback Chief', '0.44', 'CM2', 'Uncommon'),('Bred for the Hunt', '0.44', 'CM2', 'Uncommon'),('Custodi Soulbinders', '0.43', 'CM2', 'Rare'),('Fathom Mage', '0.43', 'CM2', 'Rare'),('Arbiter of Knollridge', '0.42', 'CM2', 'Rare'),('Epochrasite', '0.42', 'CM2', 'Rare'),('Simic Signet216', '0.42', 'CM2', 'Common'),('Triskelavus', '0.42', 'CM2', 'Rare'),('Victorys Herald', '0.42', 'CM2', 'Rare'),('Vow of Malice', '0.42', 'CM2', 'Uncommon'),('Ingot Chewer', '0.41', 'CM2', 'Common'),('Juniper Order Ranger', '0.41', 'CM2', 'Uncommon'),('Simic Growth Chamber', '0.41', 'CM2', 'Common'),('Yavimaya Elder', '0.40', 'CM2', 'Common'),('Breath of Darigaaz', '0.39', 'CM2', 'Uncommon'),('Crib Swap', '0.39', 'CM2', 'Uncommon'),('Dimir Aqueduct', '0.39', 'CM2', 'Common'),('Dreamstone Hedron', '0.39', 'CM2', 'Uncommon'),('Hostility', '0.39', 'CM2', 'Rare'),('Magmaquake', '0.39', 'CM2', 'Rare'),('Pentavus', '0.39', 'CM2', 'Rare'),('Word of Seizing', '0.39', 'CM2', 'Rare'),('Desolation Giant', '0.38', 'CM2', 'Rare'),('Duneblast', '0.38', 'CM2', 'Rare'),('Svogthos the Restless Tomb', '0.38', 'CM2', 'Uncommon'),('Terramorphic Expanse', '0.38', 'CM2', 'Common'),('Dreadship Reef', '0.37', 'CM2', 'Uncommon'),('Loreseekers Stone', '0.36', 'CM2', 'Uncommon'),('Barren Moor', '0.35', 'CM2', 'Common'),('Dark Hatchling', '0.35', 'CM2', 'Rare'),('Disaster Radius', '0.35', 'CM2', 'Rare'),('Flametongue Kavu', '0.35', 'CM2', 'Uncommon'),('Hamletback Goliath', '0.35', 'CM2', 'Rare'),('Hammerfist Giant', '0.35', 'CM2', 'Rare'),('Jalum Tome', '0.35', 'CM2', 'Rare'),('Kalemnes Captain', '0.35', 'CM2', 'Rare'),('Magma Giant', '0.35', 'CM2', 'Rare'),('Seers Sundial', '0.35', 'CM2', 'Rare'),('Thundercloud Shaman', '0.35', 'CM2', 'Uncommon'),('Ichor Wellspring', '0.34', 'CM2', 'Common'),('Meteor Blast', '0.34', 'CM2', 'Uncommon'),('Tuskguard Captain', '0.34', 'CM2', 'Uncommon'),('Disdainful Stroke', '0.33', 'CM2', 'Common'),('Putrefy', '0.33', 'CM2', 'Uncommon'),('Whipflare', '0.33', 'CM2', 'Uncommon'),('Abzan Falconer', '0.32', 'CM2', 'Uncommon'),('Curse of the Nightly Hunt', '0.32', 'CM2', 'Uncommon'),('Stinkdrinker Daredevil', '0.32', 'CM2', 'Common'),('Enduring Scalelord', '0.30', 'CM2', 'Uncommon'),('Spitebellows', '0.30', 'CM2', 'Uncommon'),('Vow of Flight', '0.30', 'CM2', 'Uncommon'),('Acidic Slime', '0.29', 'CM2', 'Uncommon'),('Banishing Light', '0.29', 'CM2', 'Uncommon'),('Tranquil Thicket', '0.29', 'CM2', 'Common'),('Oreskos Explorer', '0.28', 'CM2', 'Uncommon'),('Sandstone Oracle', '0.28', 'CM2', 'Uncommon'),('Smoldering Crater', '0.28', 'CM2', 'Common'),('Extractor Demon', '0.27', 'CM2', 'Rare'),('Fall of the Hammer', '0.27', 'CM2', 'Common'),('Rupture Spire', '0.27', 'CM2', 'Common'),('Boros Cluestone', '0.26', 'CM2', 'Common'),('Cathodion', '0.26', 'CM2', 'Uncommon'),('Faiths Fetters', '0.26', 'CM2', 'Common'),('Orims Thunder', '0.26', 'CM2', 'Common'),('Phyrexias Core', '0.26', 'CM2', 'Uncommon'),('Secluded Steppe', '0.26', 'CM2', 'Common'),('Stoneshock Giant', '0.26', 'CM2', 'Uncommon'),('Tribute to the Wild', '0.26', 'CM2', 'Uncommon'),('Boros Guildgate', '0.25', 'CM2', 'Common'),('Bottle Gnomes', '0.25', 'CM2', 'Uncommon'),('Dawnglare Invoker', '0.25', 'CM2', 'Common'),('Desecrator Hag', '0.25', 'CM2', 'Common'),('Drifting Meadow', '0.25', 'CM2', 'Common'),('Elite Scaleguard', '0.25', 'CM2', 'Uncommon'),('Evolving Wilds', '0.25', 'CM2', 'Common'),('Festercreep', '0.25', 'CM2', 'Common'),('Forgotten Cave', '0.25', 'CM2', 'Common'),('Lonely Sandbar', '0.25', 'CM2', 'Common'),('Migratory Route', '0.25', 'CM2', 'Uncommon'),('Mycosynth Wellspring', '0.25', 'CM2', 'Common'),('Myr Sire', '0.25', 'CM2', 'Common'),('Panic Spellbomb', '0.25', 'CM2', 'Common'),('Pilgrims Eye', '0.25', 'CM2', 'Common'),('Relic Crush', '0.25', 'CM2', 'Common'),('Rise from the Grave', '0.25', 'CM2', 'Uncommon'),('Slipstream Eel', '0.25', 'CM2', 'Common'),('Unnerve', '0.25', 'CM2', 'Common'),('Vow of Wildness', '0.25', 'CM2', 'Uncommon'),('Wind-Scarred Crag', '0.25', 'CM2', 'Common'),('Gravedigger', '0.24', 'CM2', 'Common'),('Scalding Tarn', '38.30', 'ZEN', 'Rare'),('Misty Rainforest', '33.44', 'ZEN', 'Rare'),('Verdant Catacombs', '27.53', 'ZEN', 'Rare'),('Bloodchief Ascension', '25.99', 'ZEN', 'Rare'),('Valakut the Molten Pinnacle', '22.90', 'ZEN', 'Rare'),('Arid Mesa', '21.00', 'ZEN', 'Rare'),('Archive Trap', '20.69', 'ZEN', 'Rare'),('Marsh Flats', '20.65', 'ZEN', 'Rare'),('Oracle of Mul Daya', '20.63', 'ZEN', 'Rare'),('Mindbreak Trap', '20.11', 'ZEN', 'Mythic'),('Ob Nixilis the Fallen', '13.06', 'ZEN', 'Mythic'),('Nissa Revane', '12.83', 'ZEN', 'Mythic'),('Sorin Markov', '12.26', 'ZEN', 'Mythic'),('Bloodghast', '12.13', 'ZEN', 'Rare'),('Eldrazi Monument', '12.01', 'ZEN', 'Mythic'),('Emeria the Sky Ruin', '11.52', 'ZEN', 'Rare'),('Luminarch Ascension', '10.65', 'ZEN', 'Rare'),('Kalitas Bloodchief of Ghet', '9.49', 'ZEN', 'Mythic'),('Roil Elemental', '9.09', 'ZEN', 'Rare'),('Warren Instigator', '9.03', 'ZEN', 'Mythic'),('Beastmaster Ascension', '9.01', 'ZEN', 'Rare'),('Eternity Vessel', '8.07', 'ZEN', 'Mythic'),('Iona Shield of Emeria', '6.88', 'ZEN', 'Mythic'),('Chandra Ablaze', '6.49', 'ZEN', 'Mythic'),('Goblin Guide', '6.42', 'ZEN', 'Rare'),('Hedron Crab', '6.02', 'ZEN', 'Uncommon'),('Blade of the Bloodchief', '5.49', 'ZEN', 'Rare'),('Crypt of Agadeem', '5.07', 'ZEN', 'Rare'),('Spreading Seas', '4.95', 'ZEN', 'Common'),('Lotus Cobra', '4.10', 'ZEN', 'Mythic'),('Hellkite Charger', '3.49', 'ZEN', 'Rare'),('Lorthos the Tidemaker', '3.21', 'ZEN', 'Mythic'),('Rite of Replication', '3.00', 'ZEN', 'Rare'),('Archmage Ascension', '2.95', 'ZEN', 'Rare'),('Trailblazers Boots', '2.89', 'ZEN', 'Uncommon'),('Day of Judgment', '2.85', 'ZEN', 'Rare'),('Celestial Mantle', '2.49', 'ZEN', 'Rare'),('Blood Tribute', '2.47', 'ZEN', 'Rare'),('Lullmage Mentor', '2.47', 'ZEN', 'Rare'),('Felidar Sovereign', '2.38', 'ZEN', 'Mythic'),('Sadistic Sacrament', '2.33', 'ZEN', 'Rare'),('Expedition Map', '2.10', 'ZEN', 'Common'),('Malakir Bloodwitch', '1.41', 'ZEN', 'Rare'),('Vines of Vastwood', '1.20', 'ZEN', 'Common'),('Rampaging Baloths', '1.09', 'ZEN', 'Mythic'),('Oran-Rief the Vastwood', '1.04', 'ZEN', 'Rare'),('Obsidian Fireheart', '1.02', 'ZEN', 'Mythic'),('Scute Mob', '1.00', 'ZEN', 'Rare'),('Emeria Angel', '0.99', 'ZEN', 'Rare'),('Kabira Evangel', '0.86', 'ZEN', 'Rare'),('Pyromancer Ascension', '0.86', 'ZEN', 'Rare'),('Grappling Hook', '0.81', 'ZEN', 'Rare'),('Goblin Bushwhacker', '0.79', 'ZEN', 'Common'),('Turntimber Ranger', '0.77', 'ZEN', 'Rare'),('Journey to Nowhere', '0.76', 'ZEN', 'Common'),('Gatekeeper of Malakir', '0.66', 'ZEN', 'Uncommon'),('Magosi the Waterveil', '0.59', 'ZEN', 'Rare'),('Cosis Trickster', '0.57', 'ZEN', 'Rare'),('Sea Gate Loremaster', '0.52', 'ZEN', 'Rare'),('Feast of Blood', '0.50', 'ZEN', 'Uncommon'),('Summoning Trap', '0.50', 'ZEN', 'Rare'),('Kazuul Warlord', '0.49', 'ZEN', 'Rare'),('Spell Pierce', '0.49', 'ZEN', 'Common'),('Bala Ged Thief', '0.48', 'ZEN', 'Rare'),('Vampire Nighthawk', '0.48', 'ZEN', 'Uncommon'),('Harrow', '0.46', 'ZEN', 'Common'),('Terra Stomper', '0.46', 'ZEN', 'Rare'),('Vampire Hexmage', '0.45', 'ZEN', 'Uncommon'),('World Queller', '0.45', 'ZEN', 'Rare'),('Conquerors Pledge', '0.44', 'ZEN', 'Rare'),('Halo Hunter', '0.43', 'ZEN', 'Rare'),('Ravenous Trap', '0.43', 'ZEN', 'Uncommon'),('Sphinx of Lost Truths', '0.43', 'ZEN', 'Rare'),('Devout Lightcaster', '0.41', 'ZEN', 'Rare'),('Electropotence', '0.40', 'ZEN', 'Rare'),('Gigantiform', '0.40', 'ZEN', 'Rare'),('Guul Draz Specter', '0.40', 'ZEN', 'Rare'),('Jwar Isle Refuge', '0.40', 'ZEN', 'Uncommon'),('Kazandu Blademaster', '0.40', 'ZEN', 'Uncommon'),('Armament Master', '0.39', 'ZEN', 'Rare'),('Kor Outfitter', '0.39', 'ZEN', 'Common'),('Sejiri Refuge', '0.39', 'ZEN', 'Uncommon'),('Elemental Appeal', '0.38', 'ZEN', 'Rare'),('Graypelt Refuge', '0.37', 'ZEN', 'Uncommon'),('Punishing Fire', '0.37', 'ZEN', 'Uncommon'),('Quest for Pure Flame', '0.37', 'ZEN', 'Uncommon'),('Brave the Elements', '0.35', 'ZEN', 'Uncommon'),('Kabira Crossroads', '0.35', 'ZEN', 'Common'),('Lavaball Trap', '0.35', 'ZEN', 'Rare'),('Predatory Urge', '0.35', 'ZEN', 'Rare'),('Sphinx of Jwar Isle', '0.35', 'ZEN', 'Rare'),('Khalni Heart Expedition', '0.34', 'ZEN', 'Common'),('Primal Bellow', '0.33', 'ZEN', 'Uncommon'),('Akoum Refuge', '0.32', 'ZEN', 'Uncommon'),('Hagra Diabolist', '0.32', 'ZEN', 'Uncommon'),('Guul Draz Vampire', '0.30', 'ZEN', 'Common'),('Kazandu Refuge', '0.30', 'ZEN', 'Uncommon'),('Khalni Gem', '0.30', 'ZEN', 'Uncommon'),('Kor Skyfisher', '0.29', 'ZEN', 'Common'),('Greenweaver Druid', '0.28', 'ZEN', 'Uncommon'),('Quest for the Holy Relic', '0.28', 'ZEN', 'Uncommon'),('River Boa', '0.28', 'ZEN', 'Uncommon'),('Burst Lightning', '0.26', 'ZEN', 'Common'),('Carnage Altar', '0.26', 'ZEN', 'Uncommon'),('Runeflare Trap', '0.26', 'ZEN', 'Uncommon'),('Aether Figment', '0.25', 'ZEN', 'Uncommon'),('Baloth Woodcrasher', '0.25', 'ZEN', 'Uncommon'),('Blood Seeker', '0.25', 'ZEN', 'Common'),('Cobra Trap', '0.25', 'ZEN', 'Uncommon'),('Disfigure', '0.25', 'ZEN', 'Common'),('Explorers Scope', '0.25', 'ZEN', 'Common'),('Frontier Guide', '0.25', 'ZEN', 'Uncommon'),('Geyser Glider', '0.25', 'ZEN', 'Uncommon'),('Goblin Ruinblaster', '0.25', 'ZEN', 'Uncommon'),('Gomazoa', '0.25', 'ZEN', 'Uncommon'),('Grim Discovery', '0.25', 'ZEN', 'Common'),('Hellfire Mongrel', '0.25', 'ZEN', 'Uncommon'),('Kor Cartographer', '0.25', 'ZEN', 'Common'),('Kor Duelist', '0.25', 'ZEN', 'Uncommon'),('Landbind Ritual', '0.25', 'ZEN', 'Uncommon'),('Mark of Mutiny', '0.25', 'ZEN', 'Uncommon'),('Marsh Casualties', '0.25', 'ZEN', 'Uncommon'),('Merfolk Seastalkers', '0.25', 'ZEN', 'Uncommon'),('Merfolk Wayfinder', '0.25', 'ZEN', 'Uncommon'),('Mold Shambler', '0.25', 'ZEN', 'Common'),('Murasa Pyromancer', '0.25', 'ZEN', 'Uncommon'),('Needlebite Trap', '0.25', 'ZEN', 'Uncommon'),('Ondu Cleric', '0.25', 'ZEN', 'Common'),('Piranha Marsh', '0.25', 'ZEN', 'Common'),('Quest for Ancient Secrets', '0.25', 'ZEN', 'Uncommon'),('Quest for the Gemblades', '0.25', 'ZEN', 'Uncommon'),('Quest for the Gravelord', '0.25', 'ZEN', 'Uncommon'),('Seascape Aerialist', '0.25', 'ZEN', 'Uncommon'),('Shepherd of the Lost', '0.25', 'ZEN', 'Uncommon'),('Steppe Lynx', '0.25', 'ZEN', 'Common'),('Summoners Bane', '0.25', 'ZEN', 'Uncommon'),('Tajuru Archer', '0.25', 'ZEN', 'Uncommon'),('Teetering Peaks', '0.25', 'ZEN', 'Common'),('Trapmakers Snare', '0.25', 'ZEN', 'Uncommon'),('Trusty Machete', '0.25', 'ZEN', 'Uncommon'),('Turntimber Basilisk', '0.25', 'ZEN', 'Uncommon'),('Unstable Footing', '0.25', 'ZEN', 'Uncommon'),('Adventuring Gear', '0.24', 'ZEN', 'Common'),('Arrow Volley Trap', '0.24', 'ZEN', 'Uncommon'),('Baloth Cage Trap', '0.24', 'ZEN', 'Uncommon'),('Blazing Torch', '0.24', 'ZEN', 'Uncommon'),('Grazing Gladehart', '0.24', 'ZEN', 'Common'),('Highland Berserker', '0.24', 'ZEN', 'Common'),('Inferno Trap', '0.24', 'ZEN', 'Uncommon'),('Into the Roil', '0.24', 'ZEN', 'Common'),('Kor Aeronaut', '0.24', 'ZEN', 'Uncommon'),('Living Tsunami', '0.24', 'ZEN', 'Uncommon'),('Mind Sludge', '0.24', 'ZEN', 'Uncommon'),('Nissas Chosen', '0.24', 'ZEN', 'Common'),('Pitfall Trap', '0.24', 'ZEN', 'Uncommon'),('Spidersilk Net', '0.24', 'ZEN', 'Common'),('Windborne Charge', '0.24', 'ZEN', 'Uncommon'),('Hideous End', '0.23', 'ZEN', 'Common'),('Kor Sanctifiers', '0.23', 'ZEN', 'Common'),('Kraken Hatchling', '0.23', 'ZEN', 'Common'),('Oran-Rief Survivalist', '0.23', 'ZEN', 'Common'),('Pillarfield Ox', '0.23', 'ZEN', 'Common'),('Plated Geopede', '0.23', 'ZEN', 'Common'),('Soaring Seacliff', '0.23', 'ZEN', 'Common'),('Sunspring Expedition', '0.23', 'ZEN', 'Common'),('Turntimber Grove', '0.23', 'ZEN', 'Common'),('Vampires Bite', '0.23', 'ZEN', 'Common'),('Zektar Shrine Expedition', '0.23', 'ZEN', 'Common'),('Beast Hunt', '0.22', 'ZEN', 'Common'),('Caller of Gales', '0.22', 'ZEN', 'Common'),('Nimbus Wings', '0.22', 'ZEN', 'Common'),('Oran-Rief Recluse', '0.22', 'ZEN', 'Common'),('Relic Crush', '0.22', 'ZEN', 'Common'),('Shoal Serpent', '0.22', 'ZEN', 'Common'),('Umara Raptor', '0.22', 'ZEN', 'Common'),('Whiplash Trap', '0.22', 'ZEN', 'Common'),('Bold Defense', '0.21', 'ZEN', 'Common'),('Cliff Threader', '0.21', 'ZEN', 'Common'),('Lethargy Trap', '0.21', 'ZEN', 'Common'),('Makindi Shieldmate', '0.21', 'ZEN', 'Common'),('Molten Ravager', '0.21', 'ZEN', 'Common'),('Noble Vestige', '0.21', 'ZEN', 'Common'),('Reckless Scholar', '0.21', 'ZEN', 'Common'),('Scythe Tiger', '0.21', 'ZEN', 'Common'),('Seismic Shudder', '0.21', 'ZEN', 'Common'),('Shieldmates Blessing', '0.21', 'ZEN', 'Common'),('Tanglesap', '0.21', 'ZEN', 'Common'),('Vampire Lacerator', '0.21', 'ZEN', 'Common'),('Welkin Tern', '0.21', 'ZEN', 'Common'),('Bladetusk Boar', '0.20', 'ZEN', 'Common'),('Bog Tatters', '0.20', 'ZEN', 'Common'),('Cancel', '0.20', 'ZEN', 'Common'),('Caravan Hurda', '0.20', 'ZEN', 'Common'),('Crypt Ripper', '0.20', 'ZEN', 'Common'),('Demolish', '0.20', 'ZEN', 'Common'),('Desecrated Earth', '0.20', 'ZEN', 'Common'),('Giant Scorpion', '0.20', 'ZEN', 'Common'),('Goblin War Paint', '0.20', 'ZEN', 'Common'),('Heartstabber Mosquito', '0.20', 'ZEN', 'Common'),('Hedron Scrabbler', '0.20', 'ZEN', 'Common'),('Ior Ruin Expedition', '0.20', 'ZEN', 'Common'),('Joraga Bard', '0.20', 'ZEN', 'Common'),('Magma Rift', '0.20', 'ZEN', 'Common'),('Mindless Null', '0.20', 'ZEN', 'Common'),('Narrow Escape', '0.20', 'ZEN', 'Common'),('Nimana Sell-Sword', '0.20', 'ZEN', 'Common'),('Ruinous Minotaur', '0.20', 'ZEN', 'Common'),('Savage Silhouette', '0.20', 'ZEN', 'Common'),('Shatterskull Giant', '0.20', 'ZEN', 'Common'),('Sky Ruin Drake', '0.20', 'ZEN', 'Common'),('Slaughter Cry', '0.20', 'ZEN', 'Common'),('Soul Stair Expedition', '0.20', 'ZEN', 'Common'),('Tempest Owl', '0.20', 'ZEN', 'Common'),('Timbermaw Larva', '0.20', 'ZEN', 'Common'),('Torch Slinger', '0.20', 'ZEN', 'Common'),('Trapfinders Trick', '0.20', 'ZEN', 'Common'),('Tuktuk Grunts', '0.20', 'ZEN', 'Common'),('Windrider Eel', '0.20', 'ZEN', 'Common'),('Zendikar Farguide', '0.20', 'ZEN', 'Common'),('Goblin Shortcutter', '0.19', 'ZEN', 'Common'),('Hagra Crocodile', '0.19', 'ZEN', 'Common'),('Kor Hookmaster', '0.19', 'ZEN', 'Common'),('Mire Blight', '0.19', 'ZEN', 'Common'),('Paralyzing Grasp', '0.19', 'ZEN', 'Common'),('Spire Barrage', '0.19', 'ZEN', 'Common'),('Stonework Puma', '0.19', 'ZEN', 'Common'),('Surrakar Marauder', '0.19', 'ZEN', 'Common'),('Territorial Baloth', '0.19', 'ZEN', 'Common'),('Vastwood Gorger', '0.19', 'ZEN', 'Common'),('Twilight Prophet', '35.14', 'RIX', 'Mythic'),('Zacama Primal Calamity', '32.84', 'RIX', 'Mythic'),('The Immortal Sun', '27.00', 'RIX', 'Mythic'),('Elenda the Dusk Rose', '24.49', 'RIX', 'Mythic'),('Polyraptor', '19.09', 'RIX', 'Mythic'),('Pitiless Plunderer', '11.69', 'RIX', 'Uncommon'),('Wayward Swordtooth', '10.25', 'RIX', 'Rare'),('Tendershoot Dryad', '9.93', 'RIX', 'Rare'),('Huatli Radiant Champion', '7.00', 'RIX', 'Mythic'),('Trapjaw Tyrant', '6.23', 'RIX', 'Mythic'),('Timestream Navigator', '6.16', 'RIX', 'Mythic'),('Angrath the Flame-Chained', '5.77', 'RIX', 'Mythic'),('Kumena Tyrant of Orazca', '5.49', 'RIX', 'Mythic'),('Journey to Eternity', '5.48', 'RIX', 'Rare'),('Storm the Vault', '4.69', 'RIX', 'Rare'),('World Shaper', '4.62', 'RIX', 'Rare'),('Azors Gateway', '4.16', 'RIX', 'Mythic'),('Angrath Minotaur PirateFoil', '3.82', 'RIX', 'Mythic'),('Vraska Scheming GorgonFoil', '3.78', 'RIX', 'Mythic'),('Ghalta Primal Hunger', '3.50', 'RIX', 'Rare'),('Hadanas Climb', '3.50', 'RIX', 'Rare'),('Vonas Hunger', '3.27', 'RIX', 'Rare'),('Silverclad Ferocidons', '2.69', 'RIX', 'Rare'),('Azor the Lawbringer', '2.05', 'RIX', 'Mythic'),('Legion Lieutenant', '2.01', 'RIX', 'Uncommon'),('Nezahal Primal Tide', '2.00', 'RIX', 'Rare'),('Path of Discovery', '2.00', 'RIX', 'Rare'),('Rekindling Phoenix', '2.00', 'RIX', 'Mythic'),('Brasss Bounty', '1.69', 'RIX', 'Rare'),('Temple Altisaur', '1.60', 'RIX', 'Rare'),('Radiant Destiny', '1.56', 'RIX', 'Rare'),('Blood Sun', '1.48', 'RIX', 'Rare'),('Masterminds Acquisition', '1.45', 'RIX', 'Rare'),('Warkite Marauder', '1.37', 'RIX', 'Rare'),('Dire Fleet Daredevil', '1.35', 'RIX', 'Rare'),('Pirates Pillage', '1.35', 'RIX', 'Uncommon'),('Etali Primal Storm', '1.25', 'RIX', 'Rare'),('Curious Obsession', '1.21', 'RIX', 'Uncommon'),('Golden Guardian', '1.05', 'RIX', 'Rare'),('Arch of Orazca', '1.02', 'RIX', 'Rare'),('Deeproot Elite', '0.99', 'RIX', 'Rare'),('Profane Procession', '0.99', 'RIX', 'Rare'),('Ravenous Chupacabra', '0.96', 'RIX', 'Uncommon'),('Forest196', '0.92', 'RIX', 'Common'),('Dire Fleet Poisoner', '0.91', 'RIX', 'Rare'),('Protean Raider', '0.85', 'RIX', 'Rare'),('Siegehorn Ceratops', '0.80', 'RIX', 'Rare'),('Jadelight Ranger', '0.76', 'RIX', 'Rare'),('Champion of Dusk', '0.75', 'RIX', 'Rare'),('Seafloor Oracle', '0.75', 'RIX', 'Rare'),('Tilonallis Summoner', '0.75', 'RIX', 'Rare'),('Release to the Wind', '0.74', 'RIX', 'Rare'),('Tetzimoc Primal Death', '0.71', 'RIX', 'Rare'),('Zetalpa Primal Dawn', '0.71', 'RIX', 'Rare'),('Forerunner of the Legion', '0.70', 'RIX', 'Uncommon'),('Forerunner of the Empire', '0.62', 'RIX', 'Uncommon'),('Kumenas Awakening', '0.62', 'RIX', 'Rare'),('Slaughter the Strong', '0.60', 'RIX', 'Rare'),('Island193', '0.58', 'RIX', 'Common'),('Mountain195', '0.55', 'RIX', 'Common'),('Reckless Rage', '0.51', 'RIX', 'Uncommon'),('Admirals Order', '0.50', 'RIX', 'Rare'),('Path of Mettle', '0.50', 'RIX', 'Rare'),('Silent Gravestone', '0.50', 'RIX', 'Rare'),('Arterial Flow', '0.49', 'RIX', 'Uncommon'),('Crafty Cutpurse', '0.49', 'RIX', 'Rare'),('Merfolk Mistbinder', '0.49', 'RIX', 'Uncommon'),('Swamp194', '0.49', 'RIX', 'Common'),('Dead Mans Chest', '0.48', 'RIX', 'Rare'),('Mist-Cloaked Herald', '0.47', 'RIX', 'Common'),('Paladin of Atonement', '0.47', 'RIX', 'Rare'),('Angraths Fury', '0.45', 'RIX', 'Rare'),('Expel from Orazca', '0.44', 'RIX', 'Uncommon'),('Bishop of Binding', '0.42', 'RIX', 'Rare'),('Plains192', '0.41', 'RIX', 'Common'),('Captains Hook', '0.40', 'RIX', 'Rare'),('Tomb Robber', '0.40', 'RIX', 'Rare'),('Form of the Dinosaur', '0.39', 'RIX', 'Rare'),('Induced Amnesia', '0.39', 'RIX', 'Rare'),('Vraskas Scorn', '0.38', 'RIX', 'Rare'),('Oathsworn Vampire', '0.37', 'RIX', 'Uncommon'),('Silvergill Adept', '0.37', 'RIX', 'Uncommon'),('Atzocan Seer', '0.36', 'RIX', 'Uncommon'),('Awakened Amalgam', '0.36', 'RIX', 'Rare'),('Sphinxs Decree', '0.35', 'RIX', 'Rare'),('Thunderherd Migration', '0.35', 'RIX', 'Uncommon'),('Forerunner of the Coalition', '0.34', 'RIX', 'Uncommon'),('Enter the Unknown', '0.33', 'RIX', 'Uncommon'),('Needletooth Raptor', '0.32', 'RIX', 'Uncommon'),('Storm Fleet Sprinter', '0.32', 'RIX', 'Uncommon'),('Charging Tuskodon', '0.31', 'RIX', 'Uncommon'),('Dusk Legion Zealot', '0.31', 'RIX', 'Common'),('Dire Fleet Neckbreaker', '0.30', 'RIX', 'Uncommon'),('Famished Paladin', '0.30', 'RIX', 'Uncommon'),('Hornswoggle', '0.30', 'RIX', 'Uncommon'),('Raging Regisaur', '0.30', 'RIX', 'Uncommon'),('Skymarcher Aspirant', '0.30', 'RIX', 'Uncommon'),('Majestic Heliopterus', '0.29', 'RIX', 'Uncommon'),('Slippery Scoundrel', '0.29', 'RIX', 'Uncommon'),('Riverwise Augur', '0.28', 'RIX', 'Uncommon'),('Swab Goblin', '0.28', 'RIX', 'Common'),('Baffling End', '0.27', 'RIX', 'Uncommon'),('Thrashing Brontodon', '0.27', 'RIX', 'Uncommon'),('Daring Buccaneer', '0.26', 'RIX', 'Uncommon'),('Golden Demise', '0.26', 'RIX', 'Uncommon'),('Relentless Raptor', '0.26', 'RIX', 'Uncommon'),('Angraths Ambusher', '0.25', 'RIX', 'Uncommon'),('Aquatic Incursion', '0.25', 'RIX', 'Uncommon'),('Blazing Hope', '0.25', 'RIX', 'Uncommon'),('Cacophodon', '0.25', 'RIX', 'Uncommon'),('Cherished Hatchling', '0.25', 'RIX', 'Uncommon'),('Cinder Barrens', '0.25', 'RIX', 'Common'),('Crested Herdcaller', '0.25', 'RIX', 'Uncommon'),('Deadeye Brawler', '0.25', 'RIX', 'Uncommon'),('Everdawn Champion', '0.25', 'RIX', 'Uncommon'),('Evolving Wilds', '0.25', 'RIX', 'Common'),('Fanatical Firebrand', '0.25', 'RIX', 'Common'),('Flood of Recollection', '0.25', 'RIX', 'Uncommon'),('Forerunner of the Heralds', '0.25', 'RIX', 'Uncommon'),('Forsaken Sanctuary', '0.25', 'RIX', 'Uncommon'),('Foul Orchard', '0.25', 'RIX', 'Uncommon'),('Frilled Deathspitter', '0.25', 'RIX', 'Common'),('Gruesome Fate', '0.25', 'RIX', 'Common'),('Highland Lake', '0.25', 'RIX', 'Uncommon'),('Imperial Ceratops', '0.25', 'RIX', 'Uncommon'),('Jungle Creeper', '0.25', 'RIX', 'Uncommon'),('Knight of the Stampede', '0.25', 'RIX', 'Common'),('Negate', '0.25', 'RIX', 'Common'),('Pride of Conquerors', '0.25', 'RIX', 'Uncommon'),('Resplendent Griffin', '0.25', 'RIX', 'Uncommon'),('Sadistic Skymarcher', '0.25', 'RIX', 'Uncommon'),('Secrets of the Golden City', '0.25', 'RIX', 'Common'),('See Red', '0.25', 'RIX', 'Uncommon'),('Shake the Foundations', '0.25', 'RIX', 'Uncommon'),('Siren Reaver', '0.25', 'RIX', 'Uncommon'),('Stone Quarry', '0.25', 'RIX', 'Uncommon'),('Storm Fleet Swashbuckler', '0.25', 'RIX', 'Uncommon'),('Strength of the Pack', '0.25', 'RIX', 'Uncommon'),('Swift Warden', '0.25', 'RIX', 'Uncommon'),('Vampire Champion', '0.25', 'RIX', 'Common'),('Vraskas Conquistador', '0.25', 'RIX', 'Uncommon'),('Woodland Stream', '0.25', 'RIX', 'Uncommon'),('Gleaming Barrier', '0.24', 'RIX', 'Common'),('Jungleborn Pioneer', '0.24', 'RIX', 'Common'),('Martyr of Dusk', '0.24', 'RIX', 'Common'),('Mausoleum Harpy', '0.24', 'RIX', 'Uncommon'),('Orazca Relic', '0.24', 'RIX', 'Common'),('Reaver Ambush', '0.24', 'RIX', 'Uncommon'),('Colossal Dreadmaw', '0.23', 'RIX', 'Common'),('Moment of Craving', '0.23', 'RIX', 'Common'),('Overgrown Armasaur', '0.23', 'RIX', 'Common'),('Jade Bearer', '0.22', 'RIX', 'Common'),('Mutiny', '0.21', 'RIX', 'Common'),('Aggressive Urge', '0.20', 'RIX', 'Common'),('Buccaneers Bravado', '0.20', 'RIX', 'Common'),('Crashing Tide', '0.20', 'RIX', 'Common'),('Hunt the Weak', '0.20', 'RIX', 'Common'),('Jadecraft Artisan', '0.20', 'RIX', 'Common'),('Kitesail Corsair', '0.20', 'RIX', 'Common'),('Legion Conquistador', '0.20', 'RIX', 'Common'),('Moment of Triumph', '0.20', 'RIX', 'Common'),('Raptor Companion', '0.20', 'RIX', 'Common'),('Sailor of Means', '0.20', 'RIX', 'Common'),('Snubhorn Sentry', '0.20', 'RIX', 'Common'),('Squires Devotion', '0.20', 'RIX', 'Common'),('Sun-Collared Raptor', '0.20', 'RIX', 'Common'),('Sun-Crested Pterodon', '0.20', 'RIX', 'Common'),('Tilonallis Crown', '0.20', 'RIX', 'Common'),('Travelers Amulet', '0.20', 'RIX', 'Common'),('Bombard', '0.19', 'RIX', 'Common'),('Brazen Freebooter', '0.19', 'RIX', 'Common'),('Deadeye Rig-Hauler', '0.19', 'RIX', 'Common'),('Dinosaur Hunter', '0.19', 'RIX', 'Common'),('Divine Verdict', '0.19', 'RIX', 'Common'),('Grasping Scoundrel', '0.19', 'RIX', 'Common'),('Naturalize', '0.19', 'RIX', 'Common'),('Orazca Frillback', '0.19', 'RIX', 'Common'),('Recover', '0.19', 'RIX', 'Common'),('Stampeding Horncrest', '0.19', 'RIX', 'Common'),('Strider Harness', '0.19', 'RIX', 'Common'),('Swaggering Corsair', '0.19', 'RIX', 'Common'),('Waterknot', '0.19', 'RIX', 'Common'),('Dusk Charger', '0.18', 'RIX', 'Common'),('Giltgrove Stalker', '0.18', 'RIX', 'Common'),('Goblin Trailblazer', '0.18', 'RIX', 'Common'),('Impale', '0.18', 'RIX', 'Common'),('Orazca Raptor', '0.18', 'RIX', 'Common'),('Plummet', '0.18', 'RIX', 'Common'),('Sanguine Glorifier', '0.18', 'RIX', 'Common'),('Sea Legs', '0.18', 'RIX', 'Common'),('Soul of the Rapids', '0.18', 'RIX', 'Common'),('Spire Winder', '0.18', 'RIX', 'Common'),('Vampire Revenant', '0.18', 'RIX', 'Common'),('Canal Monitor', '0.17', 'RIX', 'Common'),('Cleansing Ray', '0.17', 'RIX', 'Common'),('Dark Inquiry', '0.17', 'RIX', 'Common'),('Fathom Fleet Boarder', '0.17', 'RIX', 'Common'),('Hardy Veteran', '0.17', 'RIX', 'Common'),('Luminous Bonds', '0.17', 'RIX', 'Common'),('River Darter', '0.17', 'RIX', 'Common'),('Shatter', '0.17', 'RIX', 'Common'),('Sun Sentinel', '0.17', 'RIX', 'Common'),('Sworn Guardian', '0.17', 'RIX', 'Common'),('Voracious Vampire', '0.17', 'RIX', 'Common'),('Exultant Skymarcher', '0.16', 'RIX', 'Common'),('It That Betrays', '17.80', 'DDP', 'Rare'),('Avenger of ZendikarFoil', '7.24', 'DDP', 'Mythic'),('Eldrazi Temple', '6.53', 'DDP', 'Uncommon'),('Pawn of Ulamog', '3.33', 'DDP', 'Uncommon'),('Oblivion SowerFoil', '2.97', 'DDP', 'Mythic'),('Primal Command', '1.31', 'DDP', 'Rare'),('Mind Stone', '1.19', 'DDP', 'Uncommon'),('Artisan of Kozilek', '1.09', 'DDP', 'Uncommon'),('Scute Mob', '1.00', 'DDP', 'Rare'),('Butcher of Malakir', '0.89', 'DDP', 'Rare'),('Rocky Tar Pit', '0.73', 'DDP', 'Uncommon'),('Stirring Wildwood', '0.69', 'DDP', 'Rare'),('Groundswell', '0.66', 'DDP', 'Common'),('Read the Bones', '0.54', 'DDP', 'Common'),('Harrow', '0.47', 'DDP', 'Common'),('Vampire Nighthawk', '0.44', 'DDP', 'Uncommon'),('Seers Sundial', '0.43', 'DDP', 'Rare'),('Consume the Meek', '0.42', 'DDP', 'Rare'),('Forked Bolt', '0.41', 'DDP', 'Common'),('Plant', '0.40', 'DDP', 'Common'),('Ulamogs Crusher', '0.39', 'DDP', 'Common'),('Magmaw', '0.38', 'DDP', 'Rare'),('Hellion Eruption', '0.38', 'DDP', 'Rare'),('Veteran Warleader', '0.36', 'DDP', 'Rare'),('Oust', '0.35', 'DDP', 'Uncommon'),('Khalni Heart Expedition', '0.33', 'DDP', 'Common'),('Graypelt Refuge', '0.33', 'DDP', 'Uncommon'),('Akoum Refuge', '0.29', 'DDP', 'Uncommon'),('Grazing Gladehart', '0.29', 'DDP', 'Common'),('Frontier Guide', '0.29', 'DDP', 'Uncommon'),('Retreat to Kazandu', '0.28', 'DDP', 'Uncommon'),('Emrakuls Hatcher', '0.26', 'DDP', 'Common'),('Runed Servitor', '0.25', 'DDP', 'Uncommon'),('Evolving Wilds', '0.25', 'DDP', 'Common'),('Explorers Scope', '0.25', 'DDP', 'Common'),('Marsh Casualties', '0.25', 'DDP', 'Uncommon'),('Affa Guard Hound', '0.25', 'DDP', 'Uncommon'),('Forerunner of Slaughter', '0.25', 'DDP', 'Uncommon'),('Turntimber Basilisk', '0.25', 'DDP', 'Uncommon'),('Kabira Vindicator', '0.25', 'DDP', 'Uncommon'),('Smother', '0.25', 'DDP', 'Uncommon'),('Corpsehatch', '0.25', 'DDP', 'Uncommon'),('Cadaver Imp', '0.25', 'DDP', 'Common'),('Ondu Giant', '0.24', 'DDP', 'Common'),('Bloodrite Invoker', '0.24', 'DDP', 'Common'),('Beastbreaker of Bala Ged', '0.24', 'DDP', 'Uncommon'),('Tajuru Archer', '0.24', 'DDP', 'Uncommon'),('Bloodthrone Vampire', '0.21', 'DDP', 'Common'),('Repel the Darkness', '0.21', 'DDP', 'Common'),('Dominator Drone', '0.20', 'DDP', 'Common'),('Caravan Escort', '0.20', 'DDP', 'Common'),('Torch Slinger', '0.20', 'DDP', 'Common'),('Turntimber Grove', '0.20', 'DDP', 'Common'),('Daggerback Basilisk', '0.20', 'DDP', 'Common'),('Knight of Cliffhaven', '0.20', 'DDP', 'Common'),('Joraga Bard', '0.20', 'DDP', 'Common'),('Induce Despair', '0.20', 'DDP', 'Common'),('Graypelt Hunter', '0.20', 'DDP', 'Common'),('Heartstabber Mosquito', '0.20', 'DDP', 'Common'),('Makindi Griffin', '0.19', 'DDP', 'Common'),('Sheer Drop', '0.18', 'DDP', 'Common'),('Stonework Puma', '0.17', 'DDP', 'Common'),('Territorial Baloth', '0.17', 'DDP', 'Common'),('Wildheart Invoker', '0.17', 'DDP', 'Common'),('Doubling Season', '78.99', 'MMA', 'Rare'),('Chalice of the Void', '66.47', 'MMA', 'Rare'),('Sword of Fire and Ice', '60.79', 'MMA', 'Mythic'),('Dark Confidant', '35.00', 'MMA', 'Mythic'),('Aether Vial', '30.48', 'MMA', 'Rare'),('Tarmogoyf', '30.00', 'MMA', 'Mythic'),('City of Brass', '27.39', 'MMA', 'Rare'),('Tooth and Nail', '26.43', 'MMA', 'Rare'),('Sword of Light and Shadow', '25.02', 'MMA', 'Mythic'),('Kokusho the Evening Star', '22.57', 'MMA', 'Mythic'),('Blood Moon', '19.23', 'MMA', 'Rare'),('Cryptic Command', '18.99', 'MMA', 'Rare'),('Engineered Explosives', '18.99', 'MMA', 'Rare'),('Life from the Loam', '18.06', 'MMA', 'Rare'),('Grand Arbiter Augustin IV', '17.61', 'MMA', 'Rare'),('Arcbound Ravager', '17.52', 'MMA', 'Rare'),('Pact of Negation', '13.50', 'MMA', 'Rare'),('Elspeth Knight-Errant', '13.10', 'MMA', 'Mythic'),('Kiki-Jiki Mirror Breaker', '12.71', 'MMA', 'Mythic'),('Academy Ruins', '12.35', 'MMA', 'Rare'),('Kira Great Glass-Spinner', '11.70', 'MMA', 'Rare'),('Glen Elendra Archmage', '10.82', 'MMA', 'Rare'),('Vendilion Clique', '9.58', 'MMA', 'Mythic'),('Scion of Oona', '9.49', 'MMA', 'Rare'),('Ethersworn Canonist', '9.09', 'MMA', 'Rare'),('Progenitus', '8.78', 'MMA', 'Mythic'),('Kataki Wars Wage', '8.53', 'MMA', 'Rare'),('Glimmervoid', '8.45', 'MMA', 'Rare'),('Vedalken Shackles', '8.09', 'MMA', 'Mythic'),('Death Cloud', '7.83', 'MMA', 'Rare'),('Paradise Mantle', '7.15', 'MMA', 'Uncommon'),('Keiga the Tide Star', '6.97', 'MMA', 'Mythic'),('Sarkhan Vol', '6.94', 'MMA', 'Mythic'),('Relic of Progenitus', '6.48', 'MMA', 'Uncommon'),('Summoners Pact', '5.04', 'MMA', 'Rare'),('Path to Exile', '5.00', 'MMA', 'Uncommon'),('Stonehewer Giant', '4.82', 'MMA', 'Rare'),('Divinity of Pride', '4.75', 'MMA', 'Rare'),('Manamorphose', '4.44', 'MMA', 'Uncommon'),('Eternal Witness', '4.32', 'MMA', 'Uncommon'),('Dragonstorm', '4.00', 'MMA', 'Rare'),('Lava Spike', '3.96', 'MMA', 'Common'),('Yosei the Morning Star', '3.80', 'MMA', 'Mythic'),('Spellstutter Sprite', '3.45', 'MMA', 'Common'),('Woodfall Primus', '3.31', 'MMA', 'Rare'),('Angels Grace', '3.13', 'MMA', 'Rare'),('Blinkmoth Nexus', '2.96', 'MMA', 'Rare'),('Lotus Bloom', '2.63', 'MMA', 'Rare'),('Maelstrom Pulse', '2.49', 'MMA', 'Rare'),('Ryusei the Falling Star', '2.44', 'MMA', 'Mythic'),('Mind Funeral', '2.39', 'MMA', 'Uncommon'),('Extirpate', '2.24', 'MMA', 'Rare'),('Knight of the Reliquary', '2.20', 'MMA', 'Rare'),('Gifts Ungiven', '2.14', 'MMA', 'Rare'),('Kodamas Reach', '2.10', 'MMA', 'Common'),('Slaughter Pact', '2.04', 'MMA', 'Rare'),('Demigod of Revenge', '2.03', 'MMA', 'Rare'),('Street Wraith', '2.00', 'MMA', 'Common'),('Bridge from Below', '1.89', 'MMA', 'Rare'),('Verdeloth the Ancient', '1.77', 'MMA', 'Rare'),('Jugan the Rising Star', '1.54', 'MMA', 'Mythic'),('Earwig Squad', '1.49', 'MMA', 'Rare'),('Oona Queen of the Fae', '1.49', 'MMA', 'Rare'),('Desperate Ritual', '1.48', 'MMA', 'Uncommon'),('Lightning Helix', '1.47', 'MMA', 'Uncommon'),('Vivid Marsh', '1.27', 'MMA', 'Uncommon'),('Reveillark', '1.25', 'MMA', 'Rare'),('Riftsweeper', '1.25', 'MMA', 'Uncommon'),('Krosan Grip', '1.15', 'MMA', 'Uncommon'),('Vivid Meadow', '1.09', 'MMA', 'Uncommon'),('Figure of Destiny', '1.05', 'MMA', 'Rare'),('Kitchen Finks', '1.05', 'MMA', 'Uncommon'),('Dakmor Salvage', '1.03', 'MMA', 'Uncommon'),('Jhoira of the Ghitu', '1.00', 'MMA', 'Rare'),('Meloku the Clouded Mirror', '1.00', 'MMA', 'Rare'),('Squee Goblin Nabob', '1.00', 'MMA', 'Rare'),('Adarkar Valkyrie', '0.99', 'MMA', 'Rare'),('Greater Gargadon', '0.99', 'MMA', 'Rare'),('Countryside Crusher', '0.97', 'MMA', 'Rare'),('Ravens Crime', '0.95', 'MMA', 'Common'),('Rude Awakening', '0.94', 'MMA', 'Rare'),('Stinkweed Imp', '0.94', 'MMA', 'Common'),('Faerie Macabre', '0.88', 'MMA', 'Common'),('Spell Snare', '0.79', 'MMA', 'Uncommon'),('Vivid Crag', '0.79', 'MMA', 'Uncommon'),('Mothdust Changeling', '0.78', 'MMA', 'Common'),('Pyromancers Swath', '0.75', 'MMA', 'Rare'),('Rift Bolt', '0.75', 'MMA', 'Common'),('Mulldrifter', '0.74', 'MMA', 'Uncommon'),('Tidehollow Sculler', '0.73', 'MMA', 'Uncommon'),('Tombstalker', '0.65', 'MMA', 'Rare'),('Myr Retriever', '0.61', 'MMA', 'Uncommon'),('Molten Disaster', '0.60', 'MMA', 'Rare'),('Mad Auntie', '0.54', 'MMA', 'Uncommon'),('Mogg War Marshal', '0.52', 'MMA', 'Common'),('Grapeshot', '0.50', 'MMA', 'Common'),('Murderous Redcap', '0.50', 'MMA', 'Uncommon'),('Narcomoeba', '0.50', 'MMA', 'Uncommon'),('Vivid Creek', '0.50', 'MMA', 'Uncommon'),('Cold-Eyed Selkie', '0.49', 'MMA', 'Rare'),('Etherium Sculptor', '0.49', 'MMA', 'Common'),('Pestermite', '0.49', 'MMA', 'Common'),('Skeletal Vampire', '0.49', 'MMA', 'Rare'),('Vivid Grove', '0.49', 'MMA', 'Uncommon'),('Flickerwisp', '0.48', 'MMA', 'Uncommon'),('Search for Tomorrow', '0.47', 'MMA', 'Common'),('Auriok Salvagers', '0.44', 'MMA', 'Rare'),('Logic Knot', '0.44', 'MMA', 'Common'),('Myr Enforcer', '0.44', 'MMA', 'Common'),('Echoing Truth', '0.43', 'MMA', 'Common'),('Sporesower Thallid', '0.43', 'MMA', 'Uncommon'),('Worm Harvest', '0.43', 'MMA', 'Uncommon'),('Thirst for Knowledge', '0.40', 'MMA', 'Uncommon'),('Empty the Warrens', '0.39', 'MMA', 'Common'),('Perilous Research', '0.37', 'MMA', 'Common'),('Epochrasite', '0.36', 'MMA', 'Uncommon'),('Frogmite', '0.36', 'MMA', 'Common'),('Arcbound Worker', '0.35', 'MMA', 'Common'),('Bonesplitter', '0.35', 'MMA', 'Common'),('Electrolyze', '0.35', 'MMA', 'Uncommon'),('Aether Spellbomb', '0.34', 'MMA', 'Common'),('Reach of Branches', '0.34', 'MMA', 'Uncommon'),('Shrapnel Blast', '0.34', 'MMA', 'Uncommon'),('Terramorphic Expanse', '0.33', 'MMA', 'Common'),('Thallid', '0.33', 'MMA', 'Common'),('Trygon Predator', '0.33', 'MMA', 'Uncommon'),('Marsh Flitter', '0.32', 'MMA', 'Uncommon'),('Take Possession', '0.32', 'MMA', 'Uncommon'),('Careful Consideration', '0.30', 'MMA', 'Uncommon'),('Cloudgoat Ranger', '0.30', 'MMA', 'Uncommon'),('Executioners Capsule', '0.30', 'MMA', 'Uncommon'),('Feudkillers Verdict', '0.30', 'MMA', 'Uncommon'),('Grinning Ignus', '0.30', 'MMA', 'Uncommon'),('Sudden Shock', '0.30', 'MMA', 'Uncommon'),('Peer Through Depths', '0.29', 'MMA', 'Common'),('Plumeveil', '0.29', 'MMA', 'Uncommon'),('Riftwing Cloudskate', '0.29', 'MMA', 'Uncommon'),('Thundercloud Shaman', '0.29', 'MMA', 'Uncommon'),('Pardic Dragon', '0.28', 'MMA', 'Uncommon'),('Aunties Snitch', '0.27', 'MMA', 'Uncommon'),('Masked Admirers', '0.27', 'MMA', 'Uncommon'),('Tribal Flames', '0.27', 'MMA', 'Uncommon'),('Reach Through Mists', '0.26', 'MMA', 'Common'),('Aethersnipe', '0.25', 'MMA', 'Common'),('Arcbound Stinger', '0.25', 'MMA', 'Common'),('Avian Changeling', '0.25', 'MMA', 'Common'),('Brute Force', '0.25', 'MMA', 'Common'),('Crush Underfoot', '0.25', 'MMA', 'Common'),('Dampen Thought', '0.25', 'MMA', 'Common'),('Death Denied', '0.25', 'MMA', 'Common'),('Death Rattle', '0.25', 'MMA', 'Uncommon'),('Errant Ephemeron', '0.25', 'MMA', 'Common'),('Esperzoa', '0.25', 'MMA', 'Uncommon'),('Etched Oracle', '0.25', 'MMA', 'Uncommon'),('Horobis Whisper', '0.25', 'MMA', 'Uncommon'),('Incremental Growth', '0.25', 'MMA', 'Uncommon'),('Meadowboon', '0.25', 'MMA', 'Uncommon'),('Moldervine Cloak', '0.25', 'MMA', 'Common'),('Otherworldly Journey', '0.25', 'MMA', 'Common'),('Phthisis', '0.25', 'MMA', 'Uncommon'),('Pyrite Spellbomb', '0.25', 'MMA', 'Common'),('Runed Stalactite', '0.25', 'MMA', 'Common'),('Sandsower', '0.25', 'MMA', 'Uncommon'),('Sporoloth Ancient', '0.25', 'MMA', 'Common'),('Stinkdrinker Daredevil', '0.25', 'MMA', 'Common'),('Stir the Pride', '0.25', 'MMA', 'Uncommon'),('Syphon Life', '0.25', 'MMA', 'Common'),('Tar Pitcher', '0.25', 'MMA', 'Uncommon'),('Terashis Grasp', '0.25', 'MMA', 'Uncommon'),('Thallid Germinator', '0.25', 'MMA', 'Common'),('Thallid Shell-Dweller', '0.25', 'MMA', 'Common'),('Tromp the Domains', '0.25', 'MMA', 'Uncommon'),('Veteran Armorer', '0.25', 'MMA', 'Common'),('Arcbound Wanderer', '0.24', 'MMA', 'Common'),('Blind-Spot Giant', '0.24', 'MMA', 'Common'),('Dispellers Capsule', '0.24', 'MMA', 'Common'),('Dreamspoiler Witches', '0.24', 'MMA', 'Common'),('Echoing Courage', '0.24', 'MMA', 'Common'),('Fiery Fall', '0.24', 'MMA', 'Common'),('Fury Charm', '0.24', 'MMA', 'Common'),('Glacial Ray', '0.24', 'MMA', 'Common'),('Greater Mossdog', '0.24', 'MMA', 'Common'),('Hana Kami', '0.24', 'MMA', 'Common'),('Imperiosaur', '0.24', 'MMA', 'Common'),('Ivory Giant', '0.24', 'MMA', 'Common'),('Latchkey Faerie', '0.24', 'MMA', 'Common'),('Pallid Mycoderm', '0.24', 'MMA', 'Common'),('Peppersmoke', '0.24', 'MMA', 'Common'),('Petals of Insight', '0.24', 'MMA', 'Common'),('Rathi Trapper', '0.24', 'MMA', 'Common'),('Skyreach Manta', '0.24', 'MMA', 'Common'),('Test of Faith', '0.24', 'MMA', 'Common'),('Thieving Sprite', '0.24', 'MMA', 'Common'),('War-Spike Changeling', '0.24', 'MMA', 'Common'),('Warren Pilferers', '0.24', 'MMA', 'Common'),('Warren Weirding', '0.24', 'MMA', 'Common'),('Absorb Vis', '0.23', 'MMA', 'Common'),('Amrou Scout', '0.23', 'MMA', 'Common'),('Amrou Seekers', '0.23', 'MMA', 'Common'),('Blightspeaker', '0.23', 'MMA', 'Common'),('Blinding Beam', '0.23', 'MMA', 'Common'),('Bound in Silence', '0.23', 'MMA', 'Common'),('Cenns Enlistment', '0.23', 'MMA', 'Common'),('Citanul Woodreaders', '0.23', 'MMA', 'Common'),('Faerie Mechanist', '0.23', 'MMA', 'Common'),('Festering Goblin', '0.23', 'MMA', 'Common'),('Kithkin Greatheart', '0.23', 'MMA', 'Common'),('Rift Elemental', '0.23', 'MMA', 'Common'),('Sanctum Gargoyle', '0.23', 'MMA', 'Common'),('Vedalken Dismisser', '0.23', 'MMA', 'Common'),('Court Homunculus', '0.22', 'MMA', 'Common'),('Durkwood Baloth', '0.22', 'MMA', 'Common'),('Nantuko Shaman', '0.22', 'MMA', 'Common'),('Penumbra Spider', '0.22', 'MMA', 'Common'),('Saltfield Recluse', '0.22', 'MMA', 'Common'),('Stingscourger', '0.22', 'MMA', 'Common'),('Sylvan Bounty', '0.22', 'MMA', 'Common'),('Thundering Giant', '0.22', 'MMA', 'Common'),('Torrent of Stone', '0.22', 'MMA', 'Common'),('Traumatic Visions', '0.22', 'MMA', 'Common'),('Walker of the Grove', '0.22', 'MMA', 'Common'),('Erratic Mutation', '0.21', 'MMA', 'Common'),('Hammerheim Deadeye', '0.21', 'MMA', 'Common'),('Deepcavern Imp', '0.20', 'MMA', 'Common'),('Drag Down', '0.20', 'MMA', 'Common'),('Facevaulter', '0.20', 'MMA', 'Common'),('Giant Dustwasp', '0.20', 'MMA', 'Common'),('Hillcomber Giant', '0.20', 'MMA', 'Common'),('Gleam of Resistance', '0.18', 'MMA', 'Common'),('Ugin the Spirit Dragon', '23.73', 'FRF', 'Mythic'),('Temporal Trespass', '19.17', 'FRF', 'Mythic'),('Monastery Mentor', '15.80', 'FRF', 'Mythic'),('Soulfire Grand Master', '3.97', 'FRF', 'Mythic'),('Archfiend of Depravity', '3.62', 'FRF', 'Rare'),('Temur Sabertooth', '3.25', 'FRF', 'Uncommon'),('Brutal Hordechief', '2.41', 'FRF', 'Mythic'),('Dark Deal', '2.31', 'FRF', 'Uncommon'),('Crux of Fate', '2.12', 'FRF', 'Rare'),('Palace Siege', '1.36', 'FRF', 'Rare'),('Reality Shift', '1.24', 'FRF', 'Uncommon'),('Whisperwood Elemental', '1.00', 'FRF', 'Mythic'),('Shaman of the Great Hunt', '0.95', 'FRF', 'Mythic'),('Monastery Siege', '0.87', 'FRF', 'Rare'),('Merciless Executioner', '0.81', 'FRF', 'Uncommon'),('Rally the Ancestors', '0.75', 'FRF', 'Rare'),('Shamanic Revelation', '0.75', 'FRF', 'Rare'),('Torrent Elemental', '0.75', 'FRF', 'Mythic'),('Warden of the First Tree', '0.68', 'FRF', 'Mythic'),('Frontier Siege', '0.66', 'FRF', 'Rare'),('Mob Rule', '0.64', 'FRF', 'Rare'),('Flamewake Phoenix', '0.59', 'FRF', 'Rare'),('Kolaghan the Storms Fury', '0.59', 'FRF', 'Rare'),('Silumgar the Drifting Death', '0.58', 'FRF', 'Rare'),('Atarka World Render', '0.57', 'FRF', 'Rare'),('Arcbond', '0.50', 'FRF', 'Rare'),('Dromoka the Eternal', '0.50', 'FRF', 'Rare'),('Ghastly Conscription', '0.50', 'FRF', 'Mythic'),('Outpost Siege', '0.50', 'FRF', 'Rare'),('Sages Reverie', '0.50', 'FRF', 'Uncommon'),('Tasigur the Golden Fang', '0.50', 'FRF', 'Rare'),('Jeskai Barricade', '0.49', 'FRF', 'Uncommon'),('Ojutai Soul of Winter', '0.49', 'FRF', 'Rare'),('Soulflayer', '0.49', 'FRF', 'Rare'),('Wild Slash', '0.49', 'FRF', 'Uncommon'),('Crucible of the Spirit Dragon', '0.48', 'FRF', 'Rare'),('Mardu Strike Leader', '0.48', 'FRF', 'Rare'),('Shu Yun the Silent Tempest', '0.48', 'FRF', 'Rare'),('Alesha Who Smiles at Death', '0.47', 'FRF', 'Rare'),('Yasova Dragonclaw', '0.42', 'FRF', 'Rare'),('Supplant Form', '0.41', 'FRF', 'Rare'),('Citadel Siege', '0.39', 'FRF', 'Rare'),('Scroll of the Masters', '0.38', 'FRF', 'Rare'),('Flamerush Rider', '0.37', 'FRF', 'Rare'),('Mastery of the Unseen', '0.37', 'FRF', 'Rare'),('Dragonscale General', '0.36', 'FRF', 'Rare'),('Temur War Shaman', '0.35', 'FRF', 'Rare'),('Daghatar the Adamant', '0.33', 'FRF', 'Rare'),('Heros Blade', '0.33', 'FRF', 'Uncommon'),('Mardu Woe-Reaper', '0.33', 'FRF', 'Uncommon'),('Sage-Eye Avengers', '0.33', 'FRF', 'Rare'),('Wildcall', '0.32', 'FRF', 'Rare'),('Fascination', '0.30', 'FRF', 'Uncommon'),('Fearsome Awakening', '0.30', 'FRF', 'Uncommon'),('Jeskai Infiltrator', '0.30', 'FRF', 'Rare'),('Sandsteppe Mastodon', '0.30', 'FRF', 'Rare'),('Temur Battle Rage', '0.30', 'FRF', 'Common'),('Valorous Stance', '0.30', 'FRF', 'Uncommon'),('Gurmag Angler', '0.29', 'FRF', 'Common'),('Winds of Qal Sisma', '0.29', 'FRF', 'Uncommon'),('Destructor Dragon', '0.27', 'FRF', 'Uncommon'),('Abzan Beastmaster', '0.26', 'FRF', 'Uncommon'),('Battlefront Krushok', '0.25', 'FRF', 'Uncommon'),('Bloodfell Caves', '0.25', 'FRF', 'Common'),('Bloodfire Enforcers', '0.25', 'FRF', 'Uncommon'),('Blossoming Sands', '0.25', 'FRF', 'Common'),('Break Through the Line', '0.25', 'FRF', 'Uncommon'),('Channel Harm', '0.25', 'FRF', 'Uncommon'),('Cloudform', '0.25', 'FRF', 'Uncommon'),('Dismal Backwater', '0.25', 'FRF', 'Common'),('Dragonrage', '0.25', 'FRF', 'Uncommon'),('Elite Scaleguard', '0.25', 'FRF', 'Uncommon'),('Friendly Fire', '0.25', 'FRF', 'Uncommon'),('Frost Walker', '0.25', 'FRF', 'Uncommon'),('Fruit of the First Tree', '0.25', 'FRF', 'Uncommon'),('Goblin Boom Keg', '0.25', 'FRF', 'Uncommon'),('Grave Strength', '0.25', 'FRF', 'Uncommon'),('Hewed Stone Retainers', '0.25', 'FRF', 'Uncommon'),('Honors Reward', '0.25', 'FRF', 'Uncommon'),('Humble Defector', '0.25', 'FRF', 'Uncommon'),('Lightform', '0.25', 'FRF', 'Uncommon'),('Lotus-Eye Mystics', '0.25', 'FRF', 'Uncommon'),('Marang River Prowler', '0.25', 'FRF', 'Uncommon'),('Mardu Shadowspear', '0.25', 'FRF', 'Uncommon'),('Mindscour Dragon', '0.25', 'FRF', 'Uncommon'),('Mistfire Adept', '0.25', 'FRF', 'Uncommon'),('Neutralizing Blast', '0.25', 'FRF', 'Uncommon'),('Noxious Dragon', '0.25', 'FRF', 'Uncommon'),('Orc Sureshot', '0.25', 'FRF', 'Uncommon'),('Pilgrim of the Fires', '0.25', 'FRF', 'Uncommon'),('Pyrotechnics', '0.25', 'FRF', 'Uncommon'),('Qarsi High Priest', '0.25', 'FRF', 'Uncommon'),('Rageform', '0.25', 'FRF', 'Uncommon'),('Renowned Weaponsmith', '0.25', 'FRF', 'Uncommon'),('Rite of Undoing', '0.25', 'FRF', 'Uncommon'),('Ruthless Instincts', '0.25', 'FRF', 'Uncommon'),('Shifting Loyalties', '0.25', 'FRF', 'Uncommon'),('Shockmaw Dragon', '0.25', 'FRF', 'Uncommon'),('Sibsig Muckdraggers', '0.25', 'FRF', 'Uncommon'),('Sudden Reclamation', '0.25', 'FRF', 'Uncommon'),('Typhoid Rats', '0.25', 'FRF', 'Common'),('Vaultbreaker', '0.25', 'FRF', 'Uncommon'),('Wardscale Dragon', '0.25', 'FRF', 'Uncommon'),('Abzan Kin-Guard', '0.24', 'FRF', 'Uncommon'),('Battle Brawler', '0.24', 'FRF', 'Uncommon'),('Cached Defenses', '0.24', 'FRF', 'Uncommon'),('Diplomacy of the Wastes', '0.24', 'FRF', 'Uncommon'),('Hungering Yeti', '0.24', 'FRF', 'Uncommon'),('Ugins Construct', '0.24', 'FRF', 'Uncommon'),('Wandering Champion', '0.24', 'FRF', 'Uncommon'),('Arashin War Beast', '0.23', 'FRF', 'Uncommon'),('Goblin Heelcutter', '0.23', 'FRF', 'Common'),('Whisperer of the Wilds', '0.23', 'FRF', 'Common'),('Jungle Hollow', '0.22', 'FRF', 'Common'),('Scoured Barrens', '0.22', 'FRF', 'Common'),('Thornwood Falls', '0.22', 'FRF', 'Common'),('Refocus', '0.21', 'FRF', 'Common'),('Rugged Highlands', '0.21', 'FRF', 'Common'),('Sultai Emissary', '0.21', 'FRF', 'Common'),('Swiftwater Cliffs', '0.21', 'FRF', 'Common'),('Tasigurs Cruelty', '0.21', 'FRF', 'Common'),('Tranquil Cove', '0.21', 'FRF', 'Common'),('Wind-Scarred Crag', '0.21', 'FRF', 'Common'),('Abzan Advantage', '0.20', 'FRF', 'Common'),('Ainok Guide', '0.20', 'FRF', 'Common'),('Arashin Cleric', '0.20', 'FRF', 'Common'),('Aven Surveyor', '0.20', 'FRF', 'Common'),('Defiant Ogre', '0.20', 'FRF', 'Common'),('Dragon Bell Monk', '0.20', 'FRF', 'Common'),('Enhanced Awareness', '0.20', 'FRF', 'Common'),('Formless Nurturing', '0.20', 'FRF', 'Common'),('Harsh Sustenance', '0.20', 'FRF', 'Common'),('Hooded Assassin', '0.20', 'FRF', 'Common'),('Jeskai Runemark', '0.20', 'FRF', 'Common'),('Jeskai Sage', '0.20', 'FRF', 'Common'),('Lotus Path Djinn', '0.20', 'FRF', 'Common'),('War Flare', '0.20', 'FRF', 'Common'),('Write into Being', '0.20', 'FRF', 'Common'),('Abzan Runemark', '0.19', 'FRF', 'Common'),('Abzan Skycaptain', '0.19', 'FRF', 'Common'),('Ambush Krotiq', '0.19', 'FRF', 'Common'),('Ancestral Vengeance', '0.19', 'FRF', 'Common'),('Archers of Qarsi', '0.19', 'FRF', 'Common'),('Aven Skirmisher', '0.19', 'FRF', 'Common'),('Bathe in Dragonfire', '0.19', 'FRF', 'Common'),('Collateral Damage', '0.19', 'FRF', 'Common'),('Cunning Strike', '0.19', 'FRF', 'Common'),('Douse in Gloom', '0.19', 'FRF', 'Common'),('Ethereal Ambush', '0.19', 'FRF', 'Common'),('Feral Krushok', '0.19', 'FRF', 'Common'),('Frontier Mastodon', '0.19', 'FRF', 'Common'),('Great-Horn Krushok', '0.19', 'FRF', 'Common'),('Grim Contest', '0.19', 'FRF', 'Common'),('Hunt the Weak', '0.19', 'FRF', 'Common'),('Lightning Shrieker', '0.19', 'FRF', 'Common'),('Map the Wastes', '0.19', 'FRF', 'Common'),('Mardu Runemark', '0.19', 'FRF', 'Common'),('Mardu Scout', '0.19', 'FRF', 'Common'),('Pressure Point', '0.19', 'FRF', 'Common'),('Rakshasas Disdain', '0.19', 'FRF', 'Common'),('Reach of Shadows', '0.19', 'FRF', 'Common'),('Return to the Earth', '0.19', 'FRF', 'Common'),('Sandblast', '0.19', 'FRF', 'Common'),('Sandsteppe Outcast', '0.19', 'FRF', 'Common'),('Sibsig Host', '0.19', 'FRF', 'Common'),('Smoldering Efreet', '0.19', 'FRF', 'Common'),('Soul Summons', '0.19', 'FRF', 'Common'),('Sultai Runemark', '0.19', 'FRF', 'Common'),('Sultai Skullkeeper', '0.19', 'FRF', 'Common'),('Temur Runemark', '0.19', 'FRF', 'Common'),('Whisk Away', '0.19', 'FRF', 'Common'),('Will of the Naga', '0.19', 'FRF', 'Common'),('Aleshas Vanguard', '0.18', 'FRF', 'Common'),('Fierce Invocation', '0.18', 'FRF', 'Common'),('Gore Swine', '0.18', 'FRF', 'Common'),('Doubling Season', '80.39', 'RAV', 'Rare'),('Cloudstone Curio', '60.29', 'RAV', 'Rare'),('Dark Confidant', '39.59', 'RAV', 'Rare'),('Sacred Foundry', '26.78', 'RAV', 'Rare'),('Watery Grave', '22.01', 'RAV', 'Rare'),('Privileged Position', '21.92', 'RAV', 'Rare'),('Overgrown Tomb', '19.95', 'RAV', 'Rare'),('Temple Garden', '19.49', 'RAV', 'Rare'),('Life from the Loam', '19.22', 'RAV', 'Rare'),('Copy Enchantment', '16.62', 'RAV', 'Rare'),('Birds of Paradise', '14.31', 'RAV', 'Rare'),('Hunted Horror', '14.19', 'RAV', 'Rare'),('Mindleech Mass', '12.00', 'RAV', 'Rare'),('Glimpse the Unthinkable', '10.88', 'RAV', 'Rare'),('Pariahs Shield', '10.76', 'RAV', 'Rare'),('Chord of Calling', '9.99', 'RAV', 'Rare'),('Hunted Phantasm', '7.84', 'RAV', 'Rare'),('Concerted Effort', '5.65', 'RAV', 'Rare'),('Muddle the Mixture', '5.49', 'RAV', 'Common'),('Breath of Fury', '5.23', 'RAV', 'Rare'),('Congregation at Dawn', '5.00', 'RAV', 'Uncommon'),('Dimir Signet', '4.32', 'RAV', 'Common'),('Grozoth', '4.07', 'RAV', 'Rare'),('Savra Queen of the Golgari', '3.99', 'RAV', 'Rare'),('Blood Funnel', '3.97', 'RAV', 'Rare'),('Shadow of Doubt', '3.60', 'RAV', 'Rare'),('Loxodon Gatekeeper', '3.45', 'RAV', 'Rare'),('Tunnel Vision', '3.45', 'RAV', 'Rare'),('Golgari Grave-Troll', '3.28', 'RAV', 'Rare'),('Perilous Forays', '3.24', 'RAV', 'Uncommon'),('Remand', '3.14', 'RAV', 'Uncommon'),('Autochthon Wurm', '3.00', 'RAV', 'Rare'),('Followed Footsteps', '3.00', 'RAV', 'Rare'),('Mindmoil', '2.81', 'RAV', 'Rare'),('Blazing Archon', '2.57', 'RAV', 'Rare'),('Suppression Field', '2.50', 'RAV', 'Uncommon'),('Three Dreams', '2.37', 'RAV', 'Rare'),('Tolsimir Wolfblood', '2.23', 'RAV', 'Rare'),('Phytohydra', '2.22', 'RAV', 'Rare'),('Twilight Drover', '2.20', 'RAV', 'Rare'),('Circu Dimir Lobotomist', '2.11', 'RAV', 'Rare'),('Farseek', '1.99', 'RAV', 'Common'),('Elves of Deep Shadow', '1.55', 'RAV', 'Common'),('Helldozer', '1.52', 'RAV', 'Rare'),('Lightning Helix', '1.50', 'RAV', 'Uncommon'),('Eye of the Storm', '1.44', 'RAV', 'Rare'),('Nullstone Gargoyle', '1.40', 'RAV', 'Rare'),('Primordial Sage', '1.38', 'RAV', 'Rare'),('Sunforger', '1.35', 'RAV', 'Rare'),('Selesnya Signet', '1.32', 'RAV', 'Common'),('Dimir Machinations', '1.29', 'RAV', 'Uncommon'),('Golgari Thug', '1.25', 'RAV', 'Uncommon'),('Dimir Doppelganger', '1.24', 'RAV', 'Rare'),('Flickerform', '1.17', 'RAV', 'Rare'),('Sisters of Stone Death', '1.02', 'RAV', 'Rare'),('Hunted Troll', '1.01', 'RAV', 'Rare'),('Bottled Cloister', '1.00', 'RAV', 'Rare'),('Golgari Signet', '1.00', 'RAV', 'Common'),('Perplex', '1.00', 'RAV', 'Common'),('Drift of Phantasms', '0.99', 'RAV', 'Common'),('Stinkweed Imp', '0.94', 'RAV', 'Common'),('Razia Boros Archangel', '0.92', 'RAV', 'Rare'),('Razias Purification', '0.91', 'RAV', 'Rare'),('Hour of Reckoning', '0.89', 'RAV', 'Rare'),('Warp World', '0.75', 'RAV', 'Rare'),('Dimir House Guard', '0.71', 'RAV', 'Common'),('Oathsworn Giant', '0.71', 'RAV', 'Uncommon'),('Hunted Dragon', '0.70', 'RAV', 'Rare'),('Necroplasm', '0.70', 'RAV', 'Rare'),('Dimir Cutpurse', '0.68', 'RAV', 'Rare'),('Moonlight Bargain', '0.68', 'RAV', 'Rare'),('Boros Signet', '0.67', 'RAV', 'Common'),('Stoneshaker Shaman', '0.64', 'RAV', 'Uncommon'),('Bloodbond March', '0.63', 'RAV', 'Rare'),('Darkblast', '0.63', 'RAV', 'Uncommon'),('Glare of Subdual', '0.61', 'RAV', 'Rare'),('Sunhome Fortress of the Legion', '0.61', 'RAV', 'Uncommon'),('Brightflame', '0.60', 'RAV', 'Rare'),('Loxodon Hierarch', '0.60', 'RAV', 'Rare'),('Master Warcraft', '0.60', 'RAV', 'Rare'),('Szadek Lord of Secrets', '0.60', 'RAV', 'Rare'),('Voyager Staff', '0.57', 'RAV', 'Uncommon'),('Shred Memory', '0.55', 'RAV', 'Common'),('Gleancrawler', '0.54', 'RAV', 'Rare'),('Dimir Infiltrator', '0.50', 'RAV', 'Common'),('Empty the Catacombs', '0.50', 'RAV', 'Rare'),('Light of Sanction', '0.50', 'RAV', 'Rare'),('Nullmage Shepherd', '0.50', 'RAV', 'Uncommon'),('Vulturous Zombie', '0.50', 'RAV', 'Rare'),('Agrus Kos Wojek Veteran', '0.49', 'RAV', 'Rare'),('Char', '0.49', 'RAV', 'Rare'),('Dream Leash', '0.49', 'RAV', 'Rare'),('Firemane Angel', '0.49', 'RAV', 'Rare'),('Hex', '0.49', 'RAV', 'Rare'),('Spawnbroker', '0.49', 'RAV', 'Rare'),('Ursapine', '0.49', 'RAV', 'Rare'),('Vinelasher Kudzu', '0.49', 'RAV', 'Rare'),('Chorus of the Conclave', '0.48', 'RAV', 'Rare'),('Grave-Shell Scarab', '0.48', 'RAV', 'Rare'),('Plague Boiler', '0.48', 'RAV', 'Rare'),('Woebringer Demon', '0.48', 'RAV', 'Rare'),('Flame Fusillade', '0.47', 'RAV', 'Rare'),('Hunted Lammasu', '0.47', 'RAV', 'Rare'),('Golgari Germination', '0.46', 'RAV', 'Uncommon'),('Carven Caryatid', '0.45', 'RAV', 'Uncommon'),('Psychic Drain', '0.45', 'RAV', 'Uncommon'),('Sins of the Past', '0.45', 'RAV', 'Rare'),('Woodwraith Corrupter', '0.44', 'RAV', 'Rare'),('Leave No Trace', '0.43', 'RAV', 'Common'),('Searing Meditation', '0.43', 'RAV', 'Rare'),('Ghosts of the Innocent', '0.42', 'RAV', 'Rare'),('Molten Sentry', '0.42', 'RAV', 'Rare'),('Scion of the Wild', '0.42', 'RAV', 'Rare'),('Telling Time', '0.42', 'RAV', 'Uncommon'),('Dimir Aqueduct', '0.41', 'RAV', 'Common'),('Dizzy Spell', '0.41', 'RAV', 'Common'),('Excruciator', '0.41', 'RAV', 'Rare'),('Crown of Convergence', '0.39', 'RAV', 'Rare'),('Netherborn Phalanx', '0.39', 'RAV', 'Uncommon'),('Clutch of the Undercity', '0.38', 'RAV', 'Uncommon'),('Hammerfist Giant', '0.38', 'RAV', 'Rare'),('Cerulean Sphinx', '0.37', 'RAV', 'Rare'),('Lore Broker', '0.37', 'RAV', 'Uncommon'),('Bloodletter Quill', '0.36', 'RAV', 'Rare'),('Duskmantle House of Shadow', '0.35', 'RAV', 'Uncommon'),('Putrefy', '0.35', 'RAV', 'Uncommon'),('Watchwolf', '0.33', 'RAV', 'Uncommon'),('Selesnya Sanctuary', '0.32', 'RAV', 'Common'),('Vigor Mortis', '0.31', 'RAV', 'Uncommon'),('Brainspoil', '0.30', 'RAV', 'Common'),('Flow of Ideas', '0.30', 'RAV', 'Uncommon'),('Frenzied Goblin', '0.30', 'RAV', 'Uncommon'),('Junktroller', '0.30', 'RAV', 'Uncommon'),('Stone-Seeder Hierophant', '0.30', 'RAV', 'Common'),('Wizened Snitches', '0.30', 'RAV', 'Uncommon'),('Bathe in Light', '0.29', 'RAV', 'Uncommon'),('Boros Garrison', '0.29', 'RAV', 'Common'),('Golgari Rot Farm', '0.29', 'RAV', 'Common'),('Moldervine Cloak', '0.29', 'RAV', 'Uncommon'),('Pollenbright Wings', '0.29', 'RAV', 'Uncommon'),('Ethereal Usher', '0.28', 'RAV', 'Uncommon'),('Mnemonic Nexus', '0.28', 'RAV', 'Uncommon'),('Golgari Brownscale', '0.27', 'RAV', 'Common'),('Svogthos the Restless Tomb', '0.27', 'RAV', 'Uncommon'),('Vitu-Ghazi the City-Tree', '0.27', 'RAV', 'Uncommon'),('Boros Swiftblade', '0.26', 'RAV', 'Uncommon'),('Devouring Light', '0.26', 'RAV', 'Uncommon'),('Goliath Spider', '0.26', 'RAV', 'Uncommon'),('Peregrine Mask', '0.26', 'RAV', 'Uncommon'),('Spectral Searchlight', '0.26', 'RAV', 'Uncommon'),('Auratouched Mage', '0.25', 'RAV', 'Uncommon'),('Belltower Sphinx', '0.25', 'RAV', 'Uncommon'),('Boros Guildmage', '0.25', 'RAV', 'Uncommon'),('Boros Recruit', '0.25', 'RAV', 'Common'),('Carrion Howler', '0.25', 'RAV', 'Uncommon'),('Chant of Vitu-Ghazi', '0.25', 'RAV', 'Uncommon'),('Cleansing Beam', '0.25', 'RAV', 'Uncommon'),('Compulsive Research', '0.25', 'RAV', 'Common'),('Conclave Phalanx', '0.25', 'RAV', 'Uncommon'),('Consult the Necrosages', '0.25', 'RAV', 'Common'),('Cyclopean Snare', '0.25', 'RAV', 'Uncommon'),('Dark Heart of the Wood', '0.25', 'RAV', 'Uncommon'),('Dimir Guildmage', '0.25', 'RAV', 'Uncommon'),('Divebomber Griffin', '0.25', 'RAV', 'Uncommon'),('Dowsing Shaman', '0.25', 'RAV', 'Uncommon'),('Drooling Groodion', '0.25', 'RAV', 'Uncommon'),('Festival of the Guildpact', '0.25', 'RAV', 'Uncommon'),('Flame-Kin Zealot', '0.25', 'RAV', 'Uncommon'),('Gaze of the Gorgon', '0.25', 'RAV', 'Common'),('Glass Golem', '0.25', 'RAV', 'Uncommon'),('Golgari Guildmage', '0.25', 'RAV', 'Uncommon'),('Grifters Blade', '0.25', 'RAV', 'Uncommon'),('Halcyon Glaze', '0.25', 'RAV', 'Uncommon'),('Indentured Oaf', '0.25', 'RAV', 'Uncommon'),('Induce Paranoia', '0.25', 'RAV', 'Common'),('Instill Furor', '0.25', 'RAV', 'Uncommon'),('Ivy Dancer', '0.25', 'RAV', 'Uncommon'),('Keening Banshee', '0.25', 'RAV', 'Uncommon'),('Lurking Informant', '0.25', 'RAV', 'Common'),('Mark of Eviction', '0.25', 'RAV', 'Uncommon'),('Nightmare Void', '0.25', 'RAV', 'Uncommon'),('Overwhelm', '0.25', 'RAV', 'Uncommon'),('Rain of Embers', '0.25', 'RAV', 'Common'),('Rally the Righteous', '0.25', 'RAV', 'Common'),('Recollect', '0.25', 'RAV', 'Uncommon'),('Reroute', '0.25', 'RAV', 'Uncommon'),('Ribbons of Night', '0.25', 'RAV', 'Uncommon'),('Rolling Spoil', '0.25', 'RAV', 'Uncommon'),('Sandsower', '0.25', 'RAV', 'Uncommon'),('Scatter the Seeds', '0.25', 'RAV', 'Common'),('Seed Spark', '0.25', 'RAV', 'Uncommon'),('Seismic Spike', '0.25', 'RAV', 'Common'),('Selesnya Sagittars', '0.25', 'RAV', 'Uncommon'),('Shambling Shell', '0.25', 'RAV', 'Common'),('Sunhome Enforcer', '0.25', 'RAV', 'Uncommon'),('Surveilling Sprite', '0.25', 'RAV', 'Common'),('Terrarion', '0.25', 'RAV', 'Common'),('Thoughtpicker Witch', '0.25', 'RAV', 'Common'),('Trophy Hunter', '0.25', 'RAV', 'Uncommon'),('Twisted Justice', '0.25', 'RAV', 'Uncommon'),('Undercity Shade', '0.25', 'RAV', 'Uncommon'),('Veteran Armorer', '0.25', 'RAV', 'Common'),('Vindictive Mob', '0.25', 'RAV', 'Uncommon'),('Wojek Apothecary', '0.25', 'RAV', 'Uncommon'),('Wojek Embermage', '0.25', 'RAV', 'Uncommon'),('Blockbuster', '0.24', 'RAV', 'Uncommon'),('Boros Fury-Shield', '0.24', 'RAV', 'Common'),('Civic Wayfinder', '0.24', 'RAV', 'Common'),('Coalhauler Swine', '0.24', 'RAV', 'Common'),('Conclaves Blessing', '0.24', 'RAV', 'Common'),('Faiths Fetters', '0.24', 'RAV', 'Common'),('Fists of Ironwood', '0.24', 'RAV', 'Common'),('Flash Conscription', '0.24', 'RAV', 'Uncommon'),('Grayscaled Gharial', '0.24', 'RAV', 'Common'),('Greater Forgeling', '0.24', 'RAV', 'Uncommon'),('Greater Mossdog', '0.24', 'RAV', 'Common'),('Leashling', '0.24', 'RAV', 'Uncommon'),('Mausoleum Turnkey', '0.24', 'RAV', 'Uncommon'),('Moroii', '0.24', 'RAV', 'Uncommon'),('Root-Kin Ally', '0.24', 'RAV', 'Uncommon'),('Selesnya Evangel', '0.24', 'RAV', 'Common'),('Selesnya Guildmage', '0.24', 'RAV', 'Uncommon'),('Tidewater Minion', '0.24', 'RAV', 'Common'),('Caregiver', '0.23', 'RAV', 'Common'),('Centaur Safeguard', '0.23', 'RAV', 'Common'),('Dogpile', '0.23', 'RAV', 'Common'),('Drake Familiar', '0.23', 'RAV', 'Common'),('Gather Courage', '0.23', 'RAV', 'Common'),('Guardian of Vitu-Ghazi', '0.23', 'RAV', 'Common'),('Infectious Host', '0.23', 'RAV', 'Common'),('Quickchange', '0.23', 'RAV', 'Common'),('Skyknight Legionnaire', '0.23', 'RAV', 'Common'),('Smash', '0.23', 'RAV', 'Common'),('Terraformer', '0.23', 'RAV', 'Common'),('Vedalken Dismisser', '0.23', 'RAV', 'Common'),('Wojek Siren', '0.23', 'RAV', 'Common'),('Benevolent Ancestor', '0.22', 'RAV', 'Common'),('Clinging Darkness', '0.22', 'RAV', 'Common'),('Conclave Equenaut', '0.22', 'RAV', 'Common'),('Courier Hawk', '0.22', 'RAV', 'Common'),('Disembowel', '0.22', 'RAV', 'Common'),('Dromad Purebred', '0.22', 'RAV', 'Common'),('Dryads Caress', '0.22', 'RAV', 'Common'),('Elvish Skysweeper', '0.22', 'RAV', 'Common'),('Flight of Fancy', '0.22', 'RAV', 'Common'),('Gate Hound', '0.22', 'RAV', 'Common'),('Goblin Fire Fiend', '0.22', 'RAV', 'Common'),('Incite Hysteria', '0.22', 'RAV', 'Common'),('Mortipede', '0.22', 'RAV', 'Common'),('Necromantic Thirst', '0.22', 'RAV', 'Common'),('Sabertooth Alley Cat', '0.22', 'RAV', 'Common'),('Sadistic Augermage', '0.22', 'RAV', 'Common'),('Snapping Drake', '0.22', 'RAV', 'Common'),('Stasis Cell', '0.22', 'RAV', 'Common'),('Strands of Undeath', '0.22', 'RAV', 'Common'),('Sundering Vitae', '0.22', 'RAV', 'Common'),('Tattered Drake', '0.22', 'RAV', 'Common'),('Thundersong Trumpeter', '0.22', 'RAV', 'Common'),('Transluminant', '0.22', 'RAV', 'Common'),('Viashino Fangtail', '0.22', 'RAV', 'Common'),('War-Torch Goblin', '0.22', 'RAV', 'Common'),('Woodwraith Strangler', '0.22', 'RAV', 'Common'),('Zephyr Spirit', '0.22', 'RAV', 'Common'),('Golgari Rotwurm', '0.21', 'RAV', 'Common'),('Sell-Sword Brute', '0.21', 'RAV', 'Common'),('Surge of Zeal', '0.21', 'RAV', 'Common'),('Torpid Moloch', '0.21', 'RAV', 'Common'),('Viashino Slasher', '0.21', 'RAV', 'Common'),('Votary of the Conclave', '0.21', 'RAV', 'Common'),('Barbarian Riftcutter', '0.20', 'RAV', 'Common'),('Bramble Elemental', '0.20', 'RAV', 'Common'),('Convolute', '0.20', 'RAV', 'Common'),('Fiery Conclusion', '0.20', 'RAV', 'Common'),('Galvanic Arc', '0.20', 'RAV', 'Common'),('Goblin Spelunkers', '0.20', 'RAV', 'Common'),('Last Gasp', '0.20', 'RAV', 'Common'),('Nightguard Patrol', '0.20', 'RAV', 'Common'),('Ordruun Commando', '0.20', 'RAV', 'Common'),('Peel from Reality', '0.20', 'RAV', 'Common'),('Roofstalker Wight', '0.20', 'RAV', 'Common'),('Screeching Griffin', '0.20', 'RAV', 'Common'),('Seeds of Strength', '0.20', 'RAV', 'Common'),('Sewerdreg', '0.20', 'RAV', 'Common'),('Siege Wurm', '0.20', 'RAV', 'Common'),('Sparkmage Apprentice', '0.20', 'RAV', 'Common'),('Vedalken Entrancer', '0.20', 'RAV', 'Common');\""
      ]
     },
     "execution_count": 35,
     "metadata": {},
     "output_type": "execute_result"
    }
   ],
   "source": [
    "insert_query"
   ]
  },
  {
   "cell_type": "code",
   "execution_count": 36,
   "metadata": {
    "scrolled": true
   },
   "outputs": [
    {
     "data": {
      "text/plain": [
       "3130"
      ]
     },
     "execution_count": 36,
     "metadata": {},
     "output_type": "execute_result"
    }
   ],
   "source": [
    "cursor.execute(insert_query)"
   ]
  },
  {
   "cell_type": "code",
   "execution_count": 37,
   "metadata": {},
   "outputs": [],
   "source": [
    "conn.commit()"
   ]
  },
  {
   "cell_type": "code",
   "execution_count": 38,
   "metadata": {},
   "outputs": [],
   "source": [
    "conn.close()"
   ]
  },
  {
   "cell_type": "code",
   "execution_count": null,
   "metadata": {},
   "outputs": [],
   "source": []
  }
 ],
 "metadata": {
  "kernelspec": {
   "display_name": "Python 3",
   "language": "python",
   "name": "python3"
  },
  "language_info": {
   "codemirror_mode": {
    "name": "ipython",
    "version": 3
   },
   "file_extension": ".py",
   "mimetype": "text/x-python",
   "name": "python",
   "nbconvert_exporter": "python",
   "pygments_lexer": "ipython3",
   "version": "3.8.3"
  }
 },
 "nbformat": 4,
 "nbformat_minor": 4
}
