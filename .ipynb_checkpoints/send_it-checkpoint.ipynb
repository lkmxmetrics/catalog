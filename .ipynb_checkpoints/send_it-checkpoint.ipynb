{
 "cells": [
  {
   "cell_type": "code",
   "execution_count": 1,
   "metadata": {},
   "outputs": [],
   "source": [
    "import pandas as pd\n",
    "import pymysql"
   ]
  },
  {
   "cell_type": "code",
   "execution_count": null,
   "metadata": {},
   "outputs": [],
   "source": []
  },
  {
   "cell_type": "code",
   "execution_count": null,
   "metadata": {},
   "outputs": [],
   "source": []
  },
  {
   "cell_type": "code",
   "execution_count": 2,
   "metadata": {},
   "outputs": [],
   "source": [
    "raw_csv_data = pd.read_csv('domscrape.csv')"
   ]
  },
  {
   "cell_type": "code",
   "execution_count": 3,
   "metadata": {},
   "outputs": [],
   "source": [
    "send_it = raw_csv_data"
   ]
  },
  {
   "cell_type": "code",
   "execution_count": null,
   "metadata": {},
   "outputs": [],
   "source": []
  },
  {
   "cell_type": "code",
   "execution_count": 4,
   "metadata": {},
   "outputs": [],
   "source": [
    "conn = pymysql.connect(database = 'mtg', user = 'root', password = '')"
   ]
  },
  {
   "cell_type": "code",
   "execution_count": 5,
   "metadata": {},
   "outputs": [],
   "source": [
    "cursor = conn.cursor()"
   ]
  },
  {
   "cell_type": "code",
   "execution_count": 6,
   "metadata": {},
   "outputs": [
    {
     "data": {
      "text/plain": [
       "0"
      ]
     },
     "execution_count": 6,
     "metadata": {},
     "output_type": "execute_result"
    }
   ],
   "source": [
    "cursor.execute('SELECT * FROM inventory;')"
   ]
  },
  {
   "cell_type": "code",
   "execution_count": null,
   "metadata": {},
   "outputs": [],
   "source": []
  },
  {
   "cell_type": "code",
   "execution_count": 8,
   "metadata": {},
   "outputs": [
    {
     "data": {
      "text/plain": [
       "(557, 4)"
      ]
     },
     "execution_count": 8,
     "metadata": {},
     "output_type": "execute_result"
    }
   ],
   "source": [
    "send_it.shape"
   ]
  },
  {
   "cell_type": "code",
   "execution_count": 9,
   "metadata": {},
   "outputs": [
    {
     "data": {
      "text/plain": [
       "40.0"
      ]
     },
     "execution_count": 9,
     "metadata": {},
     "output_type": "execute_result"
    }
   ],
   "source": [
    "send_it[send_it.columns.values[3]][0]"
   ]
  },
  {
   "cell_type": "code",
   "execution_count": 10,
   "metadata": {},
   "outputs": [
    {
     "data": {
      "text/plain": [
       "0                      Mox Amber\n",
       "1      Teferi, Hero of Dominaria\n",
       "2               Helm of the Host\n",
       "3               Lyra Dawnbringer\n",
       "4            Karn, Scion of Urza\n",
       "                 ...            \n",
       "552         Urza's Ruinous Blast\n",
       "553                Verdant Force\n",
       "554                 Weatherlight\n",
       "555     Yawgmoth's Vile Offering\n",
       "556     Zahid, Djinn of the Lamp\n",
       "Name: Name, Length: 557, dtype: object"
      ]
     },
     "execution_count": 10,
     "metadata": {},
     "output_type": "execute_result"
    }
   ],
   "source": [
    "send_it['Name']"
   ]
  },
  {
   "cell_type": "code",
   "execution_count": 11,
   "metadata": {},
   "outputs": [],
   "source": [
    "insert_query = 'INSERT INTO mtg VALUES '"
   ]
  },
  {
   "cell_type": "code",
   "execution_count": 12,
   "metadata": {},
   "outputs": [],
   "source": [
    "for i in range(send_it.shape[0]):\n",
    "    insert_query += '('\n",
    "    \n",
    "    for j in range(send_it.shape[1]):\n",
    "        insert_query += str(send_it[send_it.columns.values[j]][i]) + ', '\n",
    "        \n",
    "    insert_query = insert_query[:-2] + '),'"
   ]
  },
  {
   "cell_type": "code",
   "execution_count": 13,
   "metadata": {},
   "outputs": [],
   "source": [
    "insert_query = insert_query[:-2] + ';'"
   ]
  },
  {
   "cell_type": "code",
   "execution_count": 14,
   "metadata": {},
   "outputs": [
    {
     "data": {
      "text/plain": [
       "\"INSERT INTO mtg VALUES (Mox Amber, DOM, Mythic, 40.0),(Teferi, Hero of Dominaria, DOM, Mythic, 25.0),(Helm of the Host, DOM, Rare, 18.52),(Lyra Dawnbringer, DOM, Mythic, 11.15),(Karn, Scion of Urza, DOM, Mythic, 8.4),(Hinterland Harbor, DOM, Rare, 6.86),(Muldrotha, the Gravetide, DOM, Mythic, 6.74),(Clifftop Retreat, DOM, Rare, 6.62),(Woodland Cemetery, DOM, Rare, 5.39),(Isolated Chapel, DOM, Rare, 5.3),(Shalai, Voice of Plenty, DOM, Rare, 5.0),(Cabal Stronghold, DOM, Rare, 4.95),(Gilded Lotus, DOM, Rare, 4.6),(Sulfur Falls, DOM, Rare, 4.45),(Phyrexian Scriptures, DOM, Mythic, 3.79),(Rat Colony, DOM, Common, 2.8),(Jhoira, Weatherlight Captain, DOM, Mythic, 2.75),(Tatyova, Benthic Druid, DOM, Uncommon, 2.75),(Tetsuko Umezawa, Fugitive, DOM, Uncommon, 2.47),(Karn's Temporal Sundering, DOM, Rare, 2.29),(Demonlord Belzenlok, DOM, Mythic, 1.74),(Primevals' Glorious Rebirth, DOM, Rare, 1.73),(Weatherlight, DOM, Mythic, 1.7),(Multani, Yavimaya's Avatar, DOM, Mythic, 1.64),(Damping Sphere, DOM, Uncommon, 1.58),(History of Benalia, DOM, Mythic, 1.57),(Steel Leaf Champion, DOM, Rare, 1.53),(Urza's Ruinous Blast, DOM, Rare, 1.5),(Squee, the Immortal, DOM, Rare, 1.37),(Naru Meha, Master Wizard, DOM, Mythic, 1.35),(Verix Bladewing, DOM, Mythic, 1.34),(Darigaaz Reincarnated, DOM, Mythic, 1.33),(Final Parting, DOM, Uncommon, 1.29),(Oath of Teferi, DOM, Rare, 1.29),(Blackblade Reforged, DOM, Rare, 1.15),(Marwyn, the Nurturer, DOM, Rare, 1.15),(Jaya Ballard, DOM, Mythic, 1.14),(Jodah, Archmage Eternal, DOM, Rare, 1.11),(Sylvan Awakening, DOM, Rare, 1.07),(Siege-Gang Commander, DOM, Rare, 1.02),(Thran Temporal Gateway, DOM, Rare, 1.0),(Josu Vess, Lich Knight, DOM, Rare, 0.98),(Kamahl's Druidic Vow, DOM, Rare, 0.98),(Merfolk Trickster, DOM, Uncommon, 0.97),(Song of Freyalise, DOM, Uncommon, 0.89),(Goblin Chainwhirler, DOM, Rare, 0.82),(Grand Warlord Radha, DOM, Rare, 0.8),(Benalish Marshal, DOM, Rare, 0.75),(Traxos, Scourge of Kroog, DOM, Rare, 0.69),(Teshar, Ancestor's Apostle, DOM, Rare, 0.64),(Forebear's Blade, DOM, Rare, 0.61),(Goblin Warchief, DOM, Uncommon, 0.6),(Tempest Djinn, DOM, Rare, 0.6),(Naban, Dean of Iteration, DOM, Rare, 0.55),(Yawgmoth's Vile Offering, DOM, Rare, 0.55),(The Antiquities War, DOM, Rare, 0.54),(Jhoira's Familiar, DOM, Uncommon, 0.51),(Aryel, Knight of Windgrace, DOM, Rare, 0.5),(Baird, Steward of Argive, DOM, Uncommon, 0.5),(Danitha Capashen, Paragon, DOM, Uncommon, 0.5),(Territorial Allosaurus, DOM, Rare, 0.5),(The Mirari Conjecture, DOM, Rare, 0.5),(Unwind, DOM, Common, 0.5),(Verdant Force, DOM, Rare, 0.5),(Jaya's Immolating Inferno, DOM, Rare, 0.49),(Lich's Mastery, DOM, Rare, 0.49),(Precognition Field, DOM, Rare, 0.49),(The Mending of Dominaria, DOM, Rare, 0.49),(Fall of the Thran, DOM, Rare, 0.48),(Grow from the Ashes, DOM, Common, 0.48),(The Eldest Reborn, DOM, Uncommon, 0.48),(Torgaar, Famine Incarnate, DOM, Rare, 0.48),(Dread Shade, DOM, Rare, 0.44),(Mishra's Self-Replicator, DOM, Rare, 0.44),(Rite of Belzenlok, DOM, Rare, 0.43),(Cast Down, DOM, Uncommon, 0.42),(Whisper, Blood Liturgist, DOM, Uncommon, 0.42),(Niambi, Faithful Healer, DOM, Rare, 0.41),(Broken Bond, DOM, Common, 0.4),(Chandra's Outburst, DOM, Rare, 0.4),(Gaea's Blessing, DOM, Uncommon, 0.4),(Wizard's Retort, DOM, Uncommon, 0.4),(Evra, Halcyon Witness, DOM, Rare, 0.39),(Two-Headed Giant, DOM, Rare, 0.39),(Curator's Ward, DOM, Uncommon, 0.38),(Kazarov, Sengir Pureblood, DOM, Rare, 0.35),(Sporecrown Thallid, DOM, Uncommon, 0.35),(Dauntless Bodyguard, DOM, Uncommon, 0.34),(The First Eruption, DOM, Rare, 0.34),(Zhalfirin Void, DOM, Uncommon, 0.34),(Daring Archaeologist, DOM, Rare, 0.33),(Haphazard Bombardment, DOM, Rare, 0.33),(Llanowar Elves, DOM, Common, 0.33),(Zahid, Djinn of the Lamp, DOM, Rare, 0.33),(Slimefoot, the Stowaway, DOM, Uncommon, 0.32),(Adeliz, the Cinder Wind, DOM, Uncommon, 0.3),(Arvad the Cursed, DOM, Uncommon, 0.3),(Fungal Plots, DOM, Uncommon, 0.3),(Knight of Malice, DOM, Uncommon, 0.3),(Seal Away, DOM, Uncommon, 0.3),(Shanna, Sisay's Legacy, DOM, Uncommon, 0.3),(Skirk Prospector, DOM, Common, 0.3),(Spore Swarm, DOM, Uncommon, 0.3),(Wizard's Lightning, DOM, Uncommon, 0.3),(Amaranthine Wall, DOM, Uncommon, 0.29),(Knight of Grace, DOM, Uncommon, 0.29),(Raff Capashen, Ship's Mage, DOM, Uncommon, 0.29),(Valduk, Keeper of the Flame, DOM, Uncommon, 0.29),(Llanowar Scout, DOM, Common, 0.27),(Settle the Score, DOM, Uncommon, 0.27),(The Flame of Keld, DOM, Uncommon, 0.27),(Artificer's Assistant, DOM, Common, 0.25),(Blink of an Eye, DOM, Common, 0.25),(Board the Weatherlight, DOM, Uncommon, 0.25),(Chainer's Torment, DOM, Uncommon, 0.25),(Champion of the Flame, DOM, Uncommon, 0.25),(Diligent Excavator, DOM, Uncommon, 0.25),(Elfhame Druid, DOM, Uncommon, 0.25),(Fight with Fire, DOM, Uncommon, 0.25),(Firefist Adept, DOM, Uncommon, 0.25),(Garna, the Bloodflame, DOM, Uncommon, 0.25),(Ghitu Lavarunner, DOM, Common, 0.25),(Goblin Barrage, DOM, Uncommon, 0.25),(Grunn, the Lonely King, DOM, Uncommon, 0.25),(Hallar, the Firefletcher, DOM, Uncommon, 0.25),(Howling Golem, DOM, Uncommon, 0.25),(Icy Manipulator, DOM, Uncommon, 0.25),(In Bolas's Clutches, DOM, Uncommon, 0.25),(Karplusan Hound, DOM, Uncommon, 0.25),(Kwende, Pride of Femeref, DOM, Uncommon, 0.25),(Lingering Phantom, DOM, Uncommon, 0.25),(Meandering River, DOM, Common, 0.25),(Memorial to Folly, DOM, Uncommon, 0.25),(Memorial to Genius, DOM, Uncommon, 0.25),(Memorial to Glory, DOM, Uncommon, 0.25),(Memorial to Unity, DOM, Uncommon, 0.25),(Memorial to War, DOM, Uncommon, 0.25),(Mountain262, DOM, Basic Land, 0.25),(Nature's Spiral, DOM, Uncommon, 0.25),(On Serra's Wings, DOM, Uncommon, 0.25),(Opt, DOM, Common, 0.25),(Orcish Vandal, DOM, Uncommon, 0.25),(Rona, Disciple of Gix, DOM, Uncommon, 0.25),(Sage of Lat-Nam, DOM, Uncommon, 0.25),(Saproling Migration, DOM, Common, 0.25),(Sentinel of the Pearl Trident, DOM, Uncommon, 0.25),(Serra Angel, DOM, Uncommon, 0.25),(Shield of the Realm, DOM, Uncommon, 0.25),(Skizzik, DOM, Uncommon, 0.25),(Slinn Voda, the Rising Deep, DOM, Uncommon, 0.25),(Sorcerer's Wand, DOM, Uncommon, 0.25),(Swamp258, DOM, Basic Land, 0.25),(Teferi's Sentinel, DOM, Uncommon, 0.25),(Thallid Soothsayer, DOM, Uncommon, 0.25),(Thorn Elemental, DOM, Uncommon, 0.25),(Tiana, Ship's Caretaker, DOM, Uncommon, 0.25),(Time of Ice, DOM, Uncommon, 0.25),(Triumph of Gerrard, DOM, Uncommon, 0.25),(Untamed Kavu, DOM, Uncommon, 0.25),(Urgoros, the Empty One, DOM, Uncommon, 0.25),(Urza's Tome, DOM, Uncommon, 0.25),(Warcry Phoenix, DOM, Uncommon, 0.25),(Warlord's Fury, DOM, Common, 0.25),(Weight of Memory, DOM, Uncommon, 0.25),(Wild Onslaught, DOM, Uncommon, 0.25),(Yargle, Glutton of Urborg, DOM, Uncommon, 0.25),(Forest269, DOM, Basic Land, 0.24),(Island254, DOM, Basic Land, 0.24),(Juggernaut, DOM, Uncommon, 0.24),(Powerstone Shard, DOM, Common, 0.24),(Sanctum Spirit, DOM, Uncommon, 0.24),(Temporal Machinations, DOM, Common, 0.24),(Voltaic Servant, DOM, Common, 0.24),(Adventurous Impulse, DOM, Common, 0.23),(Demonic Vigor, DOM, Common, 0.23),(Forest266, DOM, Basic Land, 0.23),(Island257, DOM, Basic Land, 0.23),(Syncopate, DOM, Common, 0.22),(Timber Gorge, DOM, Common, 0.22),(Yavimaya Sapherd, DOM, Common, 0.22),(Divest, DOM, Common, 0.21),(Fungal Infection, DOM, Common, 0.21),(Mountain265, DOM, Basic Land, 0.21),(Sparring Construct, DOM, Common, 0.21),(Swamp260, DOM, Basic Land, 0.21),(Academy Journeymage, DOM, Common, 0.2),(Adamant Will, DOM, Common, 0.2),(Ancient Animus, DOM, Common, 0.2),(Arbor Armament, DOM, Common, 0.2),(Arcane Flight, DOM, Common, 0.2),(Benalish Honor Guard, DOM, Common, 0.2),(Blessing of Belzenlok, DOM, Common, 0.2),(Bloodstone Goblin, DOM, Common, 0.2),(Caligo Skin-Witch, DOM, Common, 0.2),(Call the Cavalry, DOM, Common, 0.2),(Corrosive Ooze, DOM, Common, 0.2),(Dark Bargain, DOM, Common, 0.2),(Deep Freeze, DOM, Common, 0.2),(Forest267, DOM, Basic Land, 0.2),(Forest268, DOM, Basic Land, 0.2),(Ghitu Journeymage, DOM, Common, 0.2),(Gift of Growth, DOM, Common, 0.2),(Homarid Explorer, DOM, Common, 0.2),(Invoke the Divine, DOM, Common, 0.2),(Island255, DOM, Basic Land, 0.2),(Island256, DOM, Basic Land, 0.2),(Jousting Lance, DOM, Common, 0.2),(Mesa Unicorn, DOM, Common, 0.2),(Mountain263, DOM, Basic Land, 0.2),(Navigator's Compass, DOM, Common, 0.2),(Plains250, DOM, Basic Land, 0.2),(Plains251, DOM, Basic Land, 0.2),(Plains252, DOM, Basic Land, 0.2),(Plains253, DOM, Basic Land, 0.2),(Radiating Lightning, DOM, Common, 0.2),(Rampaging Cyclops, DOM, Common, 0.2),(Run Amok, DOM, Common, 0.2),(Shivan Fire, DOM, Common, 0.2),(Short Sword, DOM, Common, 0.2),(Skittering Surveyor, DOM, Common, 0.2),(Swamp259, DOM, Basic Land, 0.2),(Swamp261, DOM, Basic Land, 0.2),(Thallid Omnivore, DOM, Common, 0.2),(Tragic Poet, DOM, Common, 0.2),(Academy Drake, DOM, Common, 0.19),(Baloth Gorger, DOM, Common, 0.19),(Befuddle, DOM, Common, 0.19),(Blessed Light, DOM, Common, 0.19),(Bloodtallow Candle, DOM, Common, 0.19),(Cabal Paladin, DOM, Common, 0.19),(Charge, DOM, Common, 0.19),(Cloudreader Sphinx, DOM, Common, 0.19),(Cold-Water Snapper, DOM, Common, 0.19),(D'Avenant Trapper, DOM, Common, 0.19),(Deathbloom Thallid, DOM, Common, 0.19),(Divination, DOM, Common, 0.19),(Dub, DOM, Common, 0.19),(Feral Abomination, DOM, Common, 0.19),(Fervent Strike, DOM, Common, 0.19),(Frenzied Rage, DOM, Common, 0.19),(Ghitu Chronicler, DOM, Common, 0.19),(Gideon's Reproach, DOM, Common, 0.19),(Guardians of Koilos, DOM, Common, 0.19),(Healing Grace, DOM, Common, 0.19),(Keldon Overseer, DOM, Common, 0.19),(Keldon Raider, DOM, Common, 0.19),(Keldon Warcaller, DOM, Common, 0.19),(Krosan Druid, DOM, Common, 0.19),(Llanowar Envoy, DOM, Common, 0.19),(Mammoth Spider, DOM, Common, 0.19),(Mountain264, DOM, Basic Land, 0.19),(Pardic Wanderer, DOM, Common, 0.19),(Primordial Wurm, DOM, Common, 0.19),(Relic Runner, DOM, Common, 0.19),(Rescue, DOM, Common, 0.19),(Seismic Shift, DOM, Common, 0.19),(Sergeant-at-Arms, DOM, Common, 0.19),(Serra Disciple, DOM, Common, 0.19),(Tolarian Scholar, DOM, Common, 0.19),(Vicious Offering, DOM, Common, 0.19),(Vodalian Arcanist, DOM, Common, 0.19),(Aesthir Glider, DOM, Common, 0.18),(Aven Sentry, DOM, Common, 0.18),(Cabal Evangel, DOM, Common, 0.18),(Drudge Sentinel, DOM, Common, 0.18),(Eviscerate, DOM, Common, 0.18),(Excavation Elephant, DOM, Common, 0.18),(Fire Elemental, DOM, Common, 0.18),(Gaea's Protector, DOM, Common, 0.18),(Knight of New Benalia, DOM, Common, 0.18),(Pyromantic Pilgrim, DOM, Common, 0.18),(Soul Salvage, DOM, Common, 0.18),(Stronghold Confessor, DOM, Common, 0.18),(Windgrace Acolyte, DOM, Common, 0.18),(Fiery Intervention, DOM, Common, 0.17),(Pegasus Courser, DOM, Common, 0.17),(Pierce the Sky, DOM, Common, 0.17),(Teferi, Hero of Dominaria, DOM, Mythic, 3.82),(Mox Amber, DOM, Mythic, 2.43),(Karn, Scion of Urza, DOM, Mythic, 2.28),(Firesong and Sunspeaker, DOM, Rare, 1.36),(Chandra's Outburst, DOM, Rare, 0.79),(Pyromantic Pilgrim, DOM, Common, 0.76),(Karplusan Hound, DOM, Uncommon, 0.65),(Timber Gorge, DOM, Common, 0.49),(Cast Down, DOM, Uncommon, 0.37),(Teferi's Sentinel, DOM, Uncommon, 0.34),(Sulfur Falls, DOM, Rare, 0.32),(Meandering River, DOM, Common, 0.31),(Temporal Machinations, DOM, Common, 0.3),(Niambi, Faithful Healer, DOM, Rare, 0.26),(Chandra, Bold Pyromancer, DOM, Mythic, 0.25),(Teferi, Timebender, DOM, Mythic, 0.22),(Isolated Chapel, DOM, Rare, 0.17),(Damping Sphere, DOM, Uncommon, 0.15),(Goblin Chainwhirler, DOM, Rare, 0.15),(Lyra Dawnbringer, DOM, Mythic, 0.13),(History of Benalia, DOM, Mythic, 0.09),(Steel Leaf Champion, DOM, Rare, 0.07),(Aven Sentry, DOM, Common, 0.05),(Bloodstone Goblin, DOM, Common, 0.05),(Cloudreader Sphinx, DOM, Common, 0.05),(Dark Bargain, DOM, Common, 0.05),(Deathbloom Thallid, DOM, Common, 0.05),(Divination, DOM, Common, 0.05),(Drudge Sentinel, DOM, Common, 0.05),(Dub, DOM, Common, 0.05),(Excavation Elephant, DOM, Common, 0.05),(Feral Abomination, DOM, Common, 0.05),(Fervent Strike, DOM, Common, 0.05),(Firefist Adept, DOM, Uncommon, 0.05),(Gideon's Reproach, DOM, Common, 0.05),(Invoke the Divine, DOM, Common, 0.05),(Island255, DOM, Basic Land, 0.05),(Juggernaut, DOM, Uncommon, 0.05),(Knight of New Benalia, DOM, Common, 0.05),(Lingering Phantom, DOM, Uncommon, 0.05),(Multani, Yavimaya's Avatar, DOM, Mythic, 0.05),(Nature's Spiral, DOM, Uncommon, 0.05),(Orcish Vandal, DOM, Uncommon, 0.05),(Pegasus Courser, DOM, Common, 0.05),(Pierce the Sky, DOM, Common, 0.05),(Plains252, DOM, Basic Land, 0.05),(Primordial Wurm, DOM, Common, 0.05),(Rampaging Cyclops, DOM, Common, 0.05),(Relic Runner, DOM, Common, 0.05),(Sanctum Spirit, DOM, Uncommon, 0.05),(Sentinel of the Pearl Trident, DOM, Uncommon, 0.05),(Sergeant-at-Arms, DOM, Common, 0.05),(Stronghold Confessor, DOM, Common, 0.05),(Swamp259, DOM, Basic Land, 0.05),(Swamp261, DOM, Basic Land, 0.05),(Thallid Omnivore, DOM, Common, 0.05),(Thorn Elemental, DOM, Uncommon, 0.05),(Vodalian Arcanist, DOM, Common, 0.05),(Warcry Phoenix, DOM, Uncommon, 0.05),(Wild Onslaught, DOM, Uncommon, 0.05),(Windgrace Acolyte, DOM, Common, 0.05),(Academy Drake, DOM, Common, 0.04),(Academy Journeymage, DOM, Common, 0.04),(Befuddle, DOM, Common, 0.04),(Benalish Honor Guard, DOM, Common, 0.04),(Bloodtallow Candle, DOM, Common, 0.04),(Cabal Evangel, DOM, Common, 0.04),(Chainer's Torment, DOM, Uncommon, 0.04),(Charge, DOM, Common, 0.04),(Deep Freeze, DOM, Common, 0.04),(Demonic Vigor, DOM, Common, 0.04),(Eviscerate, DOM, Common, 0.04),(Forest267, DOM, Basic Land, 0.04),(Frenzied Rage, DOM, Common, 0.04),(Gaea's Protector, DOM, Common, 0.04),(Ghitu Journeymage, DOM, Common, 0.04),(Gift of Growth, DOM, Common, 0.04),(Guardians of Koilos, DOM, Common, 0.04),(Healing Grace, DOM, Common, 0.04),(Island254, DOM, Basic Land, 0.04),(Island256, DOM, Basic Land, 0.04),(Jousting Lance, DOM, Common, 0.04),(Mesa Unicorn, DOM, Common, 0.04),(Mountain262, DOM, Basic Land, 0.04),(Mountain263, DOM, Basic Land, 0.04),(Mountain265, DOM, Basic Land, 0.04),(Pardic Wanderer, DOM, Common, 0.04),(Plains250, DOM, Basic Land, 0.04),(Plains253, DOM, Basic Land, 0.04),(Radiating Lightning, DOM, Common, 0.04),(Rona, Disciple of Gix, DOM, Uncommon, 0.04),(Run Amok, DOM, Common, 0.04),(Shivan Fire, DOM, Common, 0.04),(Short Sword, DOM, Common, 0.04),(Soul Salvage, DOM, Common, 0.04),(Swamp260, DOM, Basic Land, 0.04),(Tolarian Scholar, DOM, Common, 0.04),(Urgoros, the Empty One, DOM, Uncommon, 0.04),(Yavimaya Sapherd, DOM, Common, 0.04),(Adamant Will, DOM, Common, 0.03),(Adeliz, the Cinder Wind, DOM, Uncommon, 0.03),(Adventurous Impulse, DOM, Common, 0.03),(Aesthir Glider, DOM, Common, 0.03),(Amaranthine Wall, DOM, Uncommon, 0.03),(Ancient Animus, DOM, Common, 0.03),(Arbor Armament, DOM, Common, 0.03),(Arcane Flight, DOM, Common, 0.03),(Artificer's Assistant, DOM, Common, 0.03),(Arvad the Cursed, DOM, Uncommon, 0.03),(Baird, Steward of Argive, DOM, Uncommon, 0.03),(Baloth Gorger, DOM, Common, 0.03),(Blackblade Reforged, DOM, Rare, 0.03),(Blessed Light, DOM, Common, 0.03),(Blessing of Belzenlok, DOM, Common, 0.03),(Blink of an Eye, DOM, Common, 0.03),(Board the Weatherlight, DOM, Uncommon, 0.03),(Broken Bond, DOM, Common, 0.03),(Cabal Paladin, DOM, Common, 0.03),(Caligo Skin-Witch, DOM, Common, 0.03),(Call the Cavalry, DOM, Common, 0.03),(Champion of the Flame, DOM, Uncommon, 0.03),(Clifftop Retreat, DOM, Rare, 0.03),(Cold-Water Snapper, DOM, Common, 0.03),(Corrosive Ooze, DOM, Common, 0.03),(Curator's Ward, DOM, Uncommon, 0.03),(D'Avenant Trapper, DOM, Common, 0.03),(Danitha Capashen, Paragon, DOM, Uncommon, 0.03),(Dauntless Bodyguard, DOM, Uncommon, 0.03),(Diligent Excavator, DOM, Uncommon, 0.03),(Divest, DOM, Common, 0.03),(Elfhame Druid, DOM, Uncommon, 0.03),(Fiery Intervention, DOM, Common, 0.03),(Fight with Fire, DOM, Uncommon, 0.03),(Final Parting, DOM, Uncommon, 0.03),(Fire Elemental, DOM, Common, 0.03),(Forest266, DOM, Basic Land, 0.03),(Forest268, DOM, Basic Land, 0.03),(Forest269, DOM, Basic Land, 0.03),(Fungal Infection, DOM, Common, 0.03),(Fungal Plots, DOM, Uncommon, 0.03),(Gaea's Blessing, DOM, Uncommon, 0.03),(Garna, the Bloodflame, DOM, Uncommon, 0.03),(Ghitu Chronicler, DOM, Common, 0.03),(Ghitu Lavarunner, DOM, Common, 0.03),(Goblin Barrage, DOM, Uncommon, 0.03),(Goblin Warchief, DOM, Uncommon, 0.03),(Grow from the Ashes, DOM, Common, 0.03),(Grunn, the Lonely King, DOM, Uncommon, 0.03),(Hallar, the Firefletcher, DOM, Uncommon, 0.03),(Hinterland Harbor, DOM, Rare, 0.03),(Homarid Explorer, DOM, Common, 0.03),(Howling Golem, DOM, Uncommon, 0.03),(Icy Manipulator, DOM, Uncommon, 0.03),(In Bolas's Clutches, DOM, Uncommon, 0.03),(Island257, DOM, Basic Land, 0.03),(Jhoira's Familiar, DOM, Uncommon, 0.03),(Jhoira, Weatherlight Captain, DOM, Mythic, 0.03),(Keldon Overseer, DOM, Common, 0.03),(Keldon Raider, DOM, Common, 0.03),(Keldon Warcaller, DOM, Common, 0.03),(Knight of Grace, DOM, Uncommon, 0.03),(Knight of Malice, DOM, Uncommon, 0.03),(Krosan Druid, DOM, Common, 0.03),(Kwende, Pride of Femeref, DOM, Uncommon, 0.03),(Llanowar Elves, DOM, Common, 0.03),(Llanowar Envoy, DOM, Common, 0.03),(Llanowar Scout, DOM, Common, 0.03),(Mammoth Spider, DOM, Common, 0.03),(Memorial to Folly, DOM, Uncommon, 0.03),(Memorial to Genius, DOM, Uncommon, 0.03),(Memorial to Glory, DOM, Uncommon, 0.03),(Memorial to Unity, DOM, Uncommon, 0.03),(Memorial to War, DOM, Uncommon, 0.03),(Merfolk Trickster, DOM, Uncommon, 0.03),(Mountain264, DOM, Basic Land, 0.03),(Muldrotha, the Gravetide, DOM, Mythic, 0.03),(Navigator's Compass, DOM, Common, 0.03),(On Serra's Wings, DOM, Uncommon, 0.03),(Opt, DOM, Common, 0.03),(Plains251, DOM, Basic Land, 0.03),(Powerstone Shard, DOM, Common, 0.03),(Raff Capashen, Ship's Mage, DOM, Uncommon, 0.03),(Rat Colony, DOM, Common, 0.03),(Rescue, DOM, Common, 0.03),(Sage of Lat-Nam, DOM, Uncommon, 0.03),(Saproling Migration, DOM, Common, 0.03),(Seal Away, DOM, Uncommon, 0.03),(Seismic Shift, DOM, Common, 0.03),(Serra Angel, DOM, Uncommon, 0.03),(Serra Disciple, DOM, Common, 0.03),(Settle the Score, DOM, Uncommon, 0.03),(Shanna, Sisay's Legacy, DOM, Uncommon, 0.03),(Shield of the Realm, DOM, Uncommon, 0.03),(Skirk Prospector, DOM, Common, 0.03),(Skittering Surveyor, DOM, Common, 0.03),(Skizzik, DOM, Uncommon, 0.03),(Slimefoot, the Stowaway, DOM, Uncommon, 0.03),(Slinn Voda, the Rising Deep, DOM, Uncommon, 0.03),(Song of Freyalise, DOM, Uncommon, 0.03),(Sorcerer's Wand, DOM, Uncommon, 0.03),(Sparring Construct, DOM, Common, 0.03),(Spore Swarm, DOM, Uncommon, 0.03),(Sporecrown Thallid, DOM, Uncommon, 0.03),(Swamp258, DOM, Basic Land, 0.03),(Syncopate, DOM, Common, 0.03),(Tatyova, Benthic Druid, DOM, Uncommon, 0.03),(Tetsuko Umezawa, Fugitive, DOM, Uncommon, 0.03),(Thallid Soothsayer, DOM, Uncommon, 0.03),(The Eldest Reborn, DOM, Uncommon, 0.03),(The Flame of Keld, DOM, Uncommon, 0.03),(Tiana, Ship's Caretaker, DOM, Uncommon, 0.03),(Time of Ice, DOM, Uncommon, 0.03),(Tragic Poet, DOM, Common, 0.03),(Triumph of Gerrard, DOM, Uncommon, 0.03),(Untamed Kavu, DOM, Uncommon, 0.03),(Unwind, DOM, Common, 0.03),(Urza's Tome, DOM, Uncommon, 0.03),(Valduk, Keeper of the Flame, DOM, Uncommon, 0.03),(Verix Bladewing, DOM, Mythic, 0.03),(Vicious Offering, DOM, Common, 0.03),(Voltaic Servant, DOM, Common, 0.03),(Warlord's Fury, DOM, Common, 0.03),(Weight of Memory, DOM, Uncommon, 0.03),(Whisper, Blood Liturgist, DOM, Uncommon, 0.03),(Wizard's Lightning, DOM, Uncommon, 0.03),(Wizard's Retort, DOM, Uncommon, 0.03),(Woodland Cemetery, DOM, Rare, 0.03),(Yargle, Glutton of Urborg, DOM, Uncommon, 0.03),(Zhalfirin Void, DOM, Uncommon, 0.03),(Aryel, Knight of Windgrace, DOM, Rare, 0.02),(Benalish Marshal, DOM, Rare, 0.02),(Cabal Stronghold, DOM, Rare, 0.02),(Darigaaz Reincarnated, DOM, Mythic, 0.02),(Daring Archaeologist, DOM, Rare, 0.02),(Demonlord Belzenlok, DOM, Mythic, 0.02),(Dread Shade, DOM, Rare, 0.02),(Evra, Halcyon Witness, DOM, Rare, 0.02),(Fall of the Thran, DOM, Rare, 0.02),(Forebear's Blade, DOM, Rare, 0.02),(Gilded Lotus, DOM, Rare, 0.02),(Grand Warlord Radha, DOM, Rare, 0.02),(Haphazard Bombardment, DOM, Rare, 0.02),(Helm of the Host, DOM, Rare, 0.02),(Jaya Ballard, DOM, Mythic, 0.02),(Jaya's Immolating Inferno, DOM, Rare, 0.02),(Jodah, Archmage Eternal, DOM, Rare, 0.02),(Josu Vess, Lich Knight, DOM, Rare, 0.02),(Kamahl's Druidic Vow, DOM, Rare, 0.02),(Karn's Temporal Sundering, DOM, Rare, 0.02),(Kazarov, Sengir Pureblood, DOM, Rare, 0.02),(Lich's Mastery, DOM, Rare, 0.02),(Marwyn, the Nurturer, DOM, Rare, 0.02),(Mishra's Self-Replicator, DOM, Rare, 0.02),(Naban, Dean of Iteration, DOM, Rare, 0.02),(Naru Meha, Master Wizard, DOM, Mythic, 0.02),(Oath of Teferi, DOM, Rare, 0.02),(Phyrexian Scriptures, DOM, Mythic, 0.02),(Precognition Field, DOM, Rare, 0.02),(Primevals' Glorious Rebirth, DOM, Rare, 0.02),(Rite of Belzenlok, DOM, Rare, 0.02),(Shalai, Voice of Plenty, DOM, Rare, 0.02),(Siege-Gang Commander, DOM, Rare, 0.02),(Squee, the Immortal, DOM, Rare, 0.02),(Sylvan Awakening, DOM, Rare, 0.02),(Tempest Djinn, DOM, Rare, 0.02),(Territorial Allosaurus, DOM, Rare, 0.02),(Teshar, Ancestor's Apostle, DOM, Rare, 0.02),(The Antiquities War, DOM, Rare, 0.02),(The First Eruption, DOM, Rare, 0.02),(The Mending of Dominaria, DOM, Rare, 0.02),(The Mirari Conjecture, DOM, Rare, 0.02),(Thran Temporal Gateway, DOM, Rare, 0.02),(Torgaar, Famine Incarnate, DOM, Rare, 0.02),(Traxos, Scourge of Kroog, DOM, Rare, 0.02),(Two-Headed Giant, DOM, Rare, 0.02),(Urza's Ruinous Blast, DOM, Rare, 0.02),(Verdant Force, DOM, Rare, 0.02),(Weatherlight, DOM, Mythic, 0.02),(Yawgmoth's Vile Offering, DOM, Rare, 0.02),(Zahid, Djinn of the Lamp, DOM, Rare, 0.02;\""
      ]
     },
     "execution_count": 14,
     "metadata": {},
     "output_type": "execute_result"
    }
   ],
   "source": [
    "insert_query"
   ]
  },
  {
   "cell_type": "code",
   "execution_count": 15,
   "metadata": {},
   "outputs": [
    {
     "ename": "ProgrammingError",
     "evalue": "(1064, \"You have an error in your SQL syntax; check the manual that corresponds to your MySQL server version for the right syntax to use near 'Amber, DOM, Mythic, 40.0),(Teferi, Hero of Dominaria, DOM, Mythic, 25.0),(Helm o' at line 1\")",
     "output_type": "error",
     "traceback": [
      "\u001b[0;31m---------------------------------------------------------------------------\u001b[0m",
      "\u001b[0;31mProgrammingError\u001b[0m                          Traceback (most recent call last)",
      "\u001b[0;32m<ipython-input-15-97f69ff93192>\u001b[0m in \u001b[0;36m<module>\u001b[0;34m\u001b[0m\n\u001b[0;32m----> 1\u001b[0;31m \u001b[0mcursor\u001b[0m\u001b[0;34m.\u001b[0m\u001b[0mexecute\u001b[0m\u001b[0;34m(\u001b[0m\u001b[0minsert_query\u001b[0m\u001b[0;34m)\u001b[0m\u001b[0;34m\u001b[0m\u001b[0;34m\u001b[0m\u001b[0m\n\u001b[0m",
      "\u001b[0;32m~/opt/anaconda3/lib/python3.8/site-packages/pymysql/cursors.py\u001b[0m in \u001b[0;36mexecute\u001b[0;34m(self, query, args)\u001b[0m\n\u001b[1;32m    146\u001b[0m         \u001b[0mquery\u001b[0m \u001b[0;34m=\u001b[0m \u001b[0mself\u001b[0m\u001b[0;34m.\u001b[0m\u001b[0mmogrify\u001b[0m\u001b[0;34m(\u001b[0m\u001b[0mquery\u001b[0m\u001b[0;34m,\u001b[0m \u001b[0margs\u001b[0m\u001b[0;34m)\u001b[0m\u001b[0;34m\u001b[0m\u001b[0;34m\u001b[0m\u001b[0m\n\u001b[1;32m    147\u001b[0m \u001b[0;34m\u001b[0m\u001b[0m\n\u001b[0;32m--> 148\u001b[0;31m         \u001b[0mresult\u001b[0m \u001b[0;34m=\u001b[0m \u001b[0mself\u001b[0m\u001b[0;34m.\u001b[0m\u001b[0m_query\u001b[0m\u001b[0;34m(\u001b[0m\u001b[0mquery\u001b[0m\u001b[0;34m)\u001b[0m\u001b[0;34m\u001b[0m\u001b[0;34m\u001b[0m\u001b[0m\n\u001b[0m\u001b[1;32m    149\u001b[0m         \u001b[0mself\u001b[0m\u001b[0;34m.\u001b[0m\u001b[0m_executed\u001b[0m \u001b[0;34m=\u001b[0m \u001b[0mquery\u001b[0m\u001b[0;34m\u001b[0m\u001b[0;34m\u001b[0m\u001b[0m\n\u001b[1;32m    150\u001b[0m         \u001b[0;32mreturn\u001b[0m \u001b[0mresult\u001b[0m\u001b[0;34m\u001b[0m\u001b[0;34m\u001b[0m\u001b[0m\n",
      "\u001b[0;32m~/opt/anaconda3/lib/python3.8/site-packages/pymysql/cursors.py\u001b[0m in \u001b[0;36m_query\u001b[0;34m(self, q)\u001b[0m\n\u001b[1;32m    308\u001b[0m         \u001b[0mself\u001b[0m\u001b[0;34m.\u001b[0m\u001b[0m_last_executed\u001b[0m \u001b[0;34m=\u001b[0m \u001b[0mq\u001b[0m\u001b[0;34m\u001b[0m\u001b[0;34m\u001b[0m\u001b[0m\n\u001b[1;32m    309\u001b[0m         \u001b[0mself\u001b[0m\u001b[0;34m.\u001b[0m\u001b[0m_clear_result\u001b[0m\u001b[0;34m(\u001b[0m\u001b[0;34m)\u001b[0m\u001b[0;34m\u001b[0m\u001b[0;34m\u001b[0m\u001b[0m\n\u001b[0;32m--> 310\u001b[0;31m         \u001b[0mconn\u001b[0m\u001b[0;34m.\u001b[0m\u001b[0mquery\u001b[0m\u001b[0;34m(\u001b[0m\u001b[0mq\u001b[0m\u001b[0;34m)\u001b[0m\u001b[0;34m\u001b[0m\u001b[0;34m\u001b[0m\u001b[0m\n\u001b[0m\u001b[1;32m    311\u001b[0m         \u001b[0mself\u001b[0m\u001b[0;34m.\u001b[0m\u001b[0m_do_get_result\u001b[0m\u001b[0;34m(\u001b[0m\u001b[0;34m)\u001b[0m\u001b[0;34m\u001b[0m\u001b[0;34m\u001b[0m\u001b[0m\n\u001b[1;32m    312\u001b[0m         \u001b[0;32mreturn\u001b[0m \u001b[0mself\u001b[0m\u001b[0;34m.\u001b[0m\u001b[0mrowcount\u001b[0m\u001b[0;34m\u001b[0m\u001b[0;34m\u001b[0m\u001b[0m\n",
      "\u001b[0;32m~/opt/anaconda3/lib/python3.8/site-packages/pymysql/connections.py\u001b[0m in \u001b[0;36mquery\u001b[0;34m(self, sql, unbuffered)\u001b[0m\n\u001b[1;32m    546\u001b[0m             \u001b[0msql\u001b[0m \u001b[0;34m=\u001b[0m \u001b[0msql\u001b[0m\u001b[0;34m.\u001b[0m\u001b[0mencode\u001b[0m\u001b[0;34m(\u001b[0m\u001b[0mself\u001b[0m\u001b[0;34m.\u001b[0m\u001b[0mencoding\u001b[0m\u001b[0;34m,\u001b[0m \u001b[0;34m\"surrogateescape\"\u001b[0m\u001b[0;34m)\u001b[0m\u001b[0;34m\u001b[0m\u001b[0;34m\u001b[0m\u001b[0m\n\u001b[1;32m    547\u001b[0m         \u001b[0mself\u001b[0m\u001b[0;34m.\u001b[0m\u001b[0m_execute_command\u001b[0m\u001b[0;34m(\u001b[0m\u001b[0mCOMMAND\u001b[0m\u001b[0;34m.\u001b[0m\u001b[0mCOM_QUERY\u001b[0m\u001b[0;34m,\u001b[0m \u001b[0msql\u001b[0m\u001b[0;34m)\u001b[0m\u001b[0;34m\u001b[0m\u001b[0;34m\u001b[0m\u001b[0m\n\u001b[0;32m--> 548\u001b[0;31m         \u001b[0mself\u001b[0m\u001b[0;34m.\u001b[0m\u001b[0m_affected_rows\u001b[0m \u001b[0;34m=\u001b[0m \u001b[0mself\u001b[0m\u001b[0;34m.\u001b[0m\u001b[0m_read_query_result\u001b[0m\u001b[0;34m(\u001b[0m\u001b[0munbuffered\u001b[0m\u001b[0;34m=\u001b[0m\u001b[0munbuffered\u001b[0m\u001b[0;34m)\u001b[0m\u001b[0;34m\u001b[0m\u001b[0;34m\u001b[0m\u001b[0m\n\u001b[0m\u001b[1;32m    549\u001b[0m         \u001b[0;32mreturn\u001b[0m \u001b[0mself\u001b[0m\u001b[0;34m.\u001b[0m\u001b[0m_affected_rows\u001b[0m\u001b[0;34m\u001b[0m\u001b[0;34m\u001b[0m\u001b[0m\n\u001b[1;32m    550\u001b[0m \u001b[0;34m\u001b[0m\u001b[0m\n",
      "\u001b[0;32m~/opt/anaconda3/lib/python3.8/site-packages/pymysql/connections.py\u001b[0m in \u001b[0;36m_read_query_result\u001b[0;34m(self, unbuffered)\u001b[0m\n\u001b[1;32m    773\u001b[0m         \u001b[0;32melse\u001b[0m\u001b[0;34m:\u001b[0m\u001b[0;34m\u001b[0m\u001b[0;34m\u001b[0m\u001b[0m\n\u001b[1;32m    774\u001b[0m             \u001b[0mresult\u001b[0m \u001b[0;34m=\u001b[0m \u001b[0mMySQLResult\u001b[0m\u001b[0;34m(\u001b[0m\u001b[0mself\u001b[0m\u001b[0;34m)\u001b[0m\u001b[0;34m\u001b[0m\u001b[0;34m\u001b[0m\u001b[0m\n\u001b[0;32m--> 775\u001b[0;31m             \u001b[0mresult\u001b[0m\u001b[0;34m.\u001b[0m\u001b[0mread\u001b[0m\u001b[0;34m(\u001b[0m\u001b[0;34m)\u001b[0m\u001b[0;34m\u001b[0m\u001b[0;34m\u001b[0m\u001b[0m\n\u001b[0m\u001b[1;32m    776\u001b[0m         \u001b[0mself\u001b[0m\u001b[0;34m.\u001b[0m\u001b[0m_result\u001b[0m \u001b[0;34m=\u001b[0m \u001b[0mresult\u001b[0m\u001b[0;34m\u001b[0m\u001b[0;34m\u001b[0m\u001b[0m\n\u001b[1;32m    777\u001b[0m         \u001b[0;32mif\u001b[0m \u001b[0mresult\u001b[0m\u001b[0;34m.\u001b[0m\u001b[0mserver_status\u001b[0m \u001b[0;32mis\u001b[0m \u001b[0;32mnot\u001b[0m \u001b[0;32mNone\u001b[0m\u001b[0;34m:\u001b[0m\u001b[0;34m\u001b[0m\u001b[0;34m\u001b[0m\u001b[0m\n",
      "\u001b[0;32m~/opt/anaconda3/lib/python3.8/site-packages/pymysql/connections.py\u001b[0m in \u001b[0;36mread\u001b[0;34m(self)\u001b[0m\n\u001b[1;32m   1154\u001b[0m     \u001b[0;32mdef\u001b[0m \u001b[0mread\u001b[0m\u001b[0;34m(\u001b[0m\u001b[0mself\u001b[0m\u001b[0;34m)\u001b[0m\u001b[0;34m:\u001b[0m\u001b[0;34m\u001b[0m\u001b[0;34m\u001b[0m\u001b[0m\n\u001b[1;32m   1155\u001b[0m         \u001b[0;32mtry\u001b[0m\u001b[0;34m:\u001b[0m\u001b[0;34m\u001b[0m\u001b[0;34m\u001b[0m\u001b[0m\n\u001b[0;32m-> 1156\u001b[0;31m             \u001b[0mfirst_packet\u001b[0m \u001b[0;34m=\u001b[0m \u001b[0mself\u001b[0m\u001b[0;34m.\u001b[0m\u001b[0mconnection\u001b[0m\u001b[0;34m.\u001b[0m\u001b[0m_read_packet\u001b[0m\u001b[0;34m(\u001b[0m\u001b[0;34m)\u001b[0m\u001b[0;34m\u001b[0m\u001b[0;34m\u001b[0m\u001b[0m\n\u001b[0m\u001b[1;32m   1157\u001b[0m \u001b[0;34m\u001b[0m\u001b[0m\n\u001b[1;32m   1158\u001b[0m             \u001b[0;32mif\u001b[0m \u001b[0mfirst_packet\u001b[0m\u001b[0;34m.\u001b[0m\u001b[0mis_ok_packet\u001b[0m\u001b[0;34m(\u001b[0m\u001b[0;34m)\u001b[0m\u001b[0;34m:\u001b[0m\u001b[0;34m\u001b[0m\u001b[0;34m\u001b[0m\u001b[0m\n",
      "\u001b[0;32m~/opt/anaconda3/lib/python3.8/site-packages/pymysql/connections.py\u001b[0m in \u001b[0;36m_read_packet\u001b[0;34m(self, packet_type)\u001b[0m\n\u001b[1;32m    723\u001b[0m             \u001b[0;32mif\u001b[0m \u001b[0mself\u001b[0m\u001b[0;34m.\u001b[0m\u001b[0m_result\u001b[0m \u001b[0;32mis\u001b[0m \u001b[0;32mnot\u001b[0m \u001b[0;32mNone\u001b[0m \u001b[0;32mand\u001b[0m \u001b[0mself\u001b[0m\u001b[0;34m.\u001b[0m\u001b[0m_result\u001b[0m\u001b[0;34m.\u001b[0m\u001b[0munbuffered_active\u001b[0m \u001b[0;32mis\u001b[0m \u001b[0;32mTrue\u001b[0m\u001b[0;34m:\u001b[0m\u001b[0;34m\u001b[0m\u001b[0;34m\u001b[0m\u001b[0m\n\u001b[1;32m    724\u001b[0m                 \u001b[0mself\u001b[0m\u001b[0;34m.\u001b[0m\u001b[0m_result\u001b[0m\u001b[0;34m.\u001b[0m\u001b[0munbuffered_active\u001b[0m \u001b[0;34m=\u001b[0m \u001b[0;32mFalse\u001b[0m\u001b[0;34m\u001b[0m\u001b[0;34m\u001b[0m\u001b[0m\n\u001b[0;32m--> 725\u001b[0;31m             \u001b[0mpacket\u001b[0m\u001b[0;34m.\u001b[0m\u001b[0mraise_for_error\u001b[0m\u001b[0;34m(\u001b[0m\u001b[0;34m)\u001b[0m\u001b[0;34m\u001b[0m\u001b[0;34m\u001b[0m\u001b[0m\n\u001b[0m\u001b[1;32m    726\u001b[0m         \u001b[0;32mreturn\u001b[0m \u001b[0mpacket\u001b[0m\u001b[0;34m\u001b[0m\u001b[0;34m\u001b[0m\u001b[0m\n\u001b[1;32m    727\u001b[0m \u001b[0;34m\u001b[0m\u001b[0m\n",
      "\u001b[0;32m~/opt/anaconda3/lib/python3.8/site-packages/pymysql/protocol.py\u001b[0m in \u001b[0;36mraise_for_error\u001b[0;34m(self)\u001b[0m\n\u001b[1;32m    219\u001b[0m         \u001b[0;32mif\u001b[0m \u001b[0mDEBUG\u001b[0m\u001b[0;34m:\u001b[0m\u001b[0;34m\u001b[0m\u001b[0;34m\u001b[0m\u001b[0m\n\u001b[1;32m    220\u001b[0m             \u001b[0mprint\u001b[0m\u001b[0;34m(\u001b[0m\u001b[0;34m\"errno =\"\u001b[0m\u001b[0;34m,\u001b[0m \u001b[0merrno\u001b[0m\u001b[0;34m)\u001b[0m\u001b[0;34m\u001b[0m\u001b[0;34m\u001b[0m\u001b[0m\n\u001b[0;32m--> 221\u001b[0;31m         \u001b[0merr\u001b[0m\u001b[0;34m.\u001b[0m\u001b[0mraise_mysql_exception\u001b[0m\u001b[0;34m(\u001b[0m\u001b[0mself\u001b[0m\u001b[0;34m.\u001b[0m\u001b[0m_data\u001b[0m\u001b[0;34m)\u001b[0m\u001b[0;34m\u001b[0m\u001b[0;34m\u001b[0m\u001b[0m\n\u001b[0m\u001b[1;32m    222\u001b[0m \u001b[0;34m\u001b[0m\u001b[0m\n\u001b[1;32m    223\u001b[0m     \u001b[0;32mdef\u001b[0m \u001b[0mdump\u001b[0m\u001b[0;34m(\u001b[0m\u001b[0mself\u001b[0m\u001b[0;34m)\u001b[0m\u001b[0;34m:\u001b[0m\u001b[0;34m\u001b[0m\u001b[0;34m\u001b[0m\u001b[0m\n",
      "\u001b[0;32m~/opt/anaconda3/lib/python3.8/site-packages/pymysql/err.py\u001b[0m in \u001b[0;36mraise_mysql_exception\u001b[0;34m(data)\u001b[0m\n\u001b[1;32m    141\u001b[0m     \u001b[0;32mif\u001b[0m \u001b[0merrorclass\u001b[0m \u001b[0;32mis\u001b[0m \u001b[0;32mNone\u001b[0m\u001b[0;34m:\u001b[0m\u001b[0;34m\u001b[0m\u001b[0;34m\u001b[0m\u001b[0m\n\u001b[1;32m    142\u001b[0m         \u001b[0merrorclass\u001b[0m \u001b[0;34m=\u001b[0m \u001b[0mInternalError\u001b[0m \u001b[0;32mif\u001b[0m \u001b[0merrno\u001b[0m \u001b[0;34m<\u001b[0m \u001b[0;36m1000\u001b[0m \u001b[0;32melse\u001b[0m \u001b[0mOperationalError\u001b[0m\u001b[0;34m\u001b[0m\u001b[0;34m\u001b[0m\u001b[0m\n\u001b[0;32m--> 143\u001b[0;31m     \u001b[0;32mraise\u001b[0m \u001b[0merrorclass\u001b[0m\u001b[0;34m(\u001b[0m\u001b[0merrno\u001b[0m\u001b[0;34m,\u001b[0m \u001b[0merrval\u001b[0m\u001b[0;34m)\u001b[0m\u001b[0;34m\u001b[0m\u001b[0;34m\u001b[0m\u001b[0m\n\u001b[0m",
      "\u001b[0;31mProgrammingError\u001b[0m: (1064, \"You have an error in your SQL syntax; check the manual that corresponds to your MySQL server version for the right syntax to use near 'Amber, DOM, Mythic, 40.0),(Teferi, Hero of Dominaria, DOM, Mythic, 25.0),(Helm o' at line 1\")"
     ]
    }
   ],
   "source": [
    "cursor.execute(insert_query)"
   ]
  },
  {
   "cell_type": "code",
   "execution_count": null,
   "metadata": {},
   "outputs": [],
   "source": []
  }
 ],
 "metadata": {
  "kernelspec": {
   "display_name": "Python 3",
   "language": "python",
   "name": "python3"
  },
  "language_info": {
   "codemirror_mode": {
    "name": "ipython",
    "version": 3
   },
   "file_extension": ".py",
   "mimetype": "text/x-python",
   "name": "python",
   "nbconvert_exporter": "python",
   "pygments_lexer": "ipython3",
   "version": "3.8.3"
  }
 },
 "nbformat": 4,
 "nbformat_minor": 4
}
