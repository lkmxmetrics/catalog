{
 "cells": [
  {
   "cell_type": "code",
   "execution_count": 1,
   "metadata": {},
   "outputs": [],
   "source": [
    "import pandas as pd\n",
    "import pymysql"
   ]
  },
  {
   "cell_type": "code",
   "execution_count": 6,
   "metadata": {},
   "outputs": [],
   "source": [
    "raw_csv_data = pd.read_csv('locustgod.csv')"
   ]
  },
  {
   "cell_type": "code",
   "execution_count": 7,
   "metadata": {},
   "outputs": [
    {
     "data": {
      "text/html": [
       "<div>\n",
       "<style scoped>\n",
       "    .dataframe tbody tr th:only-of-type {\n",
       "        vertical-align: middle;\n",
       "    }\n",
       "\n",
       "    .dataframe tbody tr th {\n",
       "        vertical-align: top;\n",
       "    }\n",
       "\n",
       "    .dataframe thead th {\n",
       "        text-align: right;\n",
       "    }\n",
       "</style>\n",
       "<table border=\"1\" class=\"dataframe\">\n",
       "  <thead>\n",
       "    <tr style=\"text-align: right;\">\n",
       "      <th></th>\n",
       "      <th>1</th>\n",
       "      <th>Bident of Thassa</th>\n",
       "      <th>3.99</th>\n",
       "    </tr>\n",
       "  </thead>\n",
       "  <tbody>\n",
       "    <tr>\n",
       "      <th>0</th>\n",
       "      <td>1</td>\n",
       "      <td>Blue Sun's Zenith</td>\n",
       "      <td>2.49</td>\n",
       "    </tr>\n",
       "    <tr>\n",
       "      <th>1</th>\n",
       "      <td>1</td>\n",
       "      <td>Brainstorm</td>\n",
       "      <td>0.79</td>\n",
       "    </tr>\n",
       "    <tr>\n",
       "      <th>2</th>\n",
       "      <td>1</td>\n",
       "      <td>Outpost Siege</td>\n",
       "      <td>0.35</td>\n",
       "    </tr>\n",
       "    <tr>\n",
       "      <th>3</th>\n",
       "      <td>1</td>\n",
       "      <td>Grixis Panorama</td>\n",
       "      <td>0.99</td>\n",
       "    </tr>\n",
       "    <tr>\n",
       "      <th>4</th>\n",
       "      <td>1</td>\n",
       "      <td>Thunderstaff</td>\n",
       "      <td>0.25</td>\n",
       "    </tr>\n",
       "    <tr>\n",
       "      <th>...</th>\n",
       "      <td>...</td>\n",
       "      <td>...</td>\n",
       "      <td>...</td>\n",
       "    </tr>\n",
       "    <tr>\n",
       "      <th>77</th>\n",
       "      <td>1</td>\n",
       "      <td>Elixir of Immortality</td>\n",
       "      <td>0.79</td>\n",
       "    </tr>\n",
       "    <tr>\n",
       "      <th>78</th>\n",
       "      <td>1</td>\n",
       "      <td>Izzet Locket</td>\n",
       "      <td>0.25</td>\n",
       "    </tr>\n",
       "    <tr>\n",
       "      <th>79</th>\n",
       "      <td>1</td>\n",
       "      <td>Everflowing Chalice</td>\n",
       "      <td>1.29</td>\n",
       "    </tr>\n",
       "    <tr>\n",
       "      <th>80</th>\n",
       "      <td>1</td>\n",
       "      <td>Blustersquall</td>\n",
       "      <td>0.25</td>\n",
       "    </tr>\n",
       "    <tr>\n",
       "      <th>81</th>\n",
       "      <td>1</td>\n",
       "      <td>Star Compass</td>\n",
       "      <td>0.99</td>\n",
       "    </tr>\n",
       "  </tbody>\n",
       "</table>\n",
       "<p>82 rows × 3 columns</p>\n",
       "</div>"
      ],
      "text/plain": [
       "    1       Bident of Thassa  3.99\n",
       "0   1      Blue Sun's Zenith  2.49\n",
       "1   1             Brainstorm  0.79\n",
       "2   1          Outpost Siege  0.35\n",
       "3   1        Grixis Panorama  0.99\n",
       "4   1           Thunderstaff  0.25\n",
       ".. ..                    ...   ...\n",
       "77  1  Elixir of Immortality  0.79\n",
       "78  1           Izzet Locket  0.25\n",
       "79  1    Everflowing Chalice  1.29\n",
       "80  1          Blustersquall  0.25\n",
       "81  1           Star Compass  0.99\n",
       "\n",
       "[82 rows x 3 columns]"
      ]
     },
     "execution_count": 7,
     "metadata": {},
     "output_type": "execute_result"
    }
   ],
   "source": [
    "df = raw_csv_data.copy()\n",
    "df"
   ]
  },
  {
   "cell_type": "code",
   "execution_count": 8,
   "metadata": {},
   "outputs": [
    {
     "data": {
      "text/html": [
       "<div>\n",
       "<style scoped>\n",
       "    .dataframe tbody tr th:only-of-type {\n",
       "        vertical-align: middle;\n",
       "    }\n",
       "\n",
       "    .dataframe tbody tr th {\n",
       "        vertical-align: top;\n",
       "    }\n",
       "\n",
       "    .dataframe thead th {\n",
       "        text-align: right;\n",
       "    }\n",
       "</style>\n",
       "<table border=\"1\" class=\"dataframe\">\n",
       "  <thead>\n",
       "    <tr style=\"text-align: right;\">\n",
       "      <th></th>\n",
       "      <th>Owned</th>\n",
       "      <th>Name</th>\n",
       "      <th>Value</th>\n",
       "    </tr>\n",
       "  </thead>\n",
       "  <tbody>\n",
       "    <tr>\n",
       "      <th>0</th>\n",
       "      <td>1</td>\n",
       "      <td>Blue Suns Zenith</td>\n",
       "      <td>2.49</td>\n",
       "    </tr>\n",
       "    <tr>\n",
       "      <th>1</th>\n",
       "      <td>1</td>\n",
       "      <td>Brainstorm</td>\n",
       "      <td>0.79</td>\n",
       "    </tr>\n",
       "    <tr>\n",
       "      <th>2</th>\n",
       "      <td>1</td>\n",
       "      <td>Outpost Siege</td>\n",
       "      <td>0.35</td>\n",
       "    </tr>\n",
       "    <tr>\n",
       "      <th>3</th>\n",
       "      <td>1</td>\n",
       "      <td>Grixis Panorama</td>\n",
       "      <td>0.99</td>\n",
       "    </tr>\n",
       "    <tr>\n",
       "      <th>4</th>\n",
       "      <td>1</td>\n",
       "      <td>Thunderstaff</td>\n",
       "      <td>0.25</td>\n",
       "    </tr>\n",
       "    <tr>\n",
       "      <th>...</th>\n",
       "      <td>...</td>\n",
       "      <td>...</td>\n",
       "      <td>...</td>\n",
       "    </tr>\n",
       "    <tr>\n",
       "      <th>77</th>\n",
       "      <td>1</td>\n",
       "      <td>Elixir of Immortality</td>\n",
       "      <td>0.79</td>\n",
       "    </tr>\n",
       "    <tr>\n",
       "      <th>78</th>\n",
       "      <td>1</td>\n",
       "      <td>Izzet Locket</td>\n",
       "      <td>0.25</td>\n",
       "    </tr>\n",
       "    <tr>\n",
       "      <th>79</th>\n",
       "      <td>1</td>\n",
       "      <td>Everflowing Chalice</td>\n",
       "      <td>1.29</td>\n",
       "    </tr>\n",
       "    <tr>\n",
       "      <th>80</th>\n",
       "      <td>1</td>\n",
       "      <td>Blustersquall</td>\n",
       "      <td>0.25</td>\n",
       "    </tr>\n",
       "    <tr>\n",
       "      <th>81</th>\n",
       "      <td>1</td>\n",
       "      <td>Star Compass</td>\n",
       "      <td>0.99</td>\n",
       "    </tr>\n",
       "  </tbody>\n",
       "</table>\n",
       "<p>82 rows × 3 columns</p>\n",
       "</div>"
      ],
      "text/plain": [
       "    Owned                   Name  Value\n",
       "0       1       Blue Suns Zenith   2.49\n",
       "1       1             Brainstorm   0.79\n",
       "2       1          Outpost Siege   0.35\n",
       "3       1        Grixis Panorama   0.99\n",
       "4       1           Thunderstaff   0.25\n",
       "..    ...                    ...    ...\n",
       "77      1  Elixir of Immortality   0.79\n",
       "78      1           Izzet Locket   0.25\n",
       "79      1    Everflowing Chalice   1.29\n",
       "80      1          Blustersquall   0.25\n",
       "81      1           Star Compass   0.99\n",
       "\n",
       "[82 rows x 3 columns]"
      ]
     },
     "execution_count": 8,
     "metadata": {},
     "output_type": "execute_result"
    }
   ],
   "source": [
    "\n",
    "#df = df.drop(['Unnamed: 6', 'Unnamed: 7'], axis=1)\n",
    "column_names = ['Owned','Name','Value'] #'Set','Rarity','Total']\n",
    "df.columns = column_names\n",
    "df.Name = df.Name.str.replace(\"[!@#$%^&*,/'-]\", '')\n",
    "#df.Value = df.Value.str.replace(\"[!@#$%^&*,/'-]\", '')\n",
    "#df.Total = df.Total.str.replace(\"[!@#$%^&*,/'-]\", '')\n",
    "df = df.drop_duplicates(subset=['Name'], keep='first') #,'Set'\n",
    "df = df.dropna()\n",
    "df = df.reset_index(drop=True)\n",
    "df.Owned = df.Owned.astype(int)\n",
    "df.Value = df.Value.astype(float)\n",
    "#df.Total = df.Total.astype(float)\n",
    "df\n"
   ]
  },
  {
   "cell_type": "code",
   "execution_count": 9,
   "metadata": {},
   "outputs": [],
   "source": [
    "send_it = df"
   ]
  },
  {
   "cell_type": "code",
   "execution_count": 10,
   "metadata": {},
   "outputs": [
    {
     "data": {
      "text/html": [
       "<div>\n",
       "<style scoped>\n",
       "    .dataframe tbody tr th:only-of-type {\n",
       "        vertical-align: middle;\n",
       "    }\n",
       "\n",
       "    .dataframe tbody tr th {\n",
       "        vertical-align: top;\n",
       "    }\n",
       "\n",
       "    .dataframe thead th {\n",
       "        text-align: right;\n",
       "    }\n",
       "</style>\n",
       "<table border=\"1\" class=\"dataframe\">\n",
       "  <thead>\n",
       "    <tr style=\"text-align: right;\">\n",
       "      <th></th>\n",
       "      <th>Owned</th>\n",
       "      <th>Name</th>\n",
       "      <th>Value</th>\n",
       "    </tr>\n",
       "  </thead>\n",
       "  <tbody>\n",
       "    <tr>\n",
       "      <th>0</th>\n",
       "      <td>1</td>\n",
       "      <td>Blue Suns Zenith</td>\n",
       "      <td>2.49</td>\n",
       "    </tr>\n",
       "    <tr>\n",
       "      <th>1</th>\n",
       "      <td>1</td>\n",
       "      <td>Brainstorm</td>\n",
       "      <td>0.79</td>\n",
       "    </tr>\n",
       "    <tr>\n",
       "      <th>2</th>\n",
       "      <td>1</td>\n",
       "      <td>Outpost Siege</td>\n",
       "      <td>0.35</td>\n",
       "    </tr>\n",
       "    <tr>\n",
       "      <th>3</th>\n",
       "      <td>1</td>\n",
       "      <td>Grixis Panorama</td>\n",
       "      <td>0.99</td>\n",
       "    </tr>\n",
       "    <tr>\n",
       "      <th>4</th>\n",
       "      <td>1</td>\n",
       "      <td>Thunderstaff</td>\n",
       "      <td>0.25</td>\n",
       "    </tr>\n",
       "    <tr>\n",
       "      <th>...</th>\n",
       "      <td>...</td>\n",
       "      <td>...</td>\n",
       "      <td>...</td>\n",
       "    </tr>\n",
       "    <tr>\n",
       "      <th>77</th>\n",
       "      <td>1</td>\n",
       "      <td>Elixir of Immortality</td>\n",
       "      <td>0.79</td>\n",
       "    </tr>\n",
       "    <tr>\n",
       "      <th>78</th>\n",
       "      <td>1</td>\n",
       "      <td>Izzet Locket</td>\n",
       "      <td>0.25</td>\n",
       "    </tr>\n",
       "    <tr>\n",
       "      <th>79</th>\n",
       "      <td>1</td>\n",
       "      <td>Everflowing Chalice</td>\n",
       "      <td>1.29</td>\n",
       "    </tr>\n",
       "    <tr>\n",
       "      <th>80</th>\n",
       "      <td>1</td>\n",
       "      <td>Blustersquall</td>\n",
       "      <td>0.25</td>\n",
       "    </tr>\n",
       "    <tr>\n",
       "      <th>81</th>\n",
       "      <td>1</td>\n",
       "      <td>Star Compass</td>\n",
       "      <td>0.99</td>\n",
       "    </tr>\n",
       "  </tbody>\n",
       "</table>\n",
       "<p>82 rows × 3 columns</p>\n",
       "</div>"
      ],
      "text/plain": [
       "    Owned                   Name  Value\n",
       "0       1       Blue Suns Zenith   2.49\n",
       "1       1             Brainstorm   0.79\n",
       "2       1          Outpost Siege   0.35\n",
       "3       1        Grixis Panorama   0.99\n",
       "4       1           Thunderstaff   0.25\n",
       "..    ...                    ...    ...\n",
       "77      1  Elixir of Immortality   0.79\n",
       "78      1           Izzet Locket   0.25\n",
       "79      1    Everflowing Chalice   1.29\n",
       "80      1          Blustersquall   0.25\n",
       "81      1           Star Compass   0.99\n",
       "\n",
       "[82 rows x 3 columns]"
      ]
     },
     "execution_count": 10,
     "metadata": {},
     "output_type": "execute_result"
    }
   ],
   "source": [
    "send_it"
   ]
  },
  {
   "cell_type": "code",
   "execution_count": 11,
   "metadata": {},
   "outputs": [
    {
     "data": {
      "text/plain": [
       "(82, 3)"
      ]
     },
     "execution_count": 11,
     "metadata": {},
     "output_type": "execute_result"
    }
   ],
   "source": [
    "send_it.shape"
   ]
  },
  {
   "cell_type": "code",
   "execution_count": 12,
   "metadata": {},
   "outputs": [
    {
     "data": {
      "text/plain": [
       "\"INSERT INTO locustgod VALUES('1', 'Blue Suns Zenith', '2.49'),('1', 'Brainstorm', '0.79'),('1', 'Outpost Siege', '0.35'),('1', 'Grixis Panorama', '0.99'),('1', 'Thunderstaff', '0.25'),('1', 'Pull from Tomorrow', '3.49'),('1', 'Commit  Memory', '2.29'),('1', 'Whirlpool Warrior', '3.49'),('1', 'Reins of Power', '2.29'),('1', 'Breath of Fury', '3.99'),('1', 'Fateful Showdown', '0.29'),('1', 'Collective Defiance', '0.99'),('1', 'Diminishing Returns', '0.35'),('1', 'Forgotten Creation', '0.35'),('1', 'Fevered Visions', '1.49'),('1', 'Stroke of Genius', '3.99'),('1', 'Impact Tremors', '3.99'),('1', 'Domineering Will', '2.49'),('1', 'Sky Diamond', '0.25'),('1', 'Aetherspouts', '0.35'),('1', 'Illusionists Gambit', '3.49'),('1', 'Incendiary Command', '1.79'),('1', 'Izzet Cluestone', '0.25'),('1', 'Aetherize', '0.99'),('1', 'Shattered Perception', '0.25'),('1', 'Molten Psyche', '4.99'),('1', 'Gravitational Shift', '4.49'),('1', 'Keep Watch', '1.99'),('1', 'Magus of the Jar', '2.29'),('1', 'Neurok Stealthsuit', '1.29'),('1', 'Laquatuss Creativity', '0.25'),('1', 'Whirlpool Drake', '0.25'),('1', 'Whirlpool Rider', '0.25'),('1', 'Tolarian Winds', '0.79'),('1', 'Terminal Moraine', '1.49'),('1', 'Ensnare', '0.29'),('1', 'Flux', '0.25'),('1', 'Unwind', '0.79'),('1', 'Crucible of Worlds', '47.99'),('1', 'Windreader Sphinx', '0.25'),('1', 'Wayfarers Bauble', '2.99'),('1', 'Fire Diamond', '0.59'),('1', 'Khorvaths Fury', '2.29'),('1', 'Game Plan', '0.69'),('1', 'Warped Landscape', '0.49'),('1', 'Mind Stone', '1.49'),('1', 'Aether Gale', '1.29'),('1', 'Lightning Greaves', '10.99'),('1', 'Izzet Guildgate', '0.25'),('1', 'Highland Lake', '0.25'),('1', 'Aether Hub', '0.25'),('1', 'Trinket Mage', '0.29'),('1', 'Treasure Cruise', '0.35'),('1', 'Arcane Denial', '2.79'),('1', 'The Locust God', '4.49'),('1', 'Izzet Boilerworks', '0.25'),('1', 'Skullclamp', '12.99'),('1', 'Psychosis Crawler', '0.69'),('1', 'Izzet Signet', '0.99'),('1', 'NivMizzet the Firemind', '0.39'),('1', 'Magus of the Wheel', '0.99'),('1', 'Windfall', '4.99'),('1', 'Swiftwater Cliffs', '0.25'),('1', 'Hedron Archive', '0.29'),('1', 'Izzet Charm', '0.25'),('7', 'Mountain', '0.79'),('20', 'Island', '0.25'),('1', 'Evolving Wilds', '0.35'),('1', 'Terramorphic Expanse', '0.25'),('1', 'Read the Runes', '1.29'),('1', 'Mana Geyser', '1.49'),('1', 'Counterspell', '1.99'),('1', 'Chaos Warp', '2.29'),('1', 'Sol Ring', '6.99'),('1', 'Careful Consideration', '0.35'),('1', 'NivMizzet Parun', '3.99'),('1', 'ThousandYear Storm', '14.99'),('1', 'Elixir of Immortality', '0.79'),('1', 'Izzet Locket', '0.25'),('1', 'Everflowing Chalice', '1.29'),('1', 'Blustersquall', '0.25'),('1', 'Star Compass', '0.99');\""
      ]
     },
     "execution_count": 12,
     "metadata": {},
     "output_type": "execute_result"
    }
   ],
   "source": [
    "insert_query = 'INSERT INTO locustgod VALUES'\n",
    "for i in range(send_it.shape[0]):\n",
    "    insert_query += \"('\"\n",
    "    \n",
    "    for j in range(send_it.shape[1]):\n",
    "        insert_query += str(send_it[send_it.columns.values[j]][i]) + \"', '\"\n",
    "        \n",
    "    insert_query = insert_query[:-3] + \"),\"\n",
    "    \n",
    "insert_query = insert_query[:-1] + ';'\n",
    "insert_query\n",
    "\n",
    "\n",
    "\n"
   ]
  },
  {
   "cell_type": "code",
   "execution_count": null,
   "metadata": {},
   "outputs": [],
   "source": []
  },
  {
   "cell_type": "code",
   "execution_count": 23,
   "metadata": {},
   "outputs": [],
   "source": []
  },
  {
   "cell_type": "code",
   "execution_count": 13,
   "metadata": {},
   "outputs": [],
   "source": [
    "conn = pymysql.connect(database = 'magic', user = 'root', password = '')"
   ]
  },
  {
   "cell_type": "code",
   "execution_count": 14,
   "metadata": {},
   "outputs": [],
   "source": [
    "cursor = conn.cursor()"
   ]
  },
  {
   "cell_type": "code",
   "execution_count": 15,
   "metadata": {},
   "outputs": [
    {
     "data": {
      "text/plain": [
       "82"
      ]
     },
     "execution_count": 15,
     "metadata": {},
     "output_type": "execute_result"
    }
   ],
   "source": [
    "cursor.execute(insert_query)"
   ]
  },
  {
   "cell_type": "code",
   "execution_count": 16,
   "metadata": {},
   "outputs": [],
   "source": [
    "conn.commit()"
   ]
  },
  {
   "cell_type": "code",
   "execution_count": 17,
   "metadata": {},
   "outputs": [],
   "source": [
    "conn.close()"
   ]
  },
  {
   "cell_type": "code",
   "execution_count": null,
   "metadata": {},
   "outputs": [],
   "source": []
  },
  {
   "cell_type": "code",
   "execution_count": null,
   "metadata": {},
   "outputs": [],
   "source": []
  }
 ],
 "metadata": {
  "celltoolbar": "Raw Cell Format",
  "kernelspec": {
   "display_name": "Python 3",
   "language": "python",
   "name": "python3"
  },
  "language_info": {
   "codemirror_mode": {
    "name": "ipython",
    "version": 3
   },
   "file_extension": ".py",
   "mimetype": "text/x-python",
   "name": "python",
   "nbconvert_exporter": "python",
   "pygments_lexer": "ipython3",
   "version": "3.8.3"
  }
 },
 "nbformat": 4,
 "nbformat_minor": 5
}
